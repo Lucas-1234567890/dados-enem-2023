{
 "cells": [
  {
   "cell_type": "markdown",
   "id": "bbd9ba08",
   "metadata": {},
   "source": [
    "## 📊 Análise de Dados e Visualização com Python  \n",
    "\n",
    "Este script importa e configura as bibliotecas **pandas**, **matplotlib** e **seaborn** para leitura e análise de dados, além de ajustar as configurações do pandas para melhor visualização.\n",
    "\n",
    "### 🛠 Bibliotecas Utilizadas  \n",
    "- `pandas`: Manipulação e análise de dados  \n",
    "- `matplotlib.pyplot`: Criação de gráficos  \n",
    "- `seaborn`: Gráficos estatísticos  \n",
    "- `os`: Interação com o sistema operacional  \n",
    "\n",
    "### 🔧 Configurações Aplicadas  \n",
    "- **Exibição completa de linhas e colunas** para melhor visualização dos DataFrames.  \n",
    "- **Formatação de números** sem notação científica para facilitar a leitura dos dados. "
   ]
  },
  {
   "cell_type": "code",
   "execution_count": 2,
   "id": "c357c854",
   "metadata": {},
   "outputs": [],
   "source": [
    "# importando as bibliotecas para leitura dos dados e criação de gráficos\n",
    "import pandas as pd\n",
    "from matplotlib import pyplot as plt\n",
    "import seaborn as sns\n",
    "import os\n",
    "\n",
    "# configurando pandas para mostrar todas as linhas e colunas\n",
    "pd.set_option('display.max_rows', None)\n",
    "pd.set_option('display.max_columns', None) \n",
    "\n",
    "# configurando pandas para não mostrar notação científica para números\n",
    "pd.set_option('display.float_format', lambda x: '%.2f' % x)"
   ]
  },
  {
   "cell_type": "markdown",
   "id": "7c5ff414",
   "metadata": {},
   "source": [
    "## 🔄 Conversão de CSV para Parquet  \n",
    "\n",
    "Os **microdados do ENEM 2023** foram originalmente disponibilizados no formato **CSV**, mas como esse formato pode ser pesado para análise, vamos convertê-lo para **Parquet**, que é mais eficiente.  \n",
    "\n",
    "### 🚀 Por que usar Parquet?  \n",
    "✅ **Menor tamanho** em disco (compactação eficiente)  \n",
    "✅ **Leitura e escrita mais rápidas**  \n",
    "✅ **Suporte a esquemas e tipos de dados**  \n",
    "✅ **Melhor performance para análise de grandes datasets**  \n",
    "\n",
    "### 📥 Etapas da Conversão  \n",
    "1. **Definir o caminho do arquivo CSV**  \n",
    "2. **Carregar os dados usando `pandas.read_csv()`**  \n",
    "3. **Salvar no formato Parquet com `to_parquet()`**  "
   ]
  },
  {
   "cell_type": "code",
   "execution_count": 4,
   "id": "295316e3",
   "metadata": {},
   "outputs": [
    {
     "name": "stdout",
     "output_type": "stream",
     "text": [
      "Conversão concluída! 🚀\n"
     ]
    }
   ],
   "source": [
    "# Caminhos dos arquivos\n",
    "csv_path = r\"C:\\Users\\Lucas\\Downloads\\microdados_enem_2023 (1)\\DADOS\\MICRODADOS_ENEM_2023.csv\"\n",
    "parquet_path = r'C:\\Users\\Lucas\\Downloads\\microdados_enem_2023 (1)\\DADOS\\MICRODADOS_ENEM_2023.parquet'\n",
    "\n",
    "# Lendo o CSV com encoding correto e separador ';'\n",
    "df_enem = pd.read_csv(csv_path, encoding='latin1', sep=';')\n",
    "\n",
    "# Salvando em formato Parquet\n",
    "df_enem.to_parquet(parquet_path, engine='pyarrow', index=False)\n",
    "\n",
    "print(\"Conversão concluída! 🚀\")\n"
   ]
  },
  {
   "cell_type": "markdown",
   "id": "579400e9",
   "metadata": {},
   "source": [
    "## 📂 Carregamento de Dados do ENEM 2023  \n",
    "\n",
    "Os dados originais estão no formato **CSV**, mas foram convertidos para **Parquet** em outro notebook para **economizar espaço** e **otimizar o desempenho** na leitura.  \n",
    "\n",
    "### 🔹 Vantagens do Parquet  \n",
    "✅ Arquivo mais compacto (menor tamanho comparado ao CSV)  \n",
    "✅ Leitura e escrita mais rápidas  \n",
    "✅ Melhor suporte para análise de grandes volumes de dados  \n",
    "\n",
    "### 📥 Carregando os Dados  \n",
    "O código abaixo lê o arquivo **Parquet** e exibe o número de linhas e colunas:  "
   ]
  },
  {
   "cell_type": "code",
   "execution_count": 6,
   "id": "c95ccfb8",
   "metadata": {},
   "outputs": [
    {
     "data": {
      "text/plain": [
       "(3933955, 76)"
      ]
     },
     "execution_count": 6,
     "metadata": {},
     "output_type": "execute_result"
    }
   ],
   "source": [
    "# Os dados originais estão em csv, mas salvar em parquet economiza espaço - converti em outro notebook\n",
    "df_enem = pd.read_parquet(r'C:\\Users\\Lucas\\Downloads\\microdados_enem_2023 (1)\\DADOS\\MICRODADOS_ENEM_2023.parquet',engine='fastparquet')\n",
    "df_enem.shape"
   ]
  },
  {
   "cell_type": "markdown",
   "id": "e49e7fd7",
   "metadata": {},
   "source": [
    "## 👀 Primeira Visualização dos Dados  \n",
    "\n",
    "Após carregar os dados do ENEM 2023, é importante fazer uma **inspeção inicial** para verificar se a leitura ocorreu corretamente e entender a estrutura do dataset.  \n",
    "\n",
    "### 🔎 O que `df_enem.head()` faz?  \n",
    "✔ Exibe as **primeiras 5 linhas** do DataFrame  \n",
    "✔ Ajuda a identificar **nomes de colunas**  \n",
    "✔ Permite verificar **tipos de dados** e valores iniciais  \n",
    "\n"
   ]
  },
  {
   "cell_type": "code",
   "execution_count": 7,
   "id": "ed03fd27",
   "metadata": {},
   "outputs": [
    {
     "data": {
      "text/html": [
       "<div>\n",
       "<style scoped>\n",
       "    .dataframe tbody tr th:only-of-type {\n",
       "        vertical-align: middle;\n",
       "    }\n",
       "\n",
       "    .dataframe tbody tr th {\n",
       "        vertical-align: top;\n",
       "    }\n",
       "\n",
       "    .dataframe thead th {\n",
       "        text-align: right;\n",
       "    }\n",
       "</style>\n",
       "<table border=\"1\" class=\"dataframe\">\n",
       "  <thead>\n",
       "    <tr style=\"text-align: right;\">\n",
       "      <th></th>\n",
       "      <th>NU_INSCRICAO</th>\n",
       "      <th>NU_ANO</th>\n",
       "      <th>TP_FAIXA_ETARIA</th>\n",
       "      <th>TP_SEXO</th>\n",
       "      <th>TP_ESTADO_CIVIL</th>\n",
       "      <th>TP_COR_RACA</th>\n",
       "      <th>TP_NACIONALIDADE</th>\n",
       "      <th>TP_ST_CONCLUSAO</th>\n",
       "      <th>TP_ANO_CONCLUIU</th>\n",
       "      <th>TP_ESCOLA</th>\n",
       "      <th>TP_ENSINO</th>\n",
       "      <th>IN_TREINEIRO</th>\n",
       "      <th>CO_MUNICIPIO_ESC</th>\n",
       "      <th>NO_MUNICIPIO_ESC</th>\n",
       "      <th>CO_UF_ESC</th>\n",
       "      <th>SG_UF_ESC</th>\n",
       "      <th>TP_DEPENDENCIA_ADM_ESC</th>\n",
       "      <th>TP_LOCALIZACAO_ESC</th>\n",
       "      <th>TP_SIT_FUNC_ESC</th>\n",
       "      <th>CO_MUNICIPIO_PROVA</th>\n",
       "      <th>NO_MUNICIPIO_PROVA</th>\n",
       "      <th>CO_UF_PROVA</th>\n",
       "      <th>SG_UF_PROVA</th>\n",
       "      <th>TP_PRESENCA_CN</th>\n",
       "      <th>TP_PRESENCA_CH</th>\n",
       "      <th>TP_PRESENCA_LC</th>\n",
       "      <th>TP_PRESENCA_MT</th>\n",
       "      <th>CO_PROVA_CN</th>\n",
       "      <th>CO_PROVA_CH</th>\n",
       "      <th>CO_PROVA_LC</th>\n",
       "      <th>CO_PROVA_MT</th>\n",
       "      <th>NU_NOTA_CN</th>\n",
       "      <th>NU_NOTA_CH</th>\n",
       "      <th>NU_NOTA_LC</th>\n",
       "      <th>NU_NOTA_MT</th>\n",
       "      <th>TX_RESPOSTAS_CN</th>\n",
       "      <th>TX_RESPOSTAS_CH</th>\n",
       "      <th>TX_RESPOSTAS_LC</th>\n",
       "      <th>TX_RESPOSTAS_MT</th>\n",
       "      <th>TP_LINGUA</th>\n",
       "      <th>TX_GABARITO_CN</th>\n",
       "      <th>TX_GABARITO_CH</th>\n",
       "      <th>TX_GABARITO_LC</th>\n",
       "      <th>TX_GABARITO_MT</th>\n",
       "      <th>TP_STATUS_REDACAO</th>\n",
       "      <th>NU_NOTA_COMP1</th>\n",
       "      <th>NU_NOTA_COMP2</th>\n",
       "      <th>NU_NOTA_COMP3</th>\n",
       "      <th>NU_NOTA_COMP4</th>\n",
       "      <th>NU_NOTA_COMP5</th>\n",
       "      <th>NU_NOTA_REDACAO</th>\n",
       "      <th>Q001</th>\n",
       "      <th>Q002</th>\n",
       "      <th>Q003</th>\n",
       "      <th>Q004</th>\n",
       "      <th>Q005</th>\n",
       "      <th>Q006</th>\n",
       "      <th>Q007</th>\n",
       "      <th>Q008</th>\n",
       "      <th>Q009</th>\n",
       "      <th>Q010</th>\n",
       "      <th>Q011</th>\n",
       "      <th>Q012</th>\n",
       "      <th>Q013</th>\n",
       "      <th>Q014</th>\n",
       "      <th>Q015</th>\n",
       "      <th>Q016</th>\n",
       "      <th>Q017</th>\n",
       "      <th>Q018</th>\n",
       "      <th>Q019</th>\n",
       "      <th>Q020</th>\n",
       "      <th>Q021</th>\n",
       "      <th>Q022</th>\n",
       "      <th>Q023</th>\n",
       "      <th>Q024</th>\n",
       "      <th>Q025</th>\n",
       "    </tr>\n",
       "  </thead>\n",
       "  <tbody>\n",
       "    <tr>\n",
       "      <th>0</th>\n",
       "      <td>210059085136</td>\n",
       "      <td>2023</td>\n",
       "      <td>14</td>\n",
       "      <td>M</td>\n",
       "      <td>2</td>\n",
       "      <td>1</td>\n",
       "      <td>1</td>\n",
       "      <td>1</td>\n",
       "      <td>17</td>\n",
       "      <td>1</td>\n",
       "      <td>NaN</td>\n",
       "      <td>0</td>\n",
       "      <td>NaN</td>\n",
       "      <td>None</td>\n",
       "      <td>NaN</td>\n",
       "      <td>None</td>\n",
       "      <td>NaN</td>\n",
       "      <td>NaN</td>\n",
       "      <td>NaN</td>\n",
       "      <td>5300108</td>\n",
       "      <td>Brasília</td>\n",
       "      <td>53</td>\n",
       "      <td>DF</td>\n",
       "      <td>0</td>\n",
       "      <td>0</td>\n",
       "      <td>0</td>\n",
       "      <td>0</td>\n",
       "      <td>NaN</td>\n",
       "      <td>NaN</td>\n",
       "      <td>NaN</td>\n",
       "      <td>NaN</td>\n",
       "      <td>NaN</td>\n",
       "      <td>NaN</td>\n",
       "      <td>NaN</td>\n",
       "      <td>NaN</td>\n",
       "      <td>None</td>\n",
       "      <td>None</td>\n",
       "      <td>None</td>\n",
       "      <td>None</td>\n",
       "      <td>0</td>\n",
       "      <td>None</td>\n",
       "      <td>None</td>\n",
       "      <td>None</td>\n",
       "      <td>None</td>\n",
       "      <td>NaN</td>\n",
       "      <td>NaN</td>\n",
       "      <td>NaN</td>\n",
       "      <td>NaN</td>\n",
       "      <td>NaN</td>\n",
       "      <td>NaN</td>\n",
       "      <td>NaN</td>\n",
       "      <td>A</td>\n",
       "      <td>F</td>\n",
       "      <td>E</td>\n",
       "      <td>D</td>\n",
       "      <td>5</td>\n",
       "      <td>F</td>\n",
       "      <td>C</td>\n",
       "      <td>C</td>\n",
       "      <td>D</td>\n",
       "      <td>C</td>\n",
       "      <td>D</td>\n",
       "      <td>C</td>\n",
       "      <td>B</td>\n",
       "      <td>B</td>\n",
       "      <td>D</td>\n",
       "      <td>C</td>\n",
       "      <td>C</td>\n",
       "      <td>B</td>\n",
       "      <td>B</td>\n",
       "      <td>A</td>\n",
       "      <td>B</td>\n",
       "      <td>B</td>\n",
       "      <td>A</td>\n",
       "      <td>A</td>\n",
       "      <td>B</td>\n",
       "    </tr>\n",
       "    <tr>\n",
       "      <th>1</th>\n",
       "      <td>210059527735</td>\n",
       "      <td>2023</td>\n",
       "      <td>12</td>\n",
       "      <td>M</td>\n",
       "      <td>2</td>\n",
       "      <td>1</td>\n",
       "      <td>0</td>\n",
       "      <td>1</td>\n",
       "      <td>16</td>\n",
       "      <td>1</td>\n",
       "      <td>NaN</td>\n",
       "      <td>0</td>\n",
       "      <td>NaN</td>\n",
       "      <td>None</td>\n",
       "      <td>NaN</td>\n",
       "      <td>None</td>\n",
       "      <td>NaN</td>\n",
       "      <td>NaN</td>\n",
       "      <td>NaN</td>\n",
       "      <td>5300108</td>\n",
       "      <td>Brasília</td>\n",
       "      <td>53</td>\n",
       "      <td>DF</td>\n",
       "      <td>0</td>\n",
       "      <td>0</td>\n",
       "      <td>0</td>\n",
       "      <td>0</td>\n",
       "      <td>NaN</td>\n",
       "      <td>NaN</td>\n",
       "      <td>NaN</td>\n",
       "      <td>NaN</td>\n",
       "      <td>NaN</td>\n",
       "      <td>NaN</td>\n",
       "      <td>NaN</td>\n",
       "      <td>NaN</td>\n",
       "      <td>None</td>\n",
       "      <td>None</td>\n",
       "      <td>None</td>\n",
       "      <td>None</td>\n",
       "      <td>0</td>\n",
       "      <td>None</td>\n",
       "      <td>None</td>\n",
       "      <td>None</td>\n",
       "      <td>None</td>\n",
       "      <td>NaN</td>\n",
       "      <td>NaN</td>\n",
       "      <td>NaN</td>\n",
       "      <td>NaN</td>\n",
       "      <td>NaN</td>\n",
       "      <td>NaN</td>\n",
       "      <td>NaN</td>\n",
       "      <td>F</td>\n",
       "      <td>E</td>\n",
       "      <td>E</td>\n",
       "      <td>B</td>\n",
       "      <td>3</td>\n",
       "      <td>H</td>\n",
       "      <td>A</td>\n",
       "      <td>B</td>\n",
       "      <td>C</td>\n",
       "      <td>C</td>\n",
       "      <td>A</td>\n",
       "      <td>B</td>\n",
       "      <td>B</td>\n",
       "      <td>B</td>\n",
       "      <td>A</td>\n",
       "      <td>B</td>\n",
       "      <td>A</td>\n",
       "      <td>B</td>\n",
       "      <td>B</td>\n",
       "      <td>A</td>\n",
       "      <td>A</td>\n",
       "      <td>C</td>\n",
       "      <td>A</td>\n",
       "      <td>D</td>\n",
       "      <td>B</td>\n",
       "    </tr>\n",
       "    <tr>\n",
       "      <th>2</th>\n",
       "      <td>210061103945</td>\n",
       "      <td>2023</td>\n",
       "      <td>6</td>\n",
       "      <td>F</td>\n",
       "      <td>1</td>\n",
       "      <td>1</td>\n",
       "      <td>1</td>\n",
       "      <td>1</td>\n",
       "      <td>0</td>\n",
       "      <td>1</td>\n",
       "      <td>NaN</td>\n",
       "      <td>0</td>\n",
       "      <td>NaN</td>\n",
       "      <td>None</td>\n",
       "      <td>NaN</td>\n",
       "      <td>None</td>\n",
       "      <td>NaN</td>\n",
       "      <td>NaN</td>\n",
       "      <td>NaN</td>\n",
       "      <td>4305108</td>\n",
       "      <td>Caxias do Sul</td>\n",
       "      <td>43</td>\n",
       "      <td>RS</td>\n",
       "      <td>1</td>\n",
       "      <td>1</td>\n",
       "      <td>1</td>\n",
       "      <td>1</td>\n",
       "      <td>1221.00</td>\n",
       "      <td>1193.00</td>\n",
       "      <td>1204.00</td>\n",
       "      <td>1211.00</td>\n",
       "      <td>502.00</td>\n",
       "      <td>498.90</td>\n",
       "      <td>475.60</td>\n",
       "      <td>363.20</td>\n",
       "      <td>DBEBDCECCBCEBBBBDBABDDBBAABCBACDBACECCBAADEBB</td>\n",
       "      <td>ABDEADAADCDABDCADAEABCDDCBAADCCBEBCEBEBDBEAED</td>\n",
       "      <td>ACEBDCABAACAEBAECEBBBAAECBBDEADCAECCCEDDABEED</td>\n",
       "      <td>CEAEACCCDABCDAACEDDBAAEBABDDEEBDAECABDBCBCADE</td>\n",
       "      <td>1</td>\n",
       "      <td>DBEABDABDCACDBECDDDBCAAABBACCCADEBECCCEDAEEED</td>\n",
       "      <td>ACEEABAADCDAADEABCDABCDCABCBDADEBAECABADBCDAE</td>\n",
       "      <td>DBABBAEBAAAACDACDEDAACADBADBCCEACCCEAAECBBEBCA...</td>\n",
       "      <td>BCCDEEABCBEDCEABBEBDABDDADDADECAADDCCBEBEABCC</td>\n",
       "      <td>1.00</td>\n",
       "      <td>140.00</td>\n",
       "      <td>200.00</td>\n",
       "      <td>100.00</td>\n",
       "      <td>120.00</td>\n",
       "      <td>140.00</td>\n",
       "      <td>700.00</td>\n",
       "      <td>H</td>\n",
       "      <td>E</td>\n",
       "      <td>C</td>\n",
       "      <td>F</td>\n",
       "      <td>5</td>\n",
       "      <td>C</td>\n",
       "      <td>A</td>\n",
       "      <td>B</td>\n",
       "      <td>D</td>\n",
       "      <td>B</td>\n",
       "      <td>A</td>\n",
       "      <td>B</td>\n",
       "      <td>A</td>\n",
       "      <td>B</td>\n",
       "      <td>A</td>\n",
       "      <td>B</td>\n",
       "      <td>A</td>\n",
       "      <td>A</td>\n",
       "      <td>B</td>\n",
       "      <td>A</td>\n",
       "      <td>A</td>\n",
       "      <td>A</td>\n",
       "      <td>A</td>\n",
       "      <td>A</td>\n",
       "      <td>B</td>\n",
       "    </tr>\n",
       "    <tr>\n",
       "      <th>3</th>\n",
       "      <td>210060214087</td>\n",
       "      <td>2023</td>\n",
       "      <td>2</td>\n",
       "      <td>F</td>\n",
       "      <td>1</td>\n",
       "      <td>3</td>\n",
       "      <td>1</td>\n",
       "      <td>2</td>\n",
       "      <td>0</td>\n",
       "      <td>2</td>\n",
       "      <td>1.00</td>\n",
       "      <td>0</td>\n",
       "      <td>2304400.00</td>\n",
       "      <td>Fortaleza</td>\n",
       "      <td>23.00</td>\n",
       "      <td>CE</td>\n",
       "      <td>2.00</td>\n",
       "      <td>1.00</td>\n",
       "      <td>1.00</td>\n",
       "      <td>2304400</td>\n",
       "      <td>Fortaleza</td>\n",
       "      <td>23</td>\n",
       "      <td>CE</td>\n",
       "      <td>1</td>\n",
       "      <td>1</td>\n",
       "      <td>1</td>\n",
       "      <td>1</td>\n",
       "      <td>1224.00</td>\n",
       "      <td>1192.00</td>\n",
       "      <td>1202.00</td>\n",
       "      <td>1214.00</td>\n",
       "      <td>459.00</td>\n",
       "      <td>508.50</td>\n",
       "      <td>507.20</td>\n",
       "      <td>466.70</td>\n",
       "      <td>DEEBEACCCEBDDBDCCCAEEDCBAAADBCBEEEDCDAAECBEEC</td>\n",
       "      <td>DDAAEEBCCDEADBCDDCBAECABEBDEBDABECECEDCDDAEED</td>\n",
       "      <td>ADBDADAEEEACAABBACADCAEBBAAEBBCDEBBDDADDCADAA</td>\n",
       "      <td>EECBAEDEEDDDBBAADEECDBBBECEAACEAEECDBEDDBCDCB</td>\n",
       "      <td>0</td>\n",
       "      <td>CDDDABBABDBEABDECCEEEDCEDAEBABDCCAACCCADACDBE</td>\n",
       "      <td>DBAADEADCDCABABCDDEBAEABAECABAACECDAECBDAABCD</td>\n",
       "      <td>BBBDAABAEACCEEEDEACBCACAACAACAAAECBBEDBCCADBDE...</td>\n",
       "      <td>EBDADDAEBEACBEDCECCBEABCADEBCCBCCDEBDDAABBADD</td>\n",
       "      <td>1.00</td>\n",
       "      <td>140.00</td>\n",
       "      <td>200.00</td>\n",
       "      <td>160.00</td>\n",
       "      <td>180.00</td>\n",
       "      <td>200.00</td>\n",
       "      <td>880.00</td>\n",
       "      <td>D</td>\n",
       "      <td>D</td>\n",
       "      <td>B</td>\n",
       "      <td>B</td>\n",
       "      <td>5</td>\n",
       "      <td>C</td>\n",
       "      <td>A</td>\n",
       "      <td>B</td>\n",
       "      <td>B</td>\n",
       "      <td>A</td>\n",
       "      <td>A</td>\n",
       "      <td>B</td>\n",
       "      <td>A</td>\n",
       "      <td>A</td>\n",
       "      <td>A</td>\n",
       "      <td>A</td>\n",
       "      <td>A</td>\n",
       "      <td>A</td>\n",
       "      <td>B</td>\n",
       "      <td>A</td>\n",
       "      <td>A</td>\n",
       "      <td>D</td>\n",
       "      <td>A</td>\n",
       "      <td>A</td>\n",
       "      <td>B</td>\n",
       "    </tr>\n",
       "    <tr>\n",
       "      <th>4</th>\n",
       "      <td>210059980948</td>\n",
       "      <td>2023</td>\n",
       "      <td>3</td>\n",
       "      <td>F</td>\n",
       "      <td>1</td>\n",
       "      <td>3</td>\n",
       "      <td>1</td>\n",
       "      <td>2</td>\n",
       "      <td>0</td>\n",
       "      <td>2</td>\n",
       "      <td>1.00</td>\n",
       "      <td>0</td>\n",
       "      <td>2311306.00</td>\n",
       "      <td>Quixadá</td>\n",
       "      <td>23.00</td>\n",
       "      <td>CE</td>\n",
       "      <td>2.00</td>\n",
       "      <td>1.00</td>\n",
       "      <td>1.00</td>\n",
       "      <td>2311306</td>\n",
       "      <td>Quixadá</td>\n",
       "      <td>23</td>\n",
       "      <td>CE</td>\n",
       "      <td>1</td>\n",
       "      <td>1</td>\n",
       "      <td>1</td>\n",
       "      <td>1</td>\n",
       "      <td>1222.00</td>\n",
       "      <td>1191.00</td>\n",
       "      <td>1201.00</td>\n",
       "      <td>1212.00</td>\n",
       "      <td>402.50</td>\n",
       "      <td>379.20</td>\n",
       "      <td>446.90</td>\n",
       "      <td>338.30</td>\n",
       "      <td>AECCEAACDEABEEECDBAEEAAADDEABCBCEBACEEDCBEABD</td>\n",
       "      <td>CADEBCEDDEBCBAEBADDCECACADBDEBABDBDBEEDBBEADC</td>\n",
       "      <td>AABBACBCAEDABDADEDAACCAEEEECAACDCADBAEACDEAAE</td>\n",
       "      <td>CDBABEDCEEBBBDECDEBACCAABDEDCBECDECABBDBDEECC</td>\n",
       "      <td>0</td>\n",
       "      <td>CAAADCCCCDDDABDCACDBEEEDCEDAEECCDBEABDBABBAEB</td>\n",
       "      <td>CDAEECABAACEAADECBDAABCDCABADCDEABAABCDDEBADB</td>\n",
       "      <td>BBDABAAEBADACEEDCCDBADBDEDCCEBCACEACAACAACACBB...</td>\n",
       "      <td>DCECACCBDECBEEABEABDDAADDABBBCCBCCDDAEBDADEEB</td>\n",
       "      <td>1.00</td>\n",
       "      <td>120.00</td>\n",
       "      <td>120.00</td>\n",
       "      <td>120.00</td>\n",
       "      <td>120.00</td>\n",
       "      <td>80.00</td>\n",
       "      <td>560.00</td>\n",
       "      <td>B</td>\n",
       "      <td>B</td>\n",
       "      <td>A</td>\n",
       "      <td>A</td>\n",
       "      <td>4</td>\n",
       "      <td>B</td>\n",
       "      <td>A</td>\n",
       "      <td>B</td>\n",
       "      <td>A</td>\n",
       "      <td>A</td>\n",
       "      <td>A</td>\n",
       "      <td>B</td>\n",
       "      <td>A</td>\n",
       "      <td>A</td>\n",
       "      <td>A</td>\n",
       "      <td>A</td>\n",
       "      <td>A</td>\n",
       "      <td>A</td>\n",
       "      <td>B</td>\n",
       "      <td>A</td>\n",
       "      <td>A</td>\n",
       "      <td>B</td>\n",
       "      <td>A</td>\n",
       "      <td>A</td>\n",
       "      <td>A</td>\n",
       "    </tr>\n",
       "  </tbody>\n",
       "</table>\n",
       "</div>"
      ],
      "text/plain": [
       "   NU_INSCRICAO  NU_ANO  TP_FAIXA_ETARIA TP_SEXO  TP_ESTADO_CIVIL  \\\n",
       "0  210059085136    2023               14       M                2   \n",
       "1  210059527735    2023               12       M                2   \n",
       "2  210061103945    2023                6       F                1   \n",
       "3  210060214087    2023                2       F                1   \n",
       "4  210059980948    2023                3       F                1   \n",
       "\n",
       "   TP_COR_RACA  TP_NACIONALIDADE  TP_ST_CONCLUSAO  TP_ANO_CONCLUIU  TP_ESCOLA  \\\n",
       "0            1                 1                1               17          1   \n",
       "1            1                 0                1               16          1   \n",
       "2            1                 1                1                0          1   \n",
       "3            3                 1                2                0          2   \n",
       "4            3                 1                2                0          2   \n",
       "\n",
       "   TP_ENSINO  IN_TREINEIRO  CO_MUNICIPIO_ESC NO_MUNICIPIO_ESC  CO_UF_ESC  \\\n",
       "0        NaN             0               NaN             None        NaN   \n",
       "1        NaN             0               NaN             None        NaN   \n",
       "2        NaN             0               NaN             None        NaN   \n",
       "3       1.00             0        2304400.00        Fortaleza      23.00   \n",
       "4       1.00             0        2311306.00          Quixadá      23.00   \n",
       "\n",
       "  SG_UF_ESC  TP_DEPENDENCIA_ADM_ESC  TP_LOCALIZACAO_ESC  TP_SIT_FUNC_ESC  \\\n",
       "0      None                     NaN                 NaN              NaN   \n",
       "1      None                     NaN                 NaN              NaN   \n",
       "2      None                     NaN                 NaN              NaN   \n",
       "3        CE                    2.00                1.00             1.00   \n",
       "4        CE                    2.00                1.00             1.00   \n",
       "\n",
       "   CO_MUNICIPIO_PROVA NO_MUNICIPIO_PROVA  CO_UF_PROVA SG_UF_PROVA  \\\n",
       "0             5300108           Brasília           53          DF   \n",
       "1             5300108           Brasília           53          DF   \n",
       "2             4305108      Caxias do Sul           43          RS   \n",
       "3             2304400          Fortaleza           23          CE   \n",
       "4             2311306            Quixadá           23          CE   \n",
       "\n",
       "   TP_PRESENCA_CN  TP_PRESENCA_CH  TP_PRESENCA_LC  TP_PRESENCA_MT  \\\n",
       "0               0               0               0               0   \n",
       "1               0               0               0               0   \n",
       "2               1               1               1               1   \n",
       "3               1               1               1               1   \n",
       "4               1               1               1               1   \n",
       "\n",
       "   CO_PROVA_CN  CO_PROVA_CH  CO_PROVA_LC  CO_PROVA_MT  NU_NOTA_CN  NU_NOTA_CH  \\\n",
       "0          NaN          NaN          NaN          NaN         NaN         NaN   \n",
       "1          NaN          NaN          NaN          NaN         NaN         NaN   \n",
       "2      1221.00      1193.00      1204.00      1211.00      502.00      498.90   \n",
       "3      1224.00      1192.00      1202.00      1214.00      459.00      508.50   \n",
       "4      1222.00      1191.00      1201.00      1212.00      402.50      379.20   \n",
       "\n",
       "   NU_NOTA_LC  NU_NOTA_MT                                TX_RESPOSTAS_CN  \\\n",
       "0         NaN         NaN                                           None   \n",
       "1         NaN         NaN                                           None   \n",
       "2      475.60      363.20  DBEBDCECCBCEBBBBDBABDDBBAABCBACDBACECCBAADEBB   \n",
       "3      507.20      466.70  DEEBEACCCEBDDBDCCCAEEDCBAAADBCBEEEDCDAAECBEEC   \n",
       "4      446.90      338.30  AECCEAACDEABEEECDBAEEAAADDEABCBCEBACEEDCBEABD   \n",
       "\n",
       "                                 TX_RESPOSTAS_CH  \\\n",
       "0                                           None   \n",
       "1                                           None   \n",
       "2  ABDEADAADCDABDCADAEABCDDCBAADCCBEBCEBEBDBEAED   \n",
       "3  DDAAEEBCCDEADBCDDCBAECABEBDEBDABECECEDCDDAEED   \n",
       "4  CADEBCEDDEBCBAEBADDCECACADBDEBABDBDBEEDBBEADC   \n",
       "\n",
       "                                 TX_RESPOSTAS_LC  \\\n",
       "0                                           None   \n",
       "1                                           None   \n",
       "2  ACEBDCABAACAEBAECEBBBAAECBBDEADCAECCCEDDABEED   \n",
       "3  ADBDADAEEEACAABBACADCAEBBAAEBBCDEBBDDADDCADAA   \n",
       "4  AABBACBCAEDABDADEDAACCAEEEECAACDCADBAEACDEAAE   \n",
       "\n",
       "                                 TX_RESPOSTAS_MT  TP_LINGUA  \\\n",
       "0                                           None          0   \n",
       "1                                           None          0   \n",
       "2  CEAEACCCDABCDAACEDDBAAEBABDDEEBDAECABDBCBCADE          1   \n",
       "3  EECBAEDEEDDDBBAADEECDBBBECEAACEAEECDBEDDBCDCB          0   \n",
       "4  CDBABEDCEEBBBDECDEBACCAABDEDCBECDECABBDBDEECC          0   \n",
       "\n",
       "                                  TX_GABARITO_CN  \\\n",
       "0                                           None   \n",
       "1                                           None   \n",
       "2  DBEABDABDCACDBECDDDBCAAABBACCCADEBECCCEDAEEED   \n",
       "3  CDDDABBABDBEABDECCEEEDCEDAEBABDCCAACCCADACDBE   \n",
       "4  CAAADCCCCDDDABDCACDBEEEDCEDAEECCDBEABDBABBAEB   \n",
       "\n",
       "                                  TX_GABARITO_CH  \\\n",
       "0                                           None   \n",
       "1                                           None   \n",
       "2  ACEEABAADCDAADEABCDABCDCABCBDADEBAECABADBCDAE   \n",
       "3  DBAADEADCDCABABCDDEBAEABAECABAACECDAECBDAABCD   \n",
       "4  CDAEECABAACEAADECBDAABCDCABADCDEABAABCDDEBADB   \n",
       "\n",
       "                                      TX_GABARITO_LC  \\\n",
       "0                                               None   \n",
       "1                                               None   \n",
       "2  DBABBAEBAAAACDACDEDAACADBADBCCEACCCEAAECBBEBCA...   \n",
       "3  BBBDAABAEACCEEEDEACBCACAACAACAAAECBBEDBCCADBDE...   \n",
       "4  BBDABAAEBADACEEDCCDBADBDEDCCEBCACEACAACAACACBB...   \n",
       "\n",
       "                                  TX_GABARITO_MT  TP_STATUS_REDACAO  \\\n",
       "0                                           None                NaN   \n",
       "1                                           None                NaN   \n",
       "2  BCCDEEABCBEDCEABBEBDABDDADDADECAADDCCBEBEABCC               1.00   \n",
       "3  EBDADDAEBEACBEDCECCBEABCADEBCCBCCDEBDDAABBADD               1.00   \n",
       "4  DCECACCBDECBEEABEABDDAADDABBBCCBCCDDAEBDADEEB               1.00   \n",
       "\n",
       "   NU_NOTA_COMP1  NU_NOTA_COMP2  NU_NOTA_COMP3  NU_NOTA_COMP4  NU_NOTA_COMP5  \\\n",
       "0            NaN            NaN            NaN            NaN            NaN   \n",
       "1            NaN            NaN            NaN            NaN            NaN   \n",
       "2         140.00         200.00         100.00         120.00         140.00   \n",
       "3         140.00         200.00         160.00         180.00         200.00   \n",
       "4         120.00         120.00         120.00         120.00          80.00   \n",
       "\n",
       "   NU_NOTA_REDACAO Q001 Q002 Q003 Q004  Q005 Q006 Q007 Q008 Q009 Q010 Q011  \\\n",
       "0              NaN    A    F    E    D     5    F    C    C    D    C    D   \n",
       "1              NaN    F    E    E    B     3    H    A    B    C    C    A   \n",
       "2           700.00    H    E    C    F     5    C    A    B    D    B    A   \n",
       "3           880.00    D    D    B    B     5    C    A    B    B    A    A   \n",
       "4           560.00    B    B    A    A     4    B    A    B    A    A    A   \n",
       "\n",
       "  Q012 Q013 Q014 Q015 Q016 Q017 Q018 Q019 Q020 Q021 Q022 Q023 Q024 Q025  \n",
       "0    C    B    B    D    C    C    B    B    A    B    B    A    A    B  \n",
       "1    B    B    B    A    B    A    B    B    A    A    C    A    D    B  \n",
       "2    B    A    B    A    B    A    A    B    A    A    A    A    A    B  \n",
       "3    B    A    A    A    A    A    A    B    A    A    D    A    A    B  \n",
       "4    B    A    A    A    A    A    A    B    A    A    B    A    A    A  "
      ]
     },
     "execution_count": 7,
     "metadata": {},
     "output_type": "execute_result"
    }
   ],
   "source": [
    "# Primeira visualização dos dados\n",
    "\n",
    "df_enem.head()"
   ]
  },
  {
   "cell_type": "code",
   "execution_count": 8,
   "id": "7fedbb98",
   "metadata": {},
   "outputs": [
    {
     "data": {
      "text/plain": [
       "(3933955, 76)"
      ]
     },
     "execution_count": 8,
     "metadata": {},
     "output_type": "execute_result"
    }
   ],
   "source": [
    "# Quantidade de linhas e colunas\n",
    "df_enem.shape"
   ]
  },
  {
   "cell_type": "markdown",
   "id": "7e8d67d1",
   "metadata": {},
   "source": [
    "## 🏷️ Verificando os Tipos de Dados  \n",
    "\n",
    "Antes de realizar análises, é fundamental entender os **tipos de dados** das colunas. Isso ajuda a evitar problemas com cálculos, filtros e visualizações.  \n",
    "\n",
    "### 🔎 O que `df_enem.dtypes` faz?  \n",
    "✔ Retorna o **tipo de dado** de cada coluna do DataFrame  \n",
    "✔ Permite identificar colunas que precisam de **conversão** (ex: números lidos como string)  \n",
    "✔ Ajuda a otimizar operações de análise e manipulação  \n",
    "\n",
    "\n"
   ]
  },
  {
   "cell_type": "code",
   "execution_count": 9,
   "id": "d4bec7d3",
   "metadata": {},
   "outputs": [
    {
     "data": {
      "text/plain": [
       "NU_INSCRICAO                int64\n",
       "NU_ANO                      int64\n",
       "TP_FAIXA_ETARIA             int64\n",
       "TP_SEXO                    object\n",
       "TP_ESTADO_CIVIL             int64\n",
       "TP_COR_RACA                 int64\n",
       "TP_NACIONALIDADE            int64\n",
       "TP_ST_CONCLUSAO             int64\n",
       "TP_ANO_CONCLUIU             int64\n",
       "TP_ESCOLA                   int64\n",
       "TP_ENSINO                 float64\n",
       "IN_TREINEIRO                int64\n",
       "CO_MUNICIPIO_ESC          float64\n",
       "NO_MUNICIPIO_ESC           object\n",
       "CO_UF_ESC                 float64\n",
       "SG_UF_ESC                  object\n",
       "TP_DEPENDENCIA_ADM_ESC    float64\n",
       "TP_LOCALIZACAO_ESC        float64\n",
       "TP_SIT_FUNC_ESC           float64\n",
       "CO_MUNICIPIO_PROVA          int64\n",
       "NO_MUNICIPIO_PROVA         object\n",
       "CO_UF_PROVA                 int64\n",
       "SG_UF_PROVA                object\n",
       "TP_PRESENCA_CN              int64\n",
       "TP_PRESENCA_CH              int64\n",
       "TP_PRESENCA_LC              int64\n",
       "TP_PRESENCA_MT              int64\n",
       "CO_PROVA_CN               float64\n",
       "CO_PROVA_CH               float64\n",
       "CO_PROVA_LC               float64\n",
       "CO_PROVA_MT               float64\n",
       "NU_NOTA_CN                float64\n",
       "NU_NOTA_CH                float64\n",
       "NU_NOTA_LC                float64\n",
       "NU_NOTA_MT                float64\n",
       "TX_RESPOSTAS_CN            object\n",
       "TX_RESPOSTAS_CH            object\n",
       "TX_RESPOSTAS_LC            object\n",
       "TX_RESPOSTAS_MT            object\n",
       "TP_LINGUA                   int64\n",
       "TX_GABARITO_CN             object\n",
       "TX_GABARITO_CH             object\n",
       "TX_GABARITO_LC             object\n",
       "TX_GABARITO_MT             object\n",
       "TP_STATUS_REDACAO         float64\n",
       "NU_NOTA_COMP1             float64\n",
       "NU_NOTA_COMP2             float64\n",
       "NU_NOTA_COMP3             float64\n",
       "NU_NOTA_COMP4             float64\n",
       "NU_NOTA_COMP5             float64\n",
       "NU_NOTA_REDACAO           float64\n",
       "Q001                       object\n",
       "Q002                       object\n",
       "Q003                       object\n",
       "Q004                       object\n",
       "Q005                        int64\n",
       "Q006                       object\n",
       "Q007                       object\n",
       "Q008                       object\n",
       "Q009                       object\n",
       "Q010                       object\n",
       "Q011                       object\n",
       "Q012                       object\n",
       "Q013                       object\n",
       "Q014                       object\n",
       "Q015                       object\n",
       "Q016                       object\n",
       "Q017                       object\n",
       "Q018                       object\n",
       "Q019                       object\n",
       "Q020                       object\n",
       "Q021                       object\n",
       "Q022                       object\n",
       "Q023                       object\n",
       "Q024                       object\n",
       "Q025                       object\n",
       "dtype: object"
      ]
     },
     "execution_count": 9,
     "metadata": {},
     "output_type": "execute_result"
    }
   ],
   "source": [
    "df_enem.dtypes"
   ]
  },
  {
   "cell_type": "markdown",
   "id": "c32c00fd",
   "metadata": {},
   "source": [
    "## 🗑️ Removendo Colunas de Notas e Outras Colunas Irrelevantes  \n",
    "\n",
    "Neste passo, estamos removendo as **colunas de notas das questões**, assim como as colunas de **código** e **município**, já que não vamos analisar esses dados.  \n",
    "\n",
    "### 🔎 O que esse código faz?  \n",
    "✔ **Identifica** todas as colunas que **começam com `'TX_'`** (notas das questões)  \n",
    "✔ **Usa List Comprehension** para criar uma lista dessas colunas de forma compacta e eficiente  \n",
    "✔ **Lista** essas colunas para conferência antes da remoção  \n",
    "✔ Além disso, também identificaremos as colunas de **código** e **município** para remover  "
   ]
  },
  {
   "cell_type": "code",
   "execution_count": 10,
   "id": "f6cc20e5",
   "metadata": {
    "scrolled": true
   },
   "outputs": [
    {
     "data": {
      "text/plain": [
       "['NU_INSCRICAO',\n",
       " 'NU_ANO',\n",
       " 'NU_NOTA_CN',\n",
       " 'NU_NOTA_CH',\n",
       " 'NU_NOTA_LC',\n",
       " 'NU_NOTA_MT',\n",
       " 'NU_NOTA_COMP1',\n",
       " 'NU_NOTA_COMP2',\n",
       " 'NU_NOTA_COMP3',\n",
       " 'NU_NOTA_COMP4',\n",
       " 'NU_NOTA_COMP5',\n",
       " 'NU_NOTA_REDACAO']"
      ]
     },
     "execution_count": 10,
     "metadata": {},
     "output_type": "execute_result"
    }
   ],
   "source": [
    "# Exemplo de list comprehension\n",
    "lista_colunas_com_nu = [coluna for coluna in df_enem.columns if 'NU' in coluna]\n",
    "lista_colunas_com_nu\n"
   ]
  },
  {
   "cell_type": "code",
   "execution_count": 11,
   "id": "0133a771",
   "metadata": {},
   "outputs": [
    {
     "data": {
      "text/plain": [
       "['TX_RESPOSTAS_CN',\n",
       " 'TX_RESPOSTAS_CH',\n",
       " 'TX_RESPOSTAS_LC',\n",
       " 'TX_RESPOSTAS_MT',\n",
       " 'TX_GABARITO_CN',\n",
       " 'TX_GABARITO_CH',\n",
       " 'TX_GABARITO_LC',\n",
       " 'TX_GABARITO_MT']"
      ]
     },
     "execution_count": 11,
     "metadata": {},
     "output_type": "execute_result"
    }
   ],
   "source": [
    "# Vamos remover as colunas com as respostas, já que não vamos analisar no nível de questões das provas\n",
    "colunas_questoes = [coluna for coluna in df_enem.columns if coluna.startswith('TX_')]\n",
    "colunas_questoes"
   ]
  },
  {
   "cell_type": "code",
   "execution_count": 12,
   "id": "872d5cdb",
   "metadata": {},
   "outputs": [
    {
     "data": {
      "text/plain": [
       "['CO_MUNICIPIO_ESC',\n",
       " 'CO_UF_ESC',\n",
       " 'CO_MUNICIPIO_PROVA',\n",
       " 'CO_UF_PROVA',\n",
       " 'CO_PROVA_CN',\n",
       " 'CO_PROVA_CH',\n",
       " 'CO_PROVA_LC',\n",
       " 'CO_PROVA_MT']"
      ]
     },
     "execution_count": 12,
     "metadata": {},
     "output_type": "execute_result"
    }
   ],
   "source": [
    "# Ainda, as colunas do tipo CO_ não servem para nossa análise, são só códigos de coisas que temos siglas (UF, por exemplo)\n",
    "colunas_codigos = [coluna for coluna in df_enem.columns if coluna.startswith('CO_')]\n",
    "colunas_codigos"
   ]
  },
  {
   "cell_type": "code",
   "execution_count": 13,
   "id": "da099a1b",
   "metadata": {},
   "outputs": [
    {
     "data": {
      "text/plain": [
       "['CO_MUNICIPIO_ESC',\n",
       " 'NO_MUNICIPIO_ESC',\n",
       " 'CO_MUNICIPIO_PROVA',\n",
       " 'NO_MUNICIPIO_PROVA']"
      ]
     },
     "execution_count": 13,
     "metadata": {},
     "output_type": "execute_result"
    }
   ],
   "source": [
    "# Não vamos fazer também uma análise por municípios, então vamos remover tudo que tiver essa string\n",
    "colunas_municipios = [coluna for coluna in df_enem.columns if 'MUNICIPIO' in coluna]\n",
    "colunas_municipios"
   ]
  },
  {
   "cell_type": "markdown",
   "id": "a0398bec",
   "metadata": {},
   "source": [
    "## 🗑️ Removendo Colunas Desnecessárias\n",
    "\n",
    "Neste passo, estamos removendo as colunas que não são relevantes para a análise. Isso inclui:\n",
    "- **Colunas de notas das questões**\n",
    "- **Colunas de código** (como códigos de escolas e provas)\n",
    "- **Colunas de município** (informações geográficas)\n",
    "- **Colunas de identificação e ano** (como número de inscrição e ano)\n",
    "\n",
    "### 🔎 O que esse código faz?\n",
    "✔ **Cria uma lista de colunas** para remoção, combinando várias listas de colunas relacionadas a notas, códigos, município e identificadores de inscrição e ano.  \n",
    "✔ **Remove as colunas** do DataFrame `df_enem` usando o método `drop()`, alterando o DataFrame diretamente."
   ]
  },
  {
   "cell_type": "code",
   "execution_count": 14,
   "id": "d431009e",
   "metadata": {},
   "outputs": [
    {
     "data": {
      "text/html": [
       "<div>\n",
       "<style scoped>\n",
       "    .dataframe tbody tr th:only-of-type {\n",
       "        vertical-align: middle;\n",
       "    }\n",
       "\n",
       "    .dataframe tbody tr th {\n",
       "        vertical-align: top;\n",
       "    }\n",
       "\n",
       "    .dataframe thead th {\n",
       "        text-align: right;\n",
       "    }\n",
       "</style>\n",
       "<table border=\"1\" class=\"dataframe\">\n",
       "  <thead>\n",
       "    <tr style=\"text-align: right;\">\n",
       "      <th></th>\n",
       "      <th>TP_FAIXA_ETARIA</th>\n",
       "      <th>TP_SEXO</th>\n",
       "      <th>TP_ESTADO_CIVIL</th>\n",
       "      <th>TP_COR_RACA</th>\n",
       "      <th>TP_NACIONALIDADE</th>\n",
       "      <th>TP_ST_CONCLUSAO</th>\n",
       "      <th>TP_ANO_CONCLUIU</th>\n",
       "      <th>TP_ESCOLA</th>\n",
       "      <th>TP_ENSINO</th>\n",
       "      <th>IN_TREINEIRO</th>\n",
       "      <th>SG_UF_ESC</th>\n",
       "      <th>TP_DEPENDENCIA_ADM_ESC</th>\n",
       "      <th>TP_LOCALIZACAO_ESC</th>\n",
       "      <th>TP_SIT_FUNC_ESC</th>\n",
       "      <th>SG_UF_PROVA</th>\n",
       "      <th>TP_PRESENCA_CN</th>\n",
       "      <th>TP_PRESENCA_CH</th>\n",
       "      <th>TP_PRESENCA_LC</th>\n",
       "      <th>TP_PRESENCA_MT</th>\n",
       "      <th>NU_NOTA_CN</th>\n",
       "      <th>NU_NOTA_CH</th>\n",
       "      <th>NU_NOTA_LC</th>\n",
       "      <th>NU_NOTA_MT</th>\n",
       "      <th>TP_LINGUA</th>\n",
       "      <th>TP_STATUS_REDACAO</th>\n",
       "      <th>NU_NOTA_COMP1</th>\n",
       "      <th>NU_NOTA_COMP2</th>\n",
       "      <th>NU_NOTA_COMP3</th>\n",
       "      <th>NU_NOTA_COMP4</th>\n",
       "      <th>NU_NOTA_COMP5</th>\n",
       "      <th>NU_NOTA_REDACAO</th>\n",
       "      <th>Q001</th>\n",
       "      <th>Q002</th>\n",
       "      <th>Q003</th>\n",
       "      <th>Q004</th>\n",
       "      <th>Q005</th>\n",
       "      <th>Q006</th>\n",
       "      <th>Q007</th>\n",
       "      <th>Q008</th>\n",
       "      <th>Q009</th>\n",
       "      <th>Q010</th>\n",
       "      <th>Q011</th>\n",
       "      <th>Q012</th>\n",
       "      <th>Q013</th>\n",
       "      <th>Q014</th>\n",
       "      <th>Q015</th>\n",
       "      <th>Q016</th>\n",
       "      <th>Q017</th>\n",
       "      <th>Q018</th>\n",
       "      <th>Q019</th>\n",
       "      <th>Q020</th>\n",
       "      <th>Q021</th>\n",
       "      <th>Q022</th>\n",
       "      <th>Q023</th>\n",
       "      <th>Q024</th>\n",
       "      <th>Q025</th>\n",
       "    </tr>\n",
       "  </thead>\n",
       "  <tbody>\n",
       "    <tr>\n",
       "      <th>0</th>\n",
       "      <td>14</td>\n",
       "      <td>M</td>\n",
       "      <td>2</td>\n",
       "      <td>1</td>\n",
       "      <td>1</td>\n",
       "      <td>1</td>\n",
       "      <td>17</td>\n",
       "      <td>1</td>\n",
       "      <td>NaN</td>\n",
       "      <td>0</td>\n",
       "      <td>None</td>\n",
       "      <td>NaN</td>\n",
       "      <td>NaN</td>\n",
       "      <td>NaN</td>\n",
       "      <td>DF</td>\n",
       "      <td>0</td>\n",
       "      <td>0</td>\n",
       "      <td>0</td>\n",
       "      <td>0</td>\n",
       "      <td>NaN</td>\n",
       "      <td>NaN</td>\n",
       "      <td>NaN</td>\n",
       "      <td>NaN</td>\n",
       "      <td>0</td>\n",
       "      <td>NaN</td>\n",
       "      <td>NaN</td>\n",
       "      <td>NaN</td>\n",
       "      <td>NaN</td>\n",
       "      <td>NaN</td>\n",
       "      <td>NaN</td>\n",
       "      <td>NaN</td>\n",
       "      <td>A</td>\n",
       "      <td>F</td>\n",
       "      <td>E</td>\n",
       "      <td>D</td>\n",
       "      <td>5</td>\n",
       "      <td>F</td>\n",
       "      <td>C</td>\n",
       "      <td>C</td>\n",
       "      <td>D</td>\n",
       "      <td>C</td>\n",
       "      <td>D</td>\n",
       "      <td>C</td>\n",
       "      <td>B</td>\n",
       "      <td>B</td>\n",
       "      <td>D</td>\n",
       "      <td>C</td>\n",
       "      <td>C</td>\n",
       "      <td>B</td>\n",
       "      <td>B</td>\n",
       "      <td>A</td>\n",
       "      <td>B</td>\n",
       "      <td>B</td>\n",
       "      <td>A</td>\n",
       "      <td>A</td>\n",
       "      <td>B</td>\n",
       "    </tr>\n",
       "    <tr>\n",
       "      <th>1</th>\n",
       "      <td>12</td>\n",
       "      <td>M</td>\n",
       "      <td>2</td>\n",
       "      <td>1</td>\n",
       "      <td>0</td>\n",
       "      <td>1</td>\n",
       "      <td>16</td>\n",
       "      <td>1</td>\n",
       "      <td>NaN</td>\n",
       "      <td>0</td>\n",
       "      <td>None</td>\n",
       "      <td>NaN</td>\n",
       "      <td>NaN</td>\n",
       "      <td>NaN</td>\n",
       "      <td>DF</td>\n",
       "      <td>0</td>\n",
       "      <td>0</td>\n",
       "      <td>0</td>\n",
       "      <td>0</td>\n",
       "      <td>NaN</td>\n",
       "      <td>NaN</td>\n",
       "      <td>NaN</td>\n",
       "      <td>NaN</td>\n",
       "      <td>0</td>\n",
       "      <td>NaN</td>\n",
       "      <td>NaN</td>\n",
       "      <td>NaN</td>\n",
       "      <td>NaN</td>\n",
       "      <td>NaN</td>\n",
       "      <td>NaN</td>\n",
       "      <td>NaN</td>\n",
       "      <td>F</td>\n",
       "      <td>E</td>\n",
       "      <td>E</td>\n",
       "      <td>B</td>\n",
       "      <td>3</td>\n",
       "      <td>H</td>\n",
       "      <td>A</td>\n",
       "      <td>B</td>\n",
       "      <td>C</td>\n",
       "      <td>C</td>\n",
       "      <td>A</td>\n",
       "      <td>B</td>\n",
       "      <td>B</td>\n",
       "      <td>B</td>\n",
       "      <td>A</td>\n",
       "      <td>B</td>\n",
       "      <td>A</td>\n",
       "      <td>B</td>\n",
       "      <td>B</td>\n",
       "      <td>A</td>\n",
       "      <td>A</td>\n",
       "      <td>C</td>\n",
       "      <td>A</td>\n",
       "      <td>D</td>\n",
       "      <td>B</td>\n",
       "    </tr>\n",
       "    <tr>\n",
       "      <th>2</th>\n",
       "      <td>6</td>\n",
       "      <td>F</td>\n",
       "      <td>1</td>\n",
       "      <td>1</td>\n",
       "      <td>1</td>\n",
       "      <td>1</td>\n",
       "      <td>0</td>\n",
       "      <td>1</td>\n",
       "      <td>NaN</td>\n",
       "      <td>0</td>\n",
       "      <td>None</td>\n",
       "      <td>NaN</td>\n",
       "      <td>NaN</td>\n",
       "      <td>NaN</td>\n",
       "      <td>RS</td>\n",
       "      <td>1</td>\n",
       "      <td>1</td>\n",
       "      <td>1</td>\n",
       "      <td>1</td>\n",
       "      <td>502.00</td>\n",
       "      <td>498.90</td>\n",
       "      <td>475.60</td>\n",
       "      <td>363.20</td>\n",
       "      <td>1</td>\n",
       "      <td>1.00</td>\n",
       "      <td>140.00</td>\n",
       "      <td>200.00</td>\n",
       "      <td>100.00</td>\n",
       "      <td>120.00</td>\n",
       "      <td>140.00</td>\n",
       "      <td>700.00</td>\n",
       "      <td>H</td>\n",
       "      <td>E</td>\n",
       "      <td>C</td>\n",
       "      <td>F</td>\n",
       "      <td>5</td>\n",
       "      <td>C</td>\n",
       "      <td>A</td>\n",
       "      <td>B</td>\n",
       "      <td>D</td>\n",
       "      <td>B</td>\n",
       "      <td>A</td>\n",
       "      <td>B</td>\n",
       "      <td>A</td>\n",
       "      <td>B</td>\n",
       "      <td>A</td>\n",
       "      <td>B</td>\n",
       "      <td>A</td>\n",
       "      <td>A</td>\n",
       "      <td>B</td>\n",
       "      <td>A</td>\n",
       "      <td>A</td>\n",
       "      <td>A</td>\n",
       "      <td>A</td>\n",
       "      <td>A</td>\n",
       "      <td>B</td>\n",
       "    </tr>\n",
       "    <tr>\n",
       "      <th>3</th>\n",
       "      <td>2</td>\n",
       "      <td>F</td>\n",
       "      <td>1</td>\n",
       "      <td>3</td>\n",
       "      <td>1</td>\n",
       "      <td>2</td>\n",
       "      <td>0</td>\n",
       "      <td>2</td>\n",
       "      <td>1.00</td>\n",
       "      <td>0</td>\n",
       "      <td>CE</td>\n",
       "      <td>2.00</td>\n",
       "      <td>1.00</td>\n",
       "      <td>1.00</td>\n",
       "      <td>CE</td>\n",
       "      <td>1</td>\n",
       "      <td>1</td>\n",
       "      <td>1</td>\n",
       "      <td>1</td>\n",
       "      <td>459.00</td>\n",
       "      <td>508.50</td>\n",
       "      <td>507.20</td>\n",
       "      <td>466.70</td>\n",
       "      <td>0</td>\n",
       "      <td>1.00</td>\n",
       "      <td>140.00</td>\n",
       "      <td>200.00</td>\n",
       "      <td>160.00</td>\n",
       "      <td>180.00</td>\n",
       "      <td>200.00</td>\n",
       "      <td>880.00</td>\n",
       "      <td>D</td>\n",
       "      <td>D</td>\n",
       "      <td>B</td>\n",
       "      <td>B</td>\n",
       "      <td>5</td>\n",
       "      <td>C</td>\n",
       "      <td>A</td>\n",
       "      <td>B</td>\n",
       "      <td>B</td>\n",
       "      <td>A</td>\n",
       "      <td>A</td>\n",
       "      <td>B</td>\n",
       "      <td>A</td>\n",
       "      <td>A</td>\n",
       "      <td>A</td>\n",
       "      <td>A</td>\n",
       "      <td>A</td>\n",
       "      <td>A</td>\n",
       "      <td>B</td>\n",
       "      <td>A</td>\n",
       "      <td>A</td>\n",
       "      <td>D</td>\n",
       "      <td>A</td>\n",
       "      <td>A</td>\n",
       "      <td>B</td>\n",
       "    </tr>\n",
       "    <tr>\n",
       "      <th>4</th>\n",
       "      <td>3</td>\n",
       "      <td>F</td>\n",
       "      <td>1</td>\n",
       "      <td>3</td>\n",
       "      <td>1</td>\n",
       "      <td>2</td>\n",
       "      <td>0</td>\n",
       "      <td>2</td>\n",
       "      <td>1.00</td>\n",
       "      <td>0</td>\n",
       "      <td>CE</td>\n",
       "      <td>2.00</td>\n",
       "      <td>1.00</td>\n",
       "      <td>1.00</td>\n",
       "      <td>CE</td>\n",
       "      <td>1</td>\n",
       "      <td>1</td>\n",
       "      <td>1</td>\n",
       "      <td>1</td>\n",
       "      <td>402.50</td>\n",
       "      <td>379.20</td>\n",
       "      <td>446.90</td>\n",
       "      <td>338.30</td>\n",
       "      <td>0</td>\n",
       "      <td>1.00</td>\n",
       "      <td>120.00</td>\n",
       "      <td>120.00</td>\n",
       "      <td>120.00</td>\n",
       "      <td>120.00</td>\n",
       "      <td>80.00</td>\n",
       "      <td>560.00</td>\n",
       "      <td>B</td>\n",
       "      <td>B</td>\n",
       "      <td>A</td>\n",
       "      <td>A</td>\n",
       "      <td>4</td>\n",
       "      <td>B</td>\n",
       "      <td>A</td>\n",
       "      <td>B</td>\n",
       "      <td>A</td>\n",
       "      <td>A</td>\n",
       "      <td>A</td>\n",
       "      <td>B</td>\n",
       "      <td>A</td>\n",
       "      <td>A</td>\n",
       "      <td>A</td>\n",
       "      <td>A</td>\n",
       "      <td>A</td>\n",
       "      <td>A</td>\n",
       "      <td>B</td>\n",
       "      <td>A</td>\n",
       "      <td>A</td>\n",
       "      <td>B</td>\n",
       "      <td>A</td>\n",
       "      <td>A</td>\n",
       "      <td>A</td>\n",
       "    </tr>\n",
       "  </tbody>\n",
       "</table>\n",
       "</div>"
      ],
      "text/plain": [
       "   TP_FAIXA_ETARIA TP_SEXO  TP_ESTADO_CIVIL  TP_COR_RACA  TP_NACIONALIDADE  \\\n",
       "0               14       M                2            1                 1   \n",
       "1               12       M                2            1                 0   \n",
       "2                6       F                1            1                 1   \n",
       "3                2       F                1            3                 1   \n",
       "4                3       F                1            3                 1   \n",
       "\n",
       "   TP_ST_CONCLUSAO  TP_ANO_CONCLUIU  TP_ESCOLA  TP_ENSINO  IN_TREINEIRO  \\\n",
       "0                1               17          1        NaN             0   \n",
       "1                1               16          1        NaN             0   \n",
       "2                1                0          1        NaN             0   \n",
       "3                2                0          2       1.00             0   \n",
       "4                2                0          2       1.00             0   \n",
       "\n",
       "  SG_UF_ESC  TP_DEPENDENCIA_ADM_ESC  TP_LOCALIZACAO_ESC  TP_SIT_FUNC_ESC  \\\n",
       "0      None                     NaN                 NaN              NaN   \n",
       "1      None                     NaN                 NaN              NaN   \n",
       "2      None                     NaN                 NaN              NaN   \n",
       "3        CE                    2.00                1.00             1.00   \n",
       "4        CE                    2.00                1.00             1.00   \n",
       "\n",
       "  SG_UF_PROVA  TP_PRESENCA_CN  TP_PRESENCA_CH  TP_PRESENCA_LC  TP_PRESENCA_MT  \\\n",
       "0          DF               0               0               0               0   \n",
       "1          DF               0               0               0               0   \n",
       "2          RS               1               1               1               1   \n",
       "3          CE               1               1               1               1   \n",
       "4          CE               1               1               1               1   \n",
       "\n",
       "   NU_NOTA_CN  NU_NOTA_CH  NU_NOTA_LC  NU_NOTA_MT  TP_LINGUA  \\\n",
       "0         NaN         NaN         NaN         NaN          0   \n",
       "1         NaN         NaN         NaN         NaN          0   \n",
       "2      502.00      498.90      475.60      363.20          1   \n",
       "3      459.00      508.50      507.20      466.70          0   \n",
       "4      402.50      379.20      446.90      338.30          0   \n",
       "\n",
       "   TP_STATUS_REDACAO  NU_NOTA_COMP1  NU_NOTA_COMP2  NU_NOTA_COMP3  \\\n",
       "0                NaN            NaN            NaN            NaN   \n",
       "1                NaN            NaN            NaN            NaN   \n",
       "2               1.00         140.00         200.00         100.00   \n",
       "3               1.00         140.00         200.00         160.00   \n",
       "4               1.00         120.00         120.00         120.00   \n",
       "\n",
       "   NU_NOTA_COMP4  NU_NOTA_COMP5  NU_NOTA_REDACAO Q001 Q002 Q003 Q004  Q005  \\\n",
       "0            NaN            NaN              NaN    A    F    E    D     5   \n",
       "1            NaN            NaN              NaN    F    E    E    B     3   \n",
       "2         120.00         140.00           700.00    H    E    C    F     5   \n",
       "3         180.00         200.00           880.00    D    D    B    B     5   \n",
       "4         120.00          80.00           560.00    B    B    A    A     4   \n",
       "\n",
       "  Q006 Q007 Q008 Q009 Q010 Q011 Q012 Q013 Q014 Q015 Q016 Q017 Q018 Q019 Q020  \\\n",
       "0    F    C    C    D    C    D    C    B    B    D    C    C    B    B    A   \n",
       "1    H    A    B    C    C    A    B    B    B    A    B    A    B    B    A   \n",
       "2    C    A    B    D    B    A    B    A    B    A    B    A    A    B    A   \n",
       "3    C    A    B    B    A    A    B    A    A    A    A    A    A    B    A   \n",
       "4    B    A    B    A    A    A    B    A    A    A    A    A    A    B    A   \n",
       "\n",
       "  Q021 Q022 Q023 Q024 Q025  \n",
       "0    B    B    A    A    B  \n",
       "1    A    C    A    D    B  \n",
       "2    A    A    A    A    B  \n",
       "3    A    D    A    A    B  \n",
       "4    A    B    A    A    A  "
      ]
     },
     "execution_count": 14,
     "metadata": {},
     "output_type": "execute_result"
    }
   ],
   "source": [
    "# Removendo as colunas (inscrição e ano não são necessários)\n",
    "colunas_remover = colunas_questoes + colunas_codigos + colunas_municipios + ['NU_INSCRICAO', 'NU_ANO']\n",
    "df_enem = df_enem.drop(colunas_remover, axis=1)\n",
    "df_enem.head()"
   ]
  },
  {
   "cell_type": "code",
   "execution_count": 17,
   "id": "9a37e6a7",
   "metadata": {},
   "outputs": [
    {
     "data": {
      "text/plain": [
       "(3933955, 56)"
      ]
     },
     "execution_count": 17,
     "metadata": {},
     "output_type": "execute_result"
    }
   ],
   "source": [
    "df_enem.shape"
   ]
  },
  {
   "attachments": {},
   "cell_type": "markdown",
   "id": "f29d95a2",
   "metadata": {},
   "source": [
    "## <a>Dicionário de dados </a>\n",
    "\n",
    "Percebemos que muitas das colunas possuem somente números, sem descrições. Os dados do ENEM vem acompanhados das descrições com o dicionário, explicando o que cada coluna representa. Seguem algumas que vamos utilizar na análise\n",
    "\n",
    "Estado Civil (TP_ESTADO_CIVIL)\n",
    "\n",
    "| Código | Descrição                               |\n",
    "|--------|-----------------------------------------|\n",
    "|    0   | Não informado                           |\n",
    "|    1   | Solteiro(a)                             |\n",
    "|    2   | Casado(a)/Mora   com companheiro(a)     |\n",
    "|    3   | Divorciado(a)/Desquitado(a)/Separado(a) |\n",
    "|    4   | Viúvo(a)                                |\n",
    "\n",
    "Cor/Raça (TP_COR_RACA)\n",
    "\n",
    "| Código | Descrição     |\n",
    "|--------|---------------|\n",
    "| 0      | Não declarado |\n",
    "| 1      | Branca        |\n",
    "| 2      | Preta         |\n",
    "| 3      | Parda         |\n",
    "| 4      | Amarela       |\n",
    "| 5      | Indígena      |\n",
    "\n",
    "Tipo Nacionalidade\n",
    "\n",
    "| Código | Descrição                                       |\n",
    "|--------|-------------------------------------------------|\n",
    "| 0      | Não informado                                   |\n",
    "| 1      | Brasileiro(a)                                   |\n",
    "| 2      | Brasileiro(a)   Naturalizado(a)                 |\n",
    "| 3      | Estrangeiro(a)                                  |\n",
    "| 4      | Brasileiro(a)   Nato(a), nascido(a) no exterior |\n",
    "| 5      | Indígena                                        |\n",
    "\n",
    "Situação de Conclusão Nível Médio\n",
    "\n",
    "| Código | Descrição                                              |\n",
    "|--------|--------------------------------------------------------|\n",
    "| 1      | Já concluí o   Ensino Médio                            |\n",
    "| 2      | Estou   cursando e concluirei o Ensino Médio em 2019   |\n",
    "| 3      | Estou   cursando e concluirei o Ensino Médio após 2019 |\n",
    "| 4      | Não   concluí e não estou cursando o Ensino Médio      |\n",
    "\n",
    "Finalmente, as colunas de notas\n",
    "\n",
    "| Coluna     | Descrição                             |\n",
    "|------------|---------------------------------------|\n",
    "| NU_NOTA_CN | Nota da prova de Ciências da Natureza |\n",
    "| NU_NOTA_CH | Nota da prova de Ciências Humanas     |\n",
    "| NU_NOTA_LC | Nota da prova de Linguagens e Códigos |\n",
    "| NU_NOTA_MT | Nota da prova de Matemática           |\n"
   ]
  },
  {
   "cell_type": "markdown",
   "id": "9d77a78c",
   "metadata": {},
   "source": [
    "## 📊 Análise Descritiva dos Dados\n",
    "\n",
    "Com a limpeza dos dados concluída, vamos começar a análise descritiva para entender melhor as principais características das variáveis numéricas presentes no **DataFrame**.\n",
    "\n",
    "### 🔎 O que esse código faz?\n",
    "✔ **Gera um resumo estatístico** para as colunas numéricas do DataFrame `df_enem`.  \n",
    "✔ O método `describe()` retorna informações como:\n",
    "  - **Contagem** (quantidade de valores não nulos)\n",
    "  - **Média** (valor médio de cada coluna)\n",
    "  - **Desvio padrão** (medida da dispersão dos dados)\n",
    "  - **Valor mínimo e máximo** (limites dos dados)\n",
    "  - **Percentis** (valores que marcam diferentes percentuais dos dados)"
   ]
  },
  {
   "cell_type": "code",
   "execution_count": 15,
   "id": "6f58402c",
   "metadata": {},
   "outputs": [
    {
     "data": {
      "text/html": [
       "<div>\n",
       "<style scoped>\n",
       "    .dataframe tbody tr th:only-of-type {\n",
       "        vertical-align: middle;\n",
       "    }\n",
       "\n",
       "    .dataframe tbody tr th {\n",
       "        vertical-align: top;\n",
       "    }\n",
       "\n",
       "    .dataframe thead th {\n",
       "        text-align: right;\n",
       "    }\n",
       "</style>\n",
       "<table border=\"1\" class=\"dataframe\">\n",
       "  <thead>\n",
       "    <tr style=\"text-align: right;\">\n",
       "      <th></th>\n",
       "      <th>TP_FAIXA_ETARIA</th>\n",
       "      <th>TP_ESTADO_CIVIL</th>\n",
       "      <th>TP_COR_RACA</th>\n",
       "      <th>TP_NACIONALIDADE</th>\n",
       "      <th>TP_ST_CONCLUSAO</th>\n",
       "      <th>TP_ANO_CONCLUIU</th>\n",
       "      <th>TP_ESCOLA</th>\n",
       "      <th>TP_ENSINO</th>\n",
       "      <th>IN_TREINEIRO</th>\n",
       "      <th>TP_DEPENDENCIA_ADM_ESC</th>\n",
       "      <th>TP_LOCALIZACAO_ESC</th>\n",
       "      <th>TP_SIT_FUNC_ESC</th>\n",
       "      <th>TP_PRESENCA_CN</th>\n",
       "      <th>TP_PRESENCA_CH</th>\n",
       "      <th>TP_PRESENCA_LC</th>\n",
       "      <th>TP_PRESENCA_MT</th>\n",
       "      <th>NU_NOTA_CN</th>\n",
       "      <th>NU_NOTA_CH</th>\n",
       "      <th>NU_NOTA_LC</th>\n",
       "      <th>NU_NOTA_MT</th>\n",
       "      <th>TP_LINGUA</th>\n",
       "      <th>TP_STATUS_REDACAO</th>\n",
       "      <th>NU_NOTA_COMP1</th>\n",
       "      <th>NU_NOTA_COMP2</th>\n",
       "      <th>NU_NOTA_COMP3</th>\n",
       "      <th>NU_NOTA_COMP4</th>\n",
       "      <th>NU_NOTA_COMP5</th>\n",
       "      <th>NU_NOTA_REDACAO</th>\n",
       "      <th>Q005</th>\n",
       "    </tr>\n",
       "  </thead>\n",
       "  <tbody>\n",
       "    <tr>\n",
       "      <th>count</th>\n",
       "      <td>3933955.00</td>\n",
       "      <td>3933955.00</td>\n",
       "      <td>3933955.00</td>\n",
       "      <td>3933955.00</td>\n",
       "      <td>3933955.00</td>\n",
       "      <td>3933955.00</td>\n",
       "      <td>3933955.00</td>\n",
       "      <td>1339081.00</td>\n",
       "      <td>3933955.00</td>\n",
       "      <td>958506.00</td>\n",
       "      <td>958506.00</td>\n",
       "      <td>958506.00</td>\n",
       "      <td>3933955.00</td>\n",
       "      <td>3933955.00</td>\n",
       "      <td>3933955.00</td>\n",
       "      <td>3933955.00</td>\n",
       "      <td>2692427.00</td>\n",
       "      <td>2822643.00</td>\n",
       "      <td>2822643.00</td>\n",
       "      <td>2692427.00</td>\n",
       "      <td>3933955.00</td>\n",
       "      <td>2822643.00</td>\n",
       "      <td>2822643.00</td>\n",
       "      <td>2822643.00</td>\n",
       "      <td>2822643.00</td>\n",
       "      <td>2822643.00</td>\n",
       "      <td>2822643.00</td>\n",
       "      <td>2822643.00</td>\n",
       "      <td>3933955.00</td>\n",
       "    </tr>\n",
       "    <tr>\n",
       "      <th>mean</th>\n",
       "      <td>5.10</td>\n",
       "      <td>1.04</td>\n",
       "      <td>2.06</td>\n",
       "      <td>1.03</td>\n",
       "      <td>1.68</td>\n",
       "      <td>2.45</td>\n",
       "      <td>1.42</td>\n",
       "      <td>1.01</td>\n",
       "      <td>0.16</td>\n",
       "      <td>2.44</td>\n",
       "      <td>1.04</td>\n",
       "      <td>1.02</td>\n",
       "      <td>0.69</td>\n",
       "      <td>0.72</td>\n",
       "      <td>0.72</td>\n",
       "      <td>0.69</td>\n",
       "      <td>495.75</td>\n",
       "      <td>523.35</td>\n",
       "      <td>518.15</td>\n",
       "      <td>533.84</td>\n",
       "      <td>0.46</td>\n",
       "      <td>1.15</td>\n",
       "      <td>121.55</td>\n",
       "      <td>139.30</td>\n",
       "      <td>118.51</td>\n",
       "      <td>129.80</td>\n",
       "      <td>108.65</td>\n",
       "      <td>617.80</td>\n",
       "      <td>3.69</td>\n",
       "    </tr>\n",
       "    <tr>\n",
       "      <th>std</th>\n",
       "      <td>3.87</td>\n",
       "      <td>0.41</td>\n",
       "      <td>1.00</td>\n",
       "      <td>0.21</td>\n",
       "      <td>0.75</td>\n",
       "      <td>4.45</td>\n",
       "      <td>0.60</td>\n",
       "      <td>0.07</td>\n",
       "      <td>0.36</td>\n",
       "      <td>0.91</td>\n",
       "      <td>0.19</td>\n",
       "      <td>0.20</td>\n",
       "      <td>0.47</td>\n",
       "      <td>0.45</td>\n",
       "      <td>0.45</td>\n",
       "      <td>0.47</td>\n",
       "      <td>87.93</td>\n",
       "      <td>88.57</td>\n",
       "      <td>75.45</td>\n",
       "      <td>131.65</td>\n",
       "      <td>0.50</td>\n",
       "      <td>0.80</td>\n",
       "      <td>35.65</td>\n",
       "      <td>51.62</td>\n",
       "      <td>43.41</td>\n",
       "      <td>43.77</td>\n",
       "      <td>61.60</td>\n",
       "      <td>214.62</td>\n",
       "      <td>1.41</td>\n",
       "    </tr>\n",
       "    <tr>\n",
       "      <th>min</th>\n",
       "      <td>1.00</td>\n",
       "      <td>0.00</td>\n",
       "      <td>0.00</td>\n",
       "      <td>0.00</td>\n",
       "      <td>1.00</td>\n",
       "      <td>0.00</td>\n",
       "      <td>1.00</td>\n",
       "      <td>1.00</td>\n",
       "      <td>0.00</td>\n",
       "      <td>1.00</td>\n",
       "      <td>1.00</td>\n",
       "      <td>1.00</td>\n",
       "      <td>0.00</td>\n",
       "      <td>0.00</td>\n",
       "      <td>0.00</td>\n",
       "      <td>0.00</td>\n",
       "      <td>0.00</td>\n",
       "      <td>0.00</td>\n",
       "      <td>0.00</td>\n",
       "      <td>0.00</td>\n",
       "      <td>0.00</td>\n",
       "      <td>1.00</td>\n",
       "      <td>0.00</td>\n",
       "      <td>0.00</td>\n",
       "      <td>0.00</td>\n",
       "      <td>0.00</td>\n",
       "      <td>0.00</td>\n",
       "      <td>0.00</td>\n",
       "      <td>1.00</td>\n",
       "    </tr>\n",
       "    <tr>\n",
       "      <th>25%</th>\n",
       "      <td>2.00</td>\n",
       "      <td>1.00</td>\n",
       "      <td>1.00</td>\n",
       "      <td>1.00</td>\n",
       "      <td>1.00</td>\n",
       "      <td>0.00</td>\n",
       "      <td>1.00</td>\n",
       "      <td>1.00</td>\n",
       "      <td>0.00</td>\n",
       "      <td>2.00</td>\n",
       "      <td>1.00</td>\n",
       "      <td>1.00</td>\n",
       "      <td>0.00</td>\n",
       "      <td>0.00</td>\n",
       "      <td>0.00</td>\n",
       "      <td>0.00</td>\n",
       "      <td>440.50</td>\n",
       "      <td>467.80</td>\n",
       "      <td>471.40</td>\n",
       "      <td>431.20</td>\n",
       "      <td>0.00</td>\n",
       "      <td>1.00</td>\n",
       "      <td>120.00</td>\n",
       "      <td>120.00</td>\n",
       "      <td>100.00</td>\n",
       "      <td>120.00</td>\n",
       "      <td>60.00</td>\n",
       "      <td>500.00</td>\n",
       "      <td>3.00</td>\n",
       "    </tr>\n",
       "    <tr>\n",
       "      <th>50%</th>\n",
       "      <td>3.00</td>\n",
       "      <td>1.00</td>\n",
       "      <td>2.00</td>\n",
       "      <td>1.00</td>\n",
       "      <td>2.00</td>\n",
       "      <td>0.00</td>\n",
       "      <td>1.00</td>\n",
       "      <td>1.00</td>\n",
       "      <td>0.00</td>\n",
       "      <td>2.00</td>\n",
       "      <td>1.00</td>\n",
       "      <td>1.00</td>\n",
       "      <td>1.00</td>\n",
       "      <td>1.00</td>\n",
       "      <td>1.00</td>\n",
       "      <td>1.00</td>\n",
       "      <td>493.90</td>\n",
       "      <td>530.40</td>\n",
       "      <td>523.10</td>\n",
       "      <td>523.60</td>\n",
       "      <td>0.00</td>\n",
       "      <td>1.00</td>\n",
       "      <td>120.00</td>\n",
       "      <td>140.00</td>\n",
       "      <td>120.00</td>\n",
       "      <td>120.00</td>\n",
       "      <td>120.00</td>\n",
       "      <td>620.00</td>\n",
       "      <td>4.00</td>\n",
       "    </tr>\n",
       "    <tr>\n",
       "      <th>75%</th>\n",
       "      <td>7.00</td>\n",
       "      <td>1.00</td>\n",
       "      <td>3.00</td>\n",
       "      <td>1.00</td>\n",
       "      <td>2.00</td>\n",
       "      <td>3.00</td>\n",
       "      <td>2.00</td>\n",
       "      <td>1.00</td>\n",
       "      <td>0.00</td>\n",
       "      <td>2.00</td>\n",
       "      <td>1.00</td>\n",
       "      <td>1.00</td>\n",
       "      <td>1.00</td>\n",
       "      <td>1.00</td>\n",
       "      <td>1.00</td>\n",
       "      <td>1.00</td>\n",
       "      <td>551.20</td>\n",
       "      <td>584.90</td>\n",
       "      <td>570.30</td>\n",
       "      <td>630.10</td>\n",
       "      <td>1.00</td>\n",
       "      <td>1.00</td>\n",
       "      <td>140.00</td>\n",
       "      <td>180.00</td>\n",
       "      <td>140.00</td>\n",
       "      <td>160.00</td>\n",
       "      <td>160.00</td>\n",
       "      <td>780.00</td>\n",
       "      <td>4.00</td>\n",
       "    </tr>\n",
       "    <tr>\n",
       "      <th>max</th>\n",
       "      <td>20.00</td>\n",
       "      <td>4.00</td>\n",
       "      <td>5.00</td>\n",
       "      <td>4.00</td>\n",
       "      <td>4.00</td>\n",
       "      <td>17.00</td>\n",
       "      <td>3.00</td>\n",
       "      <td>2.00</td>\n",
       "      <td>1.00</td>\n",
       "      <td>4.00</td>\n",
       "      <td>2.00</td>\n",
       "      <td>4.00</td>\n",
       "      <td>2.00</td>\n",
       "      <td>2.00</td>\n",
       "      <td>2.00</td>\n",
       "      <td>2.00</td>\n",
       "      <td>868.40</td>\n",
       "      <td>823.00</td>\n",
       "      <td>820.80</td>\n",
       "      <td>958.60</td>\n",
       "      <td>1.00</td>\n",
       "      <td>9.00</td>\n",
       "      <td>200.00</td>\n",
       "      <td>200.00</td>\n",
       "      <td>200.00</td>\n",
       "      <td>200.00</td>\n",
       "      <td>200.00</td>\n",
       "      <td>1000.00</td>\n",
       "      <td>20.00</td>\n",
       "    </tr>\n",
       "  </tbody>\n",
       "</table>\n",
       "</div>"
      ],
      "text/plain": [
       "       TP_FAIXA_ETARIA  TP_ESTADO_CIVIL  TP_COR_RACA  TP_NACIONALIDADE  \\\n",
       "count       3933955.00       3933955.00   3933955.00        3933955.00   \n",
       "mean              5.10             1.04         2.06              1.03   \n",
       "std               3.87             0.41         1.00              0.21   \n",
       "min               1.00             0.00         0.00              0.00   \n",
       "25%               2.00             1.00         1.00              1.00   \n",
       "50%               3.00             1.00         2.00              1.00   \n",
       "75%               7.00             1.00         3.00              1.00   \n",
       "max              20.00             4.00         5.00              4.00   \n",
       "\n",
       "       TP_ST_CONCLUSAO  TP_ANO_CONCLUIU  TP_ESCOLA  TP_ENSINO  IN_TREINEIRO  \\\n",
       "count       3933955.00       3933955.00 3933955.00 1339081.00    3933955.00   \n",
       "mean              1.68             2.45       1.42       1.01          0.16   \n",
       "std               0.75             4.45       0.60       0.07          0.36   \n",
       "min               1.00             0.00       1.00       1.00          0.00   \n",
       "25%               1.00             0.00       1.00       1.00          0.00   \n",
       "50%               2.00             0.00       1.00       1.00          0.00   \n",
       "75%               2.00             3.00       2.00       1.00          0.00   \n",
       "max               4.00            17.00       3.00       2.00          1.00   \n",
       "\n",
       "       TP_DEPENDENCIA_ADM_ESC  TP_LOCALIZACAO_ESC  TP_SIT_FUNC_ESC  \\\n",
       "count               958506.00           958506.00        958506.00   \n",
       "mean                     2.44                1.04             1.02   \n",
       "std                      0.91                0.19             0.20   \n",
       "min                      1.00                1.00             1.00   \n",
       "25%                      2.00                1.00             1.00   \n",
       "50%                      2.00                1.00             1.00   \n",
       "75%                      2.00                1.00             1.00   \n",
       "max                      4.00                2.00             4.00   \n",
       "\n",
       "       TP_PRESENCA_CN  TP_PRESENCA_CH  TP_PRESENCA_LC  TP_PRESENCA_MT  \\\n",
       "count      3933955.00      3933955.00      3933955.00      3933955.00   \n",
       "mean             0.69            0.72            0.72            0.69   \n",
       "std              0.47            0.45            0.45            0.47   \n",
       "min              0.00            0.00            0.00            0.00   \n",
       "25%              0.00            0.00            0.00            0.00   \n",
       "50%              1.00            1.00            1.00            1.00   \n",
       "75%              1.00            1.00            1.00            1.00   \n",
       "max              2.00            2.00            2.00            2.00   \n",
       "\n",
       "       NU_NOTA_CN  NU_NOTA_CH  NU_NOTA_LC  NU_NOTA_MT  TP_LINGUA  \\\n",
       "count  2692427.00  2822643.00  2822643.00  2692427.00 3933955.00   \n",
       "mean       495.75      523.35      518.15      533.84       0.46   \n",
       "std         87.93       88.57       75.45      131.65       0.50   \n",
       "min          0.00        0.00        0.00        0.00       0.00   \n",
       "25%        440.50      467.80      471.40      431.20       0.00   \n",
       "50%        493.90      530.40      523.10      523.60       0.00   \n",
       "75%        551.20      584.90      570.30      630.10       1.00   \n",
       "max        868.40      823.00      820.80      958.60       1.00   \n",
       "\n",
       "       TP_STATUS_REDACAO  NU_NOTA_COMP1  NU_NOTA_COMP2  NU_NOTA_COMP3  \\\n",
       "count         2822643.00     2822643.00     2822643.00     2822643.00   \n",
       "mean                1.15         121.55         139.30         118.51   \n",
       "std                 0.80          35.65          51.62          43.41   \n",
       "min                 1.00           0.00           0.00           0.00   \n",
       "25%                 1.00         120.00         120.00         100.00   \n",
       "50%                 1.00         120.00         140.00         120.00   \n",
       "75%                 1.00         140.00         180.00         140.00   \n",
       "max                 9.00         200.00         200.00         200.00   \n",
       "\n",
       "       NU_NOTA_COMP4  NU_NOTA_COMP5  NU_NOTA_REDACAO       Q005  \n",
       "count     2822643.00     2822643.00       2822643.00 3933955.00  \n",
       "mean          129.80         108.65           617.80       3.69  \n",
       "std            43.77          61.60           214.62       1.41  \n",
       "min             0.00           0.00             0.00       1.00  \n",
       "25%           120.00          60.00           500.00       3.00  \n",
       "50%           120.00         120.00           620.00       4.00  \n",
       "75%           160.00         160.00           780.00       4.00  \n",
       "max           200.00         200.00          1000.00      20.00  "
      ]
     },
     "execution_count": 15,
     "metadata": {},
     "output_type": "execute_result"
    }
   ],
   "source": [
    "df_enem.describe()"
   ]
  },
  {
   "cell_type": "code",
   "execution_count": 16,
   "id": "5f559025",
   "metadata": {},
   "outputs": [
    {
     "data": {
      "text/plain": [
       "['NU_NOTA_CN',\n",
       " 'NU_NOTA_CH',\n",
       " 'NU_NOTA_LC',\n",
       " 'NU_NOTA_MT',\n",
       " 'NU_NOTA_COMP1',\n",
       " 'NU_NOTA_COMP2',\n",
       " 'NU_NOTA_COMP3',\n",
       " 'NU_NOTA_COMP4',\n",
       " 'NU_NOTA_COMP5',\n",
       " 'NU_NOTA_REDACAO']"
      ]
     },
     "execution_count": 16,
     "metadata": {},
     "output_type": "execute_result"
    }
   ],
   "source": [
    "colunas_notas = [coluna for coluna in df_enem if 'NOTA' in coluna]\n",
    "colunas_notas"
   ]
  },
  {
   "cell_type": "code",
   "execution_count": 17,
   "id": "bdb78ede",
   "metadata": {},
   "outputs": [
    {
     "data": {
      "text/plain": [
       "['NU_NOTA_CN', 'NU_NOTA_CH', 'NU_NOTA_LC', 'NU_NOTA_MT', 'NU_NOTA_REDACAO']"
      ]
     },
     "execution_count": 17,
     "metadata": {},
     "output_type": "execute_result"
    }
   ],
   "source": [
    "# Vamos ficar só com a nota principal da redação? Removendo as outras\n",
    "colunas_notas = [coluna for coluna in colunas_notas if 'COMP' not in coluna]\n",
    "colunas_notas"
   ]
  },
  {
   "cell_type": "markdown",
   "id": "cc75f1ff",
   "metadata": {},
   "source": [
    "## 📊 Análise das Notas do ENEM\n",
    "\n",
    "Neste trecho de análise, estamos explorando as **notas do ENEM** através de diferentes tipos de gráficos para compreender melhor a distribuição e o comportamento das notas nas áreas avaliadas. A análise abrange quatro áreas do exame: \n",
    "\n",
    "- **Ciências da Natureza**\n",
    "- **Ciências Humanas**\n",
    "- **Linguagens e Códigos**\n",
    "- **Matemática**\n",
    "- **Nota de Redação**\n",
    "\n",
    "---\n",
    "\n",
    "#### 1. **📦 Boxplots das Notas**\n",
    "\n",
    "Primeiro, criamos **boxplots** para analisar a distribuição das notas nas áreas de estudo mencionadas. O **boxplot** é útil para visualizarmos a mediana das notas, os quartis (distribuição dos dados) e possíveis **outliers** (valores extremos) que podem indicar notas muito altas ou muito baixas em cada área.\n",
    "\n",
    "- A cada gráfico gerado, é possível ver a variação das notas nas diferentes áreas, com um ponto de mediana, limites superior e inferior, e as possíveis observações fora da caixa (outliers).\n",
    "\n",
    "---\n",
    "\n",
    "#### 2. **📈 Distribuição das Notas (Histogramas)**\n",
    "\n",
    "Após a análise com boxplots, geramos **histogramas** para observar a distribuição das notas de forma mais detalhada. O histograma mostra a **frequência** de notas em diferentes intervalos (faixas de valores).\n",
    "\n",
    "- Cada gráfico apresenta a **distribuição de notas** em cada uma das áreas, permitindo uma visão clara de como as notas se concentram e quais áreas possuem maior ou menor concentração de estudantes.\n",
    "\n",
    "---\n",
    "\n",
    "#### 3. **🖊️ Distribuição da Nota de Redação**\n",
    "\n",
    "Por fim, foi gerado um gráfico de **densidade (kdeplot)** para a **nota de redação**. Esse gráfico nos ajuda a observar como as notas de redação estão distribuídas. Ele é especialmente útil para visualizar a **forma** da distribuição das notas, ajudando a identificar padrões de desempenho de forma mais suave e contínua.\n",
    "\n",
    "---\n",
    "\n",
    "### 💡 Objetivos da Análise\n",
    "\n",
    "- **📦 Boxplot**: Visualizar a distribuição das notas e identificar possíveis outliers.\n",
    "- **📈 Histograma**: Observar a concentração das notas nas diferentes áreas de estudo.\n",
    "- **🖊️ Densidade**: Analisar a distribuição das notas de redação, destacando o desempenho dos alunos.\n",
    "\n",
    "Esses gráficos fornecem uma base sólida para compreender o comportamento das notas no ENEM e podem ser usados para tirar conclusões sobre o desempenho geral dos estudantes em cada área do exame. 🚀\n"
   ]
  },
  {
   "cell_type": "code",
   "execution_count": 21,
   "id": "e8261a7b",
   "metadata": {},
   "outputs": [
    {
     "data": {
      "image/png": "[encoded data removed]",
      "text/plain": [
       "<Figure size 800x600 with 4 Axes>"
      ]
     },
     "metadata": {},
     "output_type": "display_data"
    }
   ],
   "source": [
    "# Analisando as notas\n",
    "sns.set_style(\"darkgrid\")\n",
    "figura, graficos = plt.subplots(1, 4, sharey=True, figsize=(8,6))\n",
    "plt.tight_layout()\n",
    "\n",
    "for i in range(4):\n",
    "    coluna_1 = colunas_notas[i]\n",
    "    sns.boxplot(data=df_enem, y=coluna_1, ax=graficos[i])\n"
   ]
  },
  {
   "cell_type": "code",
   "execution_count": 18,
   "id": "c1e15b75",
   "metadata": {},
   "outputs": [
    {
     "data": {
      "image/png": "[encoded data removed]",
      "text/plain": [
       "<Figure size 800x600 with 4 Axes>"
      ]
     },
     "metadata": {},
     "output_type": "display_data"
    }
   ],
   "source": [
    "# Analisando as distribuições das notas\n",
    "sns.set_style(\"darkgrid\")\n",
    "figura, graficos = plt.subplots(4, 1, sharex=True, figsize=(8,6))\n",
    "plt.tight_layout()\n",
    "\n",
    "for i in range(4):\n",
    "    coluna_1 = colunas_notas[i]\n",
    "    sns.histplot(data=df_enem[coluna_1], ax=graficos[i]).set_title(coluna_1)"
   ]
  },
  {
   "cell_type": "code",
   "execution_count": 19,
   "id": "ba2ff21f",
   "metadata": {},
   "outputs": [
    {
     "data": {
      "text/plain": [
       "Text(0.5, 1.0, 'NU_NOTA_REDACAO')"
      ]
     },
     "execution_count": 19,
     "metadata": {},
     "output_type": "execute_result"
    },
    {
     "data": {
      "image/png": "[encoded data removed]",
      "text/plain": [
       "<Figure size 640x480 with 1 Axes>"
      ]
     },
     "metadata": {},
     "output_type": "display_data"
    }
   ],
   "source": [
    "# Analisando a nota da redação\n",
    "sns.histplot(data=df_enem['NU_NOTA_REDACAO']).set_title('NU_NOTA_REDACAO')"
   ]
  },
  {
   "cell_type": "code",
   "execution_count": 20,
   "id": "531eb715",
   "metadata": {},
   "outputs": [
    {
     "data": {
      "text/plain": [
       "Text(0.5, 1.0, 'NU_NOTA_REDACAO')"
      ]
     },
     "execution_count": 20,
     "metadata": {},
     "output_type": "execute_result"
    },
    {
     "data": {
      "image/png": "[encoded data removed]",
      "text/plain": [
       "<Figure size 640x480 with 1 Axes>"
      ]
     },
     "metadata": {},
     "output_type": "display_data"
    }
   ],
   "source": [
    "# Não ficou legal porque as notas não são muito esparsas, vamos tentar um gráfico de densidade\n",
    "sns.kdeplot(data=df_enem['NU_NOTA_REDACAO']).set_title('NU_NOTA_REDACAO')"
   ]
  },
  {
   "cell_type": "markdown",
   "id": "e1441474",
   "metadata": {},
   "source": [
    "## Análise das Informações Demográficas 🧑‍🤝‍🧑\n",
    "\n",
    "Neste estudo, exploramos as **faixas etárias**, **sexo**, e outras informações demográficas dos participantes do ENEM 2019. O objetivo é compreender melhor a distribuição desses dados, observar tendências e identificar padrões significativos que possam influenciar o desempenho dos alunos.\n",
    "\n",
    "### 1. Faixa Etária 📊\n",
    "A primeira análise foca nas **faixas etárias** dos participantes. Aqui, verificamos a distribuição de idades e sua relação com o desempenho nas provas.\n",
    "\n",
    "### 2. Sexo 🔵🔴\n",
    "Em seguida, vamos explorar a distribuição por **sexo** dos participantes, observando possíveis diferenças e padrões entre os grupos.\n",
    "\n",
    "---\n",
    "Essas informações são fundamentais para entendermos o perfil do público que participou do ENEM, auxiliando na interpretação de resultados e tendências. 🧠💡\n"
   ]
  },
  {
   "cell_type": "code",
   "execution_count": 27,
   "id": "6cdbe25c",
   "metadata": {},
   "outputs": [
    {
     "data": {
      "text/html": [
       "<div>\n",
       "<style scoped>\n",
       "    .dataframe tbody tr th:only-of-type {\n",
       "        vertical-align: middle;\n",
       "    }\n",
       "\n",
       "    .dataframe tbody tr th {\n",
       "        vertical-align: top;\n",
       "    }\n",
       "\n",
       "    .dataframe thead th {\n",
       "        text-align: right;\n",
       "    }\n",
       "</style>\n",
       "<table border=\"1\" class=\"dataframe\">\n",
       "  <thead>\n",
       "    <tr style=\"text-align: right;\">\n",
       "      <th></th>\n",
       "      <th>TP_FAIXA_ETARIA</th>\n",
       "      <th>TP_SEXO</th>\n",
       "      <th>TP_ESTADO_CIVIL</th>\n",
       "      <th>TP_COR_RACA</th>\n",
       "      <th>TP_NACIONALIDADE</th>\n",
       "      <th>TP_ST_CONCLUSAO</th>\n",
       "      <th>TP_ANO_CONCLUIU</th>\n",
       "      <th>TP_ESCOLA</th>\n",
       "      <th>TP_ENSINO</th>\n",
       "      <th>IN_TREINEIRO</th>\n",
       "      <th>SG_UF_ESC</th>\n",
       "      <th>TP_DEPENDENCIA_ADM_ESC</th>\n",
       "      <th>TP_LOCALIZACAO_ESC</th>\n",
       "      <th>TP_SIT_FUNC_ESC</th>\n",
       "      <th>SG_UF_PROVA</th>\n",
       "      <th>TP_PRESENCA_CN</th>\n",
       "      <th>TP_PRESENCA_CH</th>\n",
       "      <th>TP_PRESENCA_LC</th>\n",
       "      <th>TP_PRESENCA_MT</th>\n",
       "      <th>NU_NOTA_CN</th>\n",
       "      <th>NU_NOTA_CH</th>\n",
       "      <th>NU_NOTA_LC</th>\n",
       "      <th>NU_NOTA_MT</th>\n",
       "      <th>TP_LINGUA</th>\n",
       "      <th>TP_STATUS_REDACAO</th>\n",
       "      <th>NU_NOTA_COMP1</th>\n",
       "      <th>NU_NOTA_COMP2</th>\n",
       "      <th>NU_NOTA_COMP3</th>\n",
       "      <th>NU_NOTA_COMP4</th>\n",
       "      <th>NU_NOTA_COMP5</th>\n",
       "      <th>NU_NOTA_REDACAO</th>\n",
       "      <th>Q001</th>\n",
       "      <th>Q002</th>\n",
       "      <th>Q003</th>\n",
       "      <th>Q004</th>\n",
       "      <th>Q005</th>\n",
       "      <th>Q006</th>\n",
       "      <th>Q007</th>\n",
       "      <th>Q008</th>\n",
       "      <th>Q009</th>\n",
       "      <th>Q010</th>\n",
       "      <th>Q011</th>\n",
       "      <th>Q012</th>\n",
       "      <th>Q013</th>\n",
       "      <th>Q014</th>\n",
       "      <th>Q015</th>\n",
       "      <th>Q016</th>\n",
       "      <th>Q017</th>\n",
       "      <th>Q018</th>\n",
       "      <th>Q019</th>\n",
       "      <th>Q020</th>\n",
       "      <th>Q021</th>\n",
       "      <th>Q022</th>\n",
       "      <th>Q023</th>\n",
       "      <th>Q024</th>\n",
       "      <th>Q025</th>\n",
       "    </tr>\n",
       "  </thead>\n",
       "  <tbody>\n",
       "    <tr>\n",
       "      <th>0</th>\n",
       "      <td>14</td>\n",
       "      <td>M</td>\n",
       "      <td>2</td>\n",
       "      <td>1</td>\n",
       "      <td>1</td>\n",
       "      <td>1</td>\n",
       "      <td>17</td>\n",
       "      <td>1</td>\n",
       "      <td>NaN</td>\n",
       "      <td>0</td>\n",
       "      <td>NaN</td>\n",
       "      <td>NaN</td>\n",
       "      <td>NaN</td>\n",
       "      <td>NaN</td>\n",
       "      <td>DF</td>\n",
       "      <td>0</td>\n",
       "      <td>0</td>\n",
       "      <td>0</td>\n",
       "      <td>0</td>\n",
       "      <td>NaN</td>\n",
       "      <td>NaN</td>\n",
       "      <td>NaN</td>\n",
       "      <td>NaN</td>\n",
       "      <td>0</td>\n",
       "      <td>NaN</td>\n",
       "      <td>NaN</td>\n",
       "      <td>NaN</td>\n",
       "      <td>NaN</td>\n",
       "      <td>NaN</td>\n",
       "      <td>NaN</td>\n",
       "      <td>NaN</td>\n",
       "      <td>A</td>\n",
       "      <td>F</td>\n",
       "      <td>E</td>\n",
       "      <td>D</td>\n",
       "      <td>5</td>\n",
       "      <td>F</td>\n",
       "      <td>C</td>\n",
       "      <td>C</td>\n",
       "      <td>D</td>\n",
       "      <td>C</td>\n",
       "      <td>D</td>\n",
       "      <td>C</td>\n",
       "      <td>B</td>\n",
       "      <td>B</td>\n",
       "      <td>D</td>\n",
       "      <td>C</td>\n",
       "      <td>C</td>\n",
       "      <td>B</td>\n",
       "      <td>B</td>\n",
       "      <td>A</td>\n",
       "      <td>B</td>\n",
       "      <td>B</td>\n",
       "      <td>A</td>\n",
       "      <td>A</td>\n",
       "      <td>B</td>\n",
       "    </tr>\n",
       "    <tr>\n",
       "      <th>1</th>\n",
       "      <td>12</td>\n",
       "      <td>M</td>\n",
       "      <td>2</td>\n",
       "      <td>1</td>\n",
       "      <td>0</td>\n",
       "      <td>1</td>\n",
       "      <td>16</td>\n",
       "      <td>1</td>\n",
       "      <td>NaN</td>\n",
       "      <td>0</td>\n",
       "      <td>NaN</td>\n",
       "      <td>NaN</td>\n",
       "      <td>NaN</td>\n",
       "      <td>NaN</td>\n",
       "      <td>DF</td>\n",
       "      <td>0</td>\n",
       "      <td>0</td>\n",
       "      <td>0</td>\n",
       "      <td>0</td>\n",
       "      <td>NaN</td>\n",
       "      <td>NaN</td>\n",
       "      <td>NaN</td>\n",
       "      <td>NaN</td>\n",
       "      <td>0</td>\n",
       "      <td>NaN</td>\n",
       "      <td>NaN</td>\n",
       "      <td>NaN</td>\n",
       "      <td>NaN</td>\n",
       "      <td>NaN</td>\n",
       "      <td>NaN</td>\n",
       "      <td>NaN</td>\n",
       "      <td>F</td>\n",
       "      <td>E</td>\n",
       "      <td>E</td>\n",
       "      <td>B</td>\n",
       "      <td>3</td>\n",
       "      <td>H</td>\n",
       "      <td>A</td>\n",
       "      <td>B</td>\n",
       "      <td>C</td>\n",
       "      <td>C</td>\n",
       "      <td>A</td>\n",
       "      <td>B</td>\n",
       "      <td>B</td>\n",
       "      <td>B</td>\n",
       "      <td>A</td>\n",
       "      <td>B</td>\n",
       "      <td>A</td>\n",
       "      <td>B</td>\n",
       "      <td>B</td>\n",
       "      <td>A</td>\n",
       "      <td>A</td>\n",
       "      <td>C</td>\n",
       "      <td>A</td>\n",
       "      <td>D</td>\n",
       "      <td>B</td>\n",
       "    </tr>\n",
       "    <tr>\n",
       "      <th>2</th>\n",
       "      <td>6</td>\n",
       "      <td>F</td>\n",
       "      <td>1</td>\n",
       "      <td>1</td>\n",
       "      <td>1</td>\n",
       "      <td>1</td>\n",
       "      <td>0</td>\n",
       "      <td>1</td>\n",
       "      <td>NaN</td>\n",
       "      <td>0</td>\n",
       "      <td>NaN</td>\n",
       "      <td>NaN</td>\n",
       "      <td>NaN</td>\n",
       "      <td>NaN</td>\n",
       "      <td>RS</td>\n",
       "      <td>1</td>\n",
       "      <td>1</td>\n",
       "      <td>1</td>\n",
       "      <td>1</td>\n",
       "      <td>502.00</td>\n",
       "      <td>498.90</td>\n",
       "      <td>475.60</td>\n",
       "      <td>363.20</td>\n",
       "      <td>1</td>\n",
       "      <td>1.00</td>\n",
       "      <td>140.00</td>\n",
       "      <td>200.00</td>\n",
       "      <td>100.00</td>\n",
       "      <td>120.00</td>\n",
       "      <td>140.00</td>\n",
       "      <td>700.00</td>\n",
       "      <td>H</td>\n",
       "      <td>E</td>\n",
       "      <td>C</td>\n",
       "      <td>F</td>\n",
       "      <td>5</td>\n",
       "      <td>C</td>\n",
       "      <td>A</td>\n",
       "      <td>B</td>\n",
       "      <td>D</td>\n",
       "      <td>B</td>\n",
       "      <td>A</td>\n",
       "      <td>B</td>\n",
       "      <td>A</td>\n",
       "      <td>B</td>\n",
       "      <td>A</td>\n",
       "      <td>B</td>\n",
       "      <td>A</td>\n",
       "      <td>A</td>\n",
       "      <td>B</td>\n",
       "      <td>A</td>\n",
       "      <td>A</td>\n",
       "      <td>A</td>\n",
       "      <td>A</td>\n",
       "      <td>A</td>\n",
       "      <td>B</td>\n",
       "    </tr>\n",
       "    <tr>\n",
       "      <th>3</th>\n",
       "      <td>2</td>\n",
       "      <td>F</td>\n",
       "      <td>1</td>\n",
       "      <td>3</td>\n",
       "      <td>1</td>\n",
       "      <td>2</td>\n",
       "      <td>0</td>\n",
       "      <td>2</td>\n",
       "      <td>1.00</td>\n",
       "      <td>0</td>\n",
       "      <td>CE</td>\n",
       "      <td>2.00</td>\n",
       "      <td>1.00</td>\n",
       "      <td>1.00</td>\n",
       "      <td>CE</td>\n",
       "      <td>1</td>\n",
       "      <td>1</td>\n",
       "      <td>1</td>\n",
       "      <td>1</td>\n",
       "      <td>459.00</td>\n",
       "      <td>508.50</td>\n",
       "      <td>507.20</td>\n",
       "      <td>466.70</td>\n",
       "      <td>0</td>\n",
       "      <td>1.00</td>\n",
       "      <td>140.00</td>\n",
       "      <td>200.00</td>\n",
       "      <td>160.00</td>\n",
       "      <td>180.00</td>\n",
       "      <td>200.00</td>\n",
       "      <td>880.00</td>\n",
       "      <td>D</td>\n",
       "      <td>D</td>\n",
       "      <td>B</td>\n",
       "      <td>B</td>\n",
       "      <td>5</td>\n",
       "      <td>C</td>\n",
       "      <td>A</td>\n",
       "      <td>B</td>\n",
       "      <td>B</td>\n",
       "      <td>A</td>\n",
       "      <td>A</td>\n",
       "      <td>B</td>\n",
       "      <td>A</td>\n",
       "      <td>A</td>\n",
       "      <td>A</td>\n",
       "      <td>A</td>\n",
       "      <td>A</td>\n",
       "      <td>A</td>\n",
       "      <td>B</td>\n",
       "      <td>A</td>\n",
       "      <td>A</td>\n",
       "      <td>D</td>\n",
       "      <td>A</td>\n",
       "      <td>A</td>\n",
       "      <td>B</td>\n",
       "    </tr>\n",
       "    <tr>\n",
       "      <th>4</th>\n",
       "      <td>3</td>\n",
       "      <td>F</td>\n",
       "      <td>1</td>\n",
       "      <td>3</td>\n",
       "      <td>1</td>\n",
       "      <td>2</td>\n",
       "      <td>0</td>\n",
       "      <td>2</td>\n",
       "      <td>1.00</td>\n",
       "      <td>0</td>\n",
       "      <td>CE</td>\n",
       "      <td>2.00</td>\n",
       "      <td>1.00</td>\n",
       "      <td>1.00</td>\n",
       "      <td>CE</td>\n",
       "      <td>1</td>\n",
       "      <td>1</td>\n",
       "      <td>1</td>\n",
       "      <td>1</td>\n",
       "      <td>402.50</td>\n",
       "      <td>379.20</td>\n",
       "      <td>446.90</td>\n",
       "      <td>338.30</td>\n",
       "      <td>0</td>\n",
       "      <td>1.00</td>\n",
       "      <td>120.00</td>\n",
       "      <td>120.00</td>\n",
       "      <td>120.00</td>\n",
       "      <td>120.00</td>\n",
       "      <td>80.00</td>\n",
       "      <td>560.00</td>\n",
       "      <td>B</td>\n",
       "      <td>B</td>\n",
       "      <td>A</td>\n",
       "      <td>A</td>\n",
       "      <td>4</td>\n",
       "      <td>B</td>\n",
       "      <td>A</td>\n",
       "      <td>B</td>\n",
       "      <td>A</td>\n",
       "      <td>A</td>\n",
       "      <td>A</td>\n",
       "      <td>B</td>\n",
       "      <td>A</td>\n",
       "      <td>A</td>\n",
       "      <td>A</td>\n",
       "      <td>A</td>\n",
       "      <td>A</td>\n",
       "      <td>A</td>\n",
       "      <td>B</td>\n",
       "      <td>A</td>\n",
       "      <td>A</td>\n",
       "      <td>B</td>\n",
       "      <td>A</td>\n",
       "      <td>A</td>\n",
       "      <td>A</td>\n",
       "    </tr>\n",
       "  </tbody>\n",
       "</table>\n",
       "</div>"
      ],
      "text/plain": [
       "   TP_FAIXA_ETARIA TP_SEXO  TP_ESTADO_CIVIL  TP_COR_RACA  TP_NACIONALIDADE  \\\n",
       "0               14       M                2            1                 1   \n",
       "1               12       M                2            1                 0   \n",
       "2                6       F                1            1                 1   \n",
       "3                2       F                1            3                 1   \n",
       "4                3       F                1            3                 1   \n",
       "\n",
       "   TP_ST_CONCLUSAO  TP_ANO_CONCLUIU  TP_ESCOLA  TP_ENSINO  IN_TREINEIRO  \\\n",
       "0                1               17          1        NaN             0   \n",
       "1                1               16          1        NaN             0   \n",
       "2                1                0          1        NaN             0   \n",
       "3                2                0          2       1.00             0   \n",
       "4                2                0          2       1.00             0   \n",
       "\n",
       "  SG_UF_ESC  TP_DEPENDENCIA_ADM_ESC  TP_LOCALIZACAO_ESC  TP_SIT_FUNC_ESC  \\\n",
       "0       NaN                     NaN                 NaN              NaN   \n",
       "1       NaN                     NaN                 NaN              NaN   \n",
       "2       NaN                     NaN                 NaN              NaN   \n",
       "3        CE                    2.00                1.00             1.00   \n",
       "4        CE                    2.00                1.00             1.00   \n",
       "\n",
       "  SG_UF_PROVA  TP_PRESENCA_CN  TP_PRESENCA_CH  TP_PRESENCA_LC  TP_PRESENCA_MT  \\\n",
       "0          DF               0               0               0               0   \n",
       "1          DF               0               0               0               0   \n",
       "2          RS               1               1               1               1   \n",
       "3          CE               1               1               1               1   \n",
       "4          CE               1               1               1               1   \n",
       "\n",
       "   NU_NOTA_CN  NU_NOTA_CH  NU_NOTA_LC  NU_NOTA_MT  TP_LINGUA  \\\n",
       "0         NaN         NaN         NaN         NaN          0   \n",
       "1         NaN         NaN         NaN         NaN          0   \n",
       "2      502.00      498.90      475.60      363.20          1   \n",
       "3      459.00      508.50      507.20      466.70          0   \n",
       "4      402.50      379.20      446.90      338.30          0   \n",
       "\n",
       "   TP_STATUS_REDACAO  NU_NOTA_COMP1  NU_NOTA_COMP2  NU_NOTA_COMP3  \\\n",
       "0                NaN            NaN            NaN            NaN   \n",
       "1                NaN            NaN            NaN            NaN   \n",
       "2               1.00         140.00         200.00         100.00   \n",
       "3               1.00         140.00         200.00         160.00   \n",
       "4               1.00         120.00         120.00         120.00   \n",
       "\n",
       "   NU_NOTA_COMP4  NU_NOTA_COMP5  NU_NOTA_REDACAO Q001 Q002 Q003 Q004  Q005  \\\n",
       "0            NaN            NaN              NaN    A    F    E    D     5   \n",
       "1            NaN            NaN              NaN    F    E    E    B     3   \n",
       "2         120.00         140.00           700.00    H    E    C    F     5   \n",
       "3         180.00         200.00           880.00    D    D    B    B     5   \n",
       "4         120.00          80.00           560.00    B    B    A    A     4   \n",
       "\n",
       "  Q006 Q007 Q008 Q009 Q010 Q011 Q012 Q013 Q014 Q015 Q016 Q017 Q018 Q019 Q020  \\\n",
       "0    F    C    C    D    C    D    C    B    B    D    C    C    B    B    A   \n",
       "1    H    A    B    C    C    A    B    B    B    A    B    A    B    B    A   \n",
       "2    C    A    B    D    B    A    B    A    B    A    B    A    A    B    A   \n",
       "3    C    A    B    B    A    A    B    A    A    A    A    A    A    B    A   \n",
       "4    B    A    B    A    A    A    B    A    A    A    A    A    A    B    A   \n",
       "\n",
       "  Q021 Q022 Q023 Q024 Q025  \n",
       "0    B    B    A    A    B  \n",
       "1    A    C    A    D    B  \n",
       "2    A    A    A    A    B  \n",
       "3    A    D    A    A    B  \n",
       "4    A    B    A    A    A  "
      ]
     },
     "execution_count": 27,
     "metadata": {},
     "output_type": "execute_result"
    }
   ],
   "source": [
    "df_enem.head()"
   ]
  },
  {
   "cell_type": "code",
   "execution_count": 28,
   "id": "954eaa85",
   "metadata": {},
   "outputs": [
    {
     "data": {
      "text/html": [
       "<div>\n",
       "<style scoped>\n",
       "    .dataframe tbody tr th:only-of-type {\n",
       "        vertical-align: middle;\n",
       "    }\n",
       "\n",
       "    .dataframe tbody tr th {\n",
       "        vertical-align: top;\n",
       "    }\n",
       "\n",
       "    .dataframe thead th {\n",
       "        text-align: right;\n",
       "    }\n",
       "</style>\n",
       "<table border=\"1\" class=\"dataframe\">\n",
       "  <thead>\n",
       "    <tr style=\"text-align: right;\">\n",
       "      <th></th>\n",
       "      <th>TP_FAIXA_ETARIA</th>\n",
       "      <th>TP_SEXO</th>\n",
       "      <th>TP_ESTADO_CIVIL</th>\n",
       "      <th>TP_COR_RACA</th>\n",
       "      <th>TP_NACIONALIDADE</th>\n",
       "      <th>TP_ST_CONCLUSAO</th>\n",
       "      <th>TP_ANO_CONCLUIU</th>\n",
       "      <th>TP_ESCOLA</th>\n",
       "      <th>TP_ENSINO</th>\n",
       "      <th>IN_TREINEIRO</th>\n",
       "      <th>SG_UF_ESC</th>\n",
       "      <th>TP_DEPENDENCIA_ADM_ESC</th>\n",
       "      <th>TP_LOCALIZACAO_ESC</th>\n",
       "      <th>TP_SIT_FUNC_ESC</th>\n",
       "      <th>SG_UF_PROVA</th>\n",
       "      <th>TP_PRESENCA_CN</th>\n",
       "      <th>TP_PRESENCA_CH</th>\n",
       "      <th>TP_PRESENCA_LC</th>\n",
       "      <th>TP_PRESENCA_MT</th>\n",
       "      <th>NU_NOTA_CN</th>\n",
       "      <th>NU_NOTA_CH</th>\n",
       "      <th>NU_NOTA_LC</th>\n",
       "      <th>NU_NOTA_MT</th>\n",
       "      <th>TP_LINGUA</th>\n",
       "      <th>TP_STATUS_REDACAO</th>\n",
       "      <th>NU_NOTA_COMP1</th>\n",
       "      <th>NU_NOTA_COMP2</th>\n",
       "      <th>NU_NOTA_COMP3</th>\n",
       "      <th>NU_NOTA_COMP4</th>\n",
       "      <th>NU_NOTA_COMP5</th>\n",
       "      <th>NU_NOTA_REDACAO</th>\n",
       "      <th>Q001</th>\n",
       "      <th>Q002</th>\n",
       "      <th>Q003</th>\n",
       "      <th>Q004</th>\n",
       "      <th>Q005</th>\n",
       "      <th>Q006</th>\n",
       "      <th>Q007</th>\n",
       "      <th>Q008</th>\n",
       "      <th>Q009</th>\n",
       "      <th>Q010</th>\n",
       "      <th>Q011</th>\n",
       "      <th>Q012</th>\n",
       "      <th>Q013</th>\n",
       "      <th>Q014</th>\n",
       "      <th>Q015</th>\n",
       "      <th>Q016</th>\n",
       "      <th>Q017</th>\n",
       "      <th>Q018</th>\n",
       "      <th>Q019</th>\n",
       "      <th>Q020</th>\n",
       "      <th>Q021</th>\n",
       "      <th>Q022</th>\n",
       "      <th>Q023</th>\n",
       "      <th>Q024</th>\n",
       "      <th>Q025</th>\n",
       "    </tr>\n",
       "  </thead>\n",
       "  <tbody>\n",
       "    <tr>\n",
       "      <th>0</th>\n",
       "      <td>14</td>\n",
       "      <td>M</td>\n",
       "      <td>2</td>\n",
       "      <td>1</td>\n",
       "      <td>1</td>\n",
       "      <td>1</td>\n",
       "      <td>17</td>\n",
       "      <td>1</td>\n",
       "      <td>NaN</td>\n",
       "      <td>0</td>\n",
       "      <td>NaN</td>\n",
       "      <td>NaN</td>\n",
       "      <td>NaN</td>\n",
       "      <td>NaN</td>\n",
       "      <td>DF</td>\n",
       "      <td>0</td>\n",
       "      <td>0</td>\n",
       "      <td>0</td>\n",
       "      <td>0</td>\n",
       "      <td>NaN</td>\n",
       "      <td>NaN</td>\n",
       "      <td>NaN</td>\n",
       "      <td>NaN</td>\n",
       "      <td>0</td>\n",
       "      <td>NaN</td>\n",
       "      <td>NaN</td>\n",
       "      <td>NaN</td>\n",
       "      <td>NaN</td>\n",
       "      <td>NaN</td>\n",
       "      <td>NaN</td>\n",
       "      <td>NaN</td>\n",
       "      <td>A</td>\n",
       "      <td>F</td>\n",
       "      <td>E</td>\n",
       "      <td>D</td>\n",
       "      <td>5</td>\n",
       "      <td>F</td>\n",
       "      <td>C</td>\n",
       "      <td>C</td>\n",
       "      <td>D</td>\n",
       "      <td>C</td>\n",
       "      <td>D</td>\n",
       "      <td>C</td>\n",
       "      <td>B</td>\n",
       "      <td>B</td>\n",
       "      <td>D</td>\n",
       "      <td>C</td>\n",
       "      <td>C</td>\n",
       "      <td>B</td>\n",
       "      <td>B</td>\n",
       "      <td>A</td>\n",
       "      <td>B</td>\n",
       "      <td>B</td>\n",
       "      <td>A</td>\n",
       "      <td>A</td>\n",
       "      <td>B</td>\n",
       "    </tr>\n",
       "    <tr>\n",
       "      <th>1</th>\n",
       "      <td>12</td>\n",
       "      <td>M</td>\n",
       "      <td>2</td>\n",
       "      <td>1</td>\n",
       "      <td>0</td>\n",
       "      <td>1</td>\n",
       "      <td>16</td>\n",
       "      <td>1</td>\n",
       "      <td>NaN</td>\n",
       "      <td>0</td>\n",
       "      <td>NaN</td>\n",
       "      <td>NaN</td>\n",
       "      <td>NaN</td>\n",
       "      <td>NaN</td>\n",
       "      <td>DF</td>\n",
       "      <td>0</td>\n",
       "      <td>0</td>\n",
       "      <td>0</td>\n",
       "      <td>0</td>\n",
       "      <td>NaN</td>\n",
       "      <td>NaN</td>\n",
       "      <td>NaN</td>\n",
       "      <td>NaN</td>\n",
       "      <td>0</td>\n",
       "      <td>NaN</td>\n",
       "      <td>NaN</td>\n",
       "      <td>NaN</td>\n",
       "      <td>NaN</td>\n",
       "      <td>NaN</td>\n",
       "      <td>NaN</td>\n",
       "      <td>NaN</td>\n",
       "      <td>F</td>\n",
       "      <td>E</td>\n",
       "      <td>E</td>\n",
       "      <td>B</td>\n",
       "      <td>3</td>\n",
       "      <td>H</td>\n",
       "      <td>A</td>\n",
       "      <td>B</td>\n",
       "      <td>C</td>\n",
       "      <td>C</td>\n",
       "      <td>A</td>\n",
       "      <td>B</td>\n",
       "      <td>B</td>\n",
       "      <td>B</td>\n",
       "      <td>A</td>\n",
       "      <td>B</td>\n",
       "      <td>A</td>\n",
       "      <td>B</td>\n",
       "      <td>B</td>\n",
       "      <td>A</td>\n",
       "      <td>A</td>\n",
       "      <td>C</td>\n",
       "      <td>A</td>\n",
       "      <td>D</td>\n",
       "      <td>B</td>\n",
       "    </tr>\n",
       "    <tr>\n",
       "      <th>2</th>\n",
       "      <td>6</td>\n",
       "      <td>F</td>\n",
       "      <td>1</td>\n",
       "      <td>1</td>\n",
       "      <td>1</td>\n",
       "      <td>1</td>\n",
       "      <td>0</td>\n",
       "      <td>1</td>\n",
       "      <td>NaN</td>\n",
       "      <td>0</td>\n",
       "      <td>NaN</td>\n",
       "      <td>NaN</td>\n",
       "      <td>NaN</td>\n",
       "      <td>NaN</td>\n",
       "      <td>RS</td>\n",
       "      <td>1</td>\n",
       "      <td>1</td>\n",
       "      <td>1</td>\n",
       "      <td>1</td>\n",
       "      <td>502.00</td>\n",
       "      <td>498.90</td>\n",
       "      <td>475.60</td>\n",
       "      <td>363.20</td>\n",
       "      <td>1</td>\n",
       "      <td>1.00</td>\n",
       "      <td>140.00</td>\n",
       "      <td>200.00</td>\n",
       "      <td>100.00</td>\n",
       "      <td>120.00</td>\n",
       "      <td>140.00</td>\n",
       "      <td>700.00</td>\n",
       "      <td>H</td>\n",
       "      <td>E</td>\n",
       "      <td>C</td>\n",
       "      <td>F</td>\n",
       "      <td>5</td>\n",
       "      <td>C</td>\n",
       "      <td>A</td>\n",
       "      <td>B</td>\n",
       "      <td>D</td>\n",
       "      <td>B</td>\n",
       "      <td>A</td>\n",
       "      <td>B</td>\n",
       "      <td>A</td>\n",
       "      <td>B</td>\n",
       "      <td>A</td>\n",
       "      <td>B</td>\n",
       "      <td>A</td>\n",
       "      <td>A</td>\n",
       "      <td>B</td>\n",
       "      <td>A</td>\n",
       "      <td>A</td>\n",
       "      <td>A</td>\n",
       "      <td>A</td>\n",
       "      <td>A</td>\n",
       "      <td>B</td>\n",
       "    </tr>\n",
       "    <tr>\n",
       "      <th>3</th>\n",
       "      <td>2</td>\n",
       "      <td>F</td>\n",
       "      <td>1</td>\n",
       "      <td>3</td>\n",
       "      <td>1</td>\n",
       "      <td>2</td>\n",
       "      <td>0</td>\n",
       "      <td>2</td>\n",
       "      <td>1.00</td>\n",
       "      <td>0</td>\n",
       "      <td>CE</td>\n",
       "      <td>2.00</td>\n",
       "      <td>1.00</td>\n",
       "      <td>1.00</td>\n",
       "      <td>CE</td>\n",
       "      <td>1</td>\n",
       "      <td>1</td>\n",
       "      <td>1</td>\n",
       "      <td>1</td>\n",
       "      <td>459.00</td>\n",
       "      <td>508.50</td>\n",
       "      <td>507.20</td>\n",
       "      <td>466.70</td>\n",
       "      <td>0</td>\n",
       "      <td>1.00</td>\n",
       "      <td>140.00</td>\n",
       "      <td>200.00</td>\n",
       "      <td>160.00</td>\n",
       "      <td>180.00</td>\n",
       "      <td>200.00</td>\n",
       "      <td>880.00</td>\n",
       "      <td>D</td>\n",
       "      <td>D</td>\n",
       "      <td>B</td>\n",
       "      <td>B</td>\n",
       "      <td>5</td>\n",
       "      <td>C</td>\n",
       "      <td>A</td>\n",
       "      <td>B</td>\n",
       "      <td>B</td>\n",
       "      <td>A</td>\n",
       "      <td>A</td>\n",
       "      <td>B</td>\n",
       "      <td>A</td>\n",
       "      <td>A</td>\n",
       "      <td>A</td>\n",
       "      <td>A</td>\n",
       "      <td>A</td>\n",
       "      <td>A</td>\n",
       "      <td>B</td>\n",
       "      <td>A</td>\n",
       "      <td>A</td>\n",
       "      <td>D</td>\n",
       "      <td>A</td>\n",
       "      <td>A</td>\n",
       "      <td>B</td>\n",
       "    </tr>\n",
       "    <tr>\n",
       "      <th>4</th>\n",
       "      <td>3</td>\n",
       "      <td>F</td>\n",
       "      <td>1</td>\n",
       "      <td>3</td>\n",
       "      <td>1</td>\n",
       "      <td>2</td>\n",
       "      <td>0</td>\n",
       "      <td>2</td>\n",
       "      <td>1.00</td>\n",
       "      <td>0</td>\n",
       "      <td>CE</td>\n",
       "      <td>2.00</td>\n",
       "      <td>1.00</td>\n",
       "      <td>1.00</td>\n",
       "      <td>CE</td>\n",
       "      <td>1</td>\n",
       "      <td>1</td>\n",
       "      <td>1</td>\n",
       "      <td>1</td>\n",
       "      <td>402.50</td>\n",
       "      <td>379.20</td>\n",
       "      <td>446.90</td>\n",
       "      <td>338.30</td>\n",
       "      <td>0</td>\n",
       "      <td>1.00</td>\n",
       "      <td>120.00</td>\n",
       "      <td>120.00</td>\n",
       "      <td>120.00</td>\n",
       "      <td>120.00</td>\n",
       "      <td>80.00</td>\n",
       "      <td>560.00</td>\n",
       "      <td>B</td>\n",
       "      <td>B</td>\n",
       "      <td>A</td>\n",
       "      <td>A</td>\n",
       "      <td>4</td>\n",
       "      <td>B</td>\n",
       "      <td>A</td>\n",
       "      <td>B</td>\n",
       "      <td>A</td>\n",
       "      <td>A</td>\n",
       "      <td>A</td>\n",
       "      <td>B</td>\n",
       "      <td>A</td>\n",
       "      <td>A</td>\n",
       "      <td>A</td>\n",
       "      <td>A</td>\n",
       "      <td>A</td>\n",
       "      <td>A</td>\n",
       "      <td>B</td>\n",
       "      <td>A</td>\n",
       "      <td>A</td>\n",
       "      <td>B</td>\n",
       "      <td>A</td>\n",
       "      <td>A</td>\n",
       "      <td>A</td>\n",
       "    </tr>\n",
       "  </tbody>\n",
       "</table>\n",
       "</div>"
      ],
      "text/plain": [
       "   TP_FAIXA_ETARIA TP_SEXO  TP_ESTADO_CIVIL  TP_COR_RACA  TP_NACIONALIDADE  \\\n",
       "0               14       M                2            1                 1   \n",
       "1               12       M                2            1                 0   \n",
       "2                6       F                1            1                 1   \n",
       "3                2       F                1            3                 1   \n",
       "4                3       F                1            3                 1   \n",
       "\n",
       "   TP_ST_CONCLUSAO  TP_ANO_CONCLUIU  TP_ESCOLA  TP_ENSINO  IN_TREINEIRO  \\\n",
       "0                1               17          1        NaN             0   \n",
       "1                1               16          1        NaN             0   \n",
       "2                1                0          1        NaN             0   \n",
       "3                2                0          2       1.00             0   \n",
       "4                2                0          2       1.00             0   \n",
       "\n",
       "  SG_UF_ESC  TP_DEPENDENCIA_ADM_ESC  TP_LOCALIZACAO_ESC  TP_SIT_FUNC_ESC  \\\n",
       "0       NaN                     NaN                 NaN              NaN   \n",
       "1       NaN                     NaN                 NaN              NaN   \n",
       "2       NaN                     NaN                 NaN              NaN   \n",
       "3        CE                    2.00                1.00             1.00   \n",
       "4        CE                    2.00                1.00             1.00   \n",
       "\n",
       "  SG_UF_PROVA  TP_PRESENCA_CN  TP_PRESENCA_CH  TP_PRESENCA_LC  TP_PRESENCA_MT  \\\n",
       "0          DF               0               0               0               0   \n",
       "1          DF               0               0               0               0   \n",
       "2          RS               1               1               1               1   \n",
       "3          CE               1               1               1               1   \n",
       "4          CE               1               1               1               1   \n",
       "\n",
       "   NU_NOTA_CN  NU_NOTA_CH  NU_NOTA_LC  NU_NOTA_MT  TP_LINGUA  \\\n",
       "0         NaN         NaN         NaN         NaN          0   \n",
       "1         NaN         NaN         NaN         NaN          0   \n",
       "2      502.00      498.90      475.60      363.20          1   \n",
       "3      459.00      508.50      507.20      466.70          0   \n",
       "4      402.50      379.20      446.90      338.30          0   \n",
       "\n",
       "   TP_STATUS_REDACAO  NU_NOTA_COMP1  NU_NOTA_COMP2  NU_NOTA_COMP3  \\\n",
       "0                NaN            NaN            NaN            NaN   \n",
       "1                NaN            NaN            NaN            NaN   \n",
       "2               1.00         140.00         200.00         100.00   \n",
       "3               1.00         140.00         200.00         160.00   \n",
       "4               1.00         120.00         120.00         120.00   \n",
       "\n",
       "   NU_NOTA_COMP4  NU_NOTA_COMP5  NU_NOTA_REDACAO Q001 Q002 Q003 Q004  Q005  \\\n",
       "0            NaN            NaN              NaN    A    F    E    D     5   \n",
       "1            NaN            NaN              NaN    F    E    E    B     3   \n",
       "2         120.00         140.00           700.00    H    E    C    F     5   \n",
       "3         180.00         200.00           880.00    D    D    B    B     5   \n",
       "4         120.00          80.00           560.00    B    B    A    A     4   \n",
       "\n",
       "  Q006 Q007 Q008 Q009 Q010 Q011 Q012 Q013 Q014 Q015 Q016 Q017 Q018 Q019 Q020  \\\n",
       "0    F    C    C    D    C    D    C    B    B    D    C    C    B    B    A   \n",
       "1    H    A    B    C    C    A    B    B    B    A    B    A    B    B    A   \n",
       "2    C    A    B    D    B    A    B    A    B    A    B    A    A    B    A   \n",
       "3    C    A    B    B    A    A    B    A    A    A    A    A    A    B    A   \n",
       "4    B    A    B    A    A    A    B    A    A    A    A    A    A    B    A   \n",
       "\n",
       "  Q021 Q022 Q023 Q024 Q025  \n",
       "0    B    B    A    A    B  \n",
       "1    A    C    A    D    B  \n",
       "2    A    A    A    A    B  \n",
       "3    A    D    A    A    B  \n",
       "4    A    B    A    A    A  "
      ]
     },
     "execution_count": 28,
     "metadata": {},
     "output_type": "execute_result"
    }
   ],
   "source": [
    "# Que índices feios, vamos reiniciar\n",
    "df_enem = df_enem.reset_index(drop=True)\n",
    "df_enem.head()"
   ]
  },
  {
   "cell_type": "code",
   "execution_count": 30,
   "id": "579afd65",
   "metadata": {
    "scrolled": true
   },
   "outputs": [
    {
     "data": {
      "text/plain": [
       "TP_FAIXA_ETARIA\n",
       "3     905047\n",
       "2     753800\n",
       "4     431592\n",
       "1     347434\n",
       "5     267383\n",
       "11    246292\n",
       "6     183401\n",
       "7     137884\n",
       "12    133381\n",
       "8     111813\n",
       "13     96927\n",
       "9      91359\n",
       "10     73127\n",
       "14     67135\n",
       "15     40791\n",
       "16     24619\n",
       "17     13439\n",
       "18      5503\n",
       "19      2161\n",
       "20       867\n",
       "Name: count, dtype: int64"
      ]
     },
     "execution_count": 30,
     "metadata": {},
     "output_type": "execute_result"
    }
   ],
   "source": [
    "# Analisando a idade dos candidatos\n",
    "df_enem['TP_FAIXA_ETARIA'].value_counts()"
   ]
  },
  {
   "cell_type": "code",
   "execution_count": 31,
   "id": "9ae9483c",
   "metadata": {
    "scrolled": true
   },
   "outputs": [
    {
     "data": {
      "text/plain": [
       "TP_FAIXA_ETARIA\n",
       "1     347434\n",
       "2     753800\n",
       "3     905047\n",
       "4     431592\n",
       "5     267383\n",
       "6     183401\n",
       "7     137884\n",
       "8     111813\n",
       "9      91359\n",
       "10     73127\n",
       "11    246292\n",
       "12    133381\n",
       "13     96927\n",
       "14     67135\n",
       "15     40791\n",
       "16     24619\n",
       "17     13439\n",
       "18      5503\n",
       "19      2161\n",
       "20       867\n",
       "Name: count, dtype: int64"
      ]
     },
     "execution_count": 31,
     "metadata": {},
     "output_type": "execute_result"
    }
   ],
   "source": [
    "# Analisando a idade dos candidatos\n",
    "df_enem['TP_FAIXA_ETARIA'].value_counts().sort_index()"
   ]
  },
  {
   "cell_type": "code",
   "execution_count": 33,
   "id": "9a8bbafa",
   "metadata": {},
   "outputs": [
    {
     "data": {
      "text/plain": [
       "<Axes: xlabel='TP_FAIXA_ETARIA', ylabel='Density'>"
      ]
     },
     "execution_count": 33,
     "metadata": {},
     "output_type": "execute_result"
    },
    {
     "data": {
      "image/png": "[encoded data removed]",
      "text/plain": [
       "<Figure size 640x480 with 1 Axes>"
      ]
     },
     "metadata": {},
     "output_type": "display_data"
    }
   ],
   "source": [
    "sns.kdeplot(data=df_enem, x='TP_FAIXA_ETARIA')"
   ]
  },
  {
   "cell_type": "code",
   "execution_count": 34,
   "id": "586bd16c",
   "metadata": {},
   "outputs": [
    {
     "data": {
      "text/plain": [
       "TP_SEXO\n",
       "F    2411185\n",
       "M    1522770\n",
       "Name: count, dtype: int64"
      ]
     },
     "execution_count": 34,
     "metadata": {},
     "output_type": "execute_result"
    }
   ],
   "source": [
    "df_enem['TP_SEXO'].value_counts()"
   ]
  },
  {
   "cell_type": "code",
   "execution_count": 35,
   "id": "e6f05c00",
   "metadata": {},
   "outputs": [
    {
     "data": {
      "text/plain": [
       "TP_SEXO\n",
       "F   61.29\n",
       "M   38.71\n",
       "Name: proportion, dtype: float64"
      ]
     },
     "execution_count": 35,
     "metadata": {},
     "output_type": "execute_result"
    }
   ],
   "source": [
    "# em porcentagem\n",
    "df_enem['TP_SEXO'].value_counts(normalize=True) * 100"
   ]
  },
  {
   "cell_type": "code",
   "execution_count": 36,
   "id": "036a4b31",
   "metadata": {},
   "outputs": [
    {
     "data": {
      "text/plain": [
       "<Axes: xlabel='TP_SEXO', ylabel='count'>"
      ]
     },
     "execution_count": 36,
     "metadata": {},
     "output_type": "execute_result"
    },
    {
     "data": {
      "image/png": "[encoded data removed]",
      "text/plain": [
       "<Figure size 640x480 with 1 Axes>"
      ]
     },
     "metadata": {},
     "output_type": "display_data"
    }
   ],
   "source": [
    "sns.countplot(data=df_enem, x='TP_SEXO')"
   ]
  },
  {
   "cell_type": "code",
   "execution_count": 37,
   "id": "0ce87328",
   "metadata": {},
   "outputs": [
    {
     "data": {
      "text/plain": [
       "TP_ESTADO_CIVIL\n",
       "0     171900\n",
       "1    3491857\n",
       "2     200456\n",
       "3      64933\n",
       "4       4809\n",
       "Name: count, dtype: int64"
      ]
     },
     "execution_count": 37,
     "metadata": {},
     "output_type": "execute_result"
    }
   ],
   "source": [
    "'''\n",
    "0 Não informado\n",
    "1 Solteiro(a)\n",
    "2 Casado(a)/Mora com companheiro(a)\n",
    "3 Divorciado(a)/Desquitado(a)/Separado(a)\n",
    "4 Viúvo(a)\n",
    "'''\n",
    "df_enem['TP_ESTADO_CIVIL'].value_counts().sort_index()"
   ]
  },
  {
   "cell_type": "code",
   "execution_count": 38,
   "id": "2a922b72",
   "metadata": {},
   "outputs": [
    {
     "data": {
      "text/plain": [
       "<Axes: xlabel='TP_ESTADO_CIVIL', ylabel='count'>"
      ]
     },
     "execution_count": 38,
     "metadata": {},
     "output_type": "execute_result"
    },
    {
     "data": {
      "image/png": "[encoded data removed]",
      "text/plain": [
       "<Figure size 640x480 with 1 Axes>"
      ]
     },
     "metadata": {},
     "output_type": "display_data"
    }
   ],
   "source": [
    "sns.countplot(data=df_enem, x='TP_ESTADO_CIVIL')"
   ]
  },
  {
   "cell_type": "code",
   "execution_count": 39,
   "id": "114df03e",
   "metadata": {},
   "outputs": [
    {
     "data": {
      "text/plain": [
       "TP_COR_RACA\n",
       "0      52575\n",
       "1    1575848\n",
       "2     509511\n",
       "3    1706798\n",
       "4      64512\n",
       "5      24711\n",
       "Name: count, dtype: int64"
      ]
     },
     "execution_count": 39,
     "metadata": {},
     "output_type": "execute_result"
    }
   ],
   "source": [
    "'''\n",
    "0 Não declarado\n",
    "1 Branca\n",
    "2 Preta\n",
    "3 Parda\n",
    "4 Amarela\n",
    "5 Indígena \n",
    "'''\n",
    "df_enem['TP_COR_RACA'].value_counts().sort_index()"
   ]
  },
  {
   "cell_type": "code",
   "execution_count": 40,
   "id": "bfaf3e64",
   "metadata": {},
   "outputs": [
    {
     "data": {
      "text/plain": [
       "<Axes: xlabel='TP_COR_RACA', ylabel='count'>"
      ]
     },
     "execution_count": 40,
     "metadata": {},
     "output_type": "execute_result"
    },
    {
     "data": {
      "image/png": "[encoded data removed]",
      "text/plain": [
       "<Figure size 640x480 with 1 Axes>"
      ]
     },
     "metadata": {},
     "output_type": "display_data"
    }
   ],
   "source": [
    "sns.countplot(data=df_enem, x='TP_COR_RACA')"
   ]
  },
  {
   "cell_type": "code",
   "execution_count": 42,
   "id": "3051dbb7",
   "metadata": {
    "scrolled": true
   },
   "outputs": [
    {
     "data": {
      "text/plain": [
       "SG_UF_PROVA\n",
       "SP    590767\n",
       "MG    358575\n",
       "BA    324268\n",
       "RJ    282296\n",
       "CE    241960\n",
       "PA    229162\n",
       "PE    218859\n",
       "PR    166506\n",
       "MA    165756\n",
       "RS    159919\n",
       "GO    149110\n",
       "PB    124511\n",
       "RN    100706\n",
       "PI     99639\n",
       "AM     92916\n",
       "SC     91263\n",
       "AL     82760\n",
       "ES     73724\n",
       "DF     72975\n",
       "SE     65540\n",
       "MT     63912\n",
       "MS     47455\n",
       "RO     36038\n",
       "TO     32618\n",
       "AP     28807\n",
       "AC     24274\n",
       "RR      9639\n",
       "Name: count, dtype: int64"
      ]
     },
     "execution_count": 42,
     "metadata": {},
     "output_type": "execute_result"
    }
   ],
   "source": [
    "ufs = df_enem['SG_UF_PROVA'].value_counts()\n",
    "ufs"
   ]
  },
  {
   "cell_type": "code",
   "execution_count": 43,
   "id": "9e6ae6b2",
   "metadata": {
    "scrolled": true
   },
   "outputs": [
    {
     "data": {
      "text/html": [
       "<div>\n",
       "<style scoped>\n",
       "    .dataframe tbody tr th:only-of-type {\n",
       "        vertical-align: middle;\n",
       "    }\n",
       "\n",
       "    .dataframe tbody tr th {\n",
       "        vertical-align: top;\n",
       "    }\n",
       "\n",
       "    .dataframe thead th {\n",
       "        text-align: right;\n",
       "    }\n",
       "</style>\n",
       "<table border=\"1\" class=\"dataframe\">\n",
       "  <thead>\n",
       "    <tr style=\"text-align: right;\">\n",
       "      <th></th>\n",
       "      <th>uf</th>\n",
       "      <th>candidatos</th>\n",
       "    </tr>\n",
       "  </thead>\n",
       "  <tbody>\n",
       "    <tr>\n",
       "      <th>0</th>\n",
       "      <td>SP</td>\n",
       "      <td>590767</td>\n",
       "    </tr>\n",
       "    <tr>\n",
       "      <th>1</th>\n",
       "      <td>MG</td>\n",
       "      <td>358575</td>\n",
       "    </tr>\n",
       "    <tr>\n",
       "      <th>2</th>\n",
       "      <td>BA</td>\n",
       "      <td>324268</td>\n",
       "    </tr>\n",
       "    <tr>\n",
       "      <th>3</th>\n",
       "      <td>RJ</td>\n",
       "      <td>282296</td>\n",
       "    </tr>\n",
       "    <tr>\n",
       "      <th>4</th>\n",
       "      <td>CE</td>\n",
       "      <td>241960</td>\n",
       "    </tr>\n",
       "  </tbody>\n",
       "</table>\n",
       "</div>"
      ],
      "text/plain": [
       "   uf  candidatos\n",
       "0  SP      590767\n",
       "1  MG      358575\n",
       "2  BA      324268\n",
       "3  RJ      282296\n",
       "4  CE      241960"
      ]
     },
     "execution_count": 43,
     "metadata": {},
     "output_type": "execute_result"
    }
   ],
   "source": [
    "df_ufs = pd.DataFrame({'uf': ufs.index, 'candidatos': ufs.values})\n",
    "df_ufs.head()"
   ]
  },
  {
   "cell_type": "code",
   "execution_count": 44,
   "id": "5e0865a4",
   "metadata": {},
   "outputs": [
    {
     "data": {
      "application/vnd.plotly.v1+json": {
       "config": {
        "plotlyServerURL": "https://plot.ly"
       },
       "data": [
        {
         "branchvalues": "total",
         "domain": {
          "x": [
           0,
           1
          ],
          "y": [
           0,
           1
          ]
         },
         "hovertemplate": "labels=%{label}<br>candidatos=%{value}<br>parent=%{parent}<br>id=%{id}<extra></extra>",
         "ids": [
          "AC",
          "AL",
          "AM",
          "AP",
          "BA",
          "CE",
          "DF",
          "ES",
          "GO",
          "MA",
          "MG",
          "MS",
          "MT",
          "PA",
          "PB",
          "PE",
          "PI",
          "PR",
          "RJ",
          "RN",
          "RO",
          "RR",
          "RS",
          "SC",
          "SE",
          "SP",
          "TO"
         ],
         "labels": [
          "AC",
          "AL",
          "AM",
          "AP",
          "BA",
          "CE",
          "DF",
          "ES",
          "GO",
          "MA",
          "MG",
          "MS",
          "MT",
          "PA",
          "PB",
          "PE",
          "PI",
          "PR",
          "RJ",
          "RN",
          "RO",
          "RR",
          "RS",
          "SC",
          "SE",
          "SP",
          "TO"
         ],
         "name": "",
         "parents": [
          "",
          "",
          "",
          "",
          "",
          "",
          "",
          "",
          "",
          "",
          "",
          "",
          "",
          "",
          "",
          "",
          "",
          "",
          "",
          "",
          "",
          "",
          "",
          "",
          "",
          "",
          ""
         ],
         "root": {
          "color": "lightgrey"
         },
         "type": "treemap",
         "values": [
          24274,
          82760,
          92916,
          28807,
          324268,
          241960,
          72975,
          73724,
          149110,
          165756,
          358575,
          47455,
          63912,
          229162,
          124511,
          218859,
          99639,
          166506,
          282296,
          100706,
          36038,
          9639,
          159919,
          91263,
          65540,
          590767,
          32618
         ]
        }
       ],
       "layout": {
        "legend": {
         "tracegroupgap": 0
        },
        "margin": {
         "b": 25,
         "l": 25,
         "r": 25,
         "t": 50
        },
        "template": {
         "data": {
          "bar": [
           {
            "error_x": {
             "color": "#2a3f5f"
            },
            "error_y": {
             "color": "#2a3f5f"
            },
            "marker": {
             "line": {
              "color": "#E5ECF6",
              "width": 0.5
             },
             "pattern": {
              "fillmode": "overlay",
              "size": 10,
              "solidity": 0.2
             }
            },
            "type": "bar"
           }
          ],
          "barpolar": [
           {
            "marker": {
             "line": {
              "color": "#E5ECF6",
              "width": 0.5
             },
             "pattern": {
              "fillmode": "overlay",
              "size": 10,
              "solidity": 0.2
             }
            },
            "type": "barpolar"
           }
          ],
          "carpet": [
           {
            "aaxis": {
             "endlinecolor": "#2a3f5f",
             "gridcolor": "white",
             "linecolor": "white",
             "minorgridcolor": "white",
             "startlinecolor": "#2a3f5f"
            },
            "baxis": {
             "endlinecolor": "#2a3f5f",
             "gridcolor": "white",
             "linecolor": "white",
             "minorgridcolor": "white",
             "startlinecolor": "#2a3f5f"
            },
            "type": "carpet"
           }
          ],
          "choropleth": [
           {
            "colorbar": {
             "outlinewidth": 0,
             "ticks": ""
            },
            "type": "choropleth"
           }
          ],
          "contour": [
           {
            "colorbar": {
             "outlinewidth": 0,
             "ticks": ""
            },
            "colorscale": [
             [
              0,
              "#0d0887"
             ],
             [
              0.1111111111111111,
              "#46039f"
             ],
             [
              0.2222222222222222,
              "#7201a8"
             ],
             [
              0.3333333333333333,
              "#9c179e"
             ],
             [
              0.4444444444444444,
              "#bd3786"
             ],
             [
              0.5555555555555556,
              "#d8576b"
             ],
             [
              0.6666666666666666,
              "#ed7953"
             ],
             [
              0.7777777777777778,
              "#fb9f3a"
             ],
             [
              0.8888888888888888,
              "#fdca26"
             ],
             [
              1,
              "#f0f921"
             ]
            ],
            "type": "contour"
           }
          ],
          "contourcarpet": [
           {
            "colorbar": {
             "outlinewidth": 0,
             "ticks": ""
            },
            "type": "contourcarpet"
           }
          ],
          "heatmap": [
           {
            "colorbar": {
             "outlinewidth": 0,
             "ticks": ""
            },
            "colorscale": [
             [
              0,
              "#0d0887"
             ],
             [
              0.1111111111111111,
              "#46039f"
             ],
             [
              0.2222222222222222,
              "#7201a8"
             ],
             [
              0.3333333333333333,
              "#9c179e"
             ],
             [
              0.4444444444444444,
              "#bd3786"
             ],
             [
              0.5555555555555556,
              "#d8576b"
             ],
             [
              0.6666666666666666,
              "#ed7953"
             ],
             [
              0.7777777777777778,
              "#fb9f3a"
             ],
             [
              0.8888888888888888,
              "#fdca26"
             ],
             [
              1,
              "#f0f921"
             ]
            ],
            "type": "heatmap"
           }
          ],
          "heatmapgl": [
           {
            "colorbar": {
             "outlinewidth": 0,
             "ticks": ""
            },
            "colorscale": [
             [
              0,
              "#0d0887"
             ],
             [
              0.1111111111111111,
              "#46039f"
             ],
             [
              0.2222222222222222,
              "#7201a8"
             ],
             [
              0.3333333333333333,
              "#9c179e"
             ],
             [
              0.4444444444444444,
              "#bd3786"
             ],
             [
              0.5555555555555556,
              "#d8576b"
             ],
             [
              0.6666666666666666,
              "#ed7953"
             ],
             [
              0.7777777777777778,
              "#fb9f3a"
             ],
             [
              0.8888888888888888,
              "#fdca26"
             ],
             [
              1,
              "#f0f921"
             ]
            ],
            "type": "heatmapgl"
           }
          ],
          "histogram": [
           {
            "marker": {
             "pattern": {
              "fillmode": "overlay",
              "size": 10,
              "solidity": 0.2
             }
            },
            "type": "histogram"
           }
          ],
          "histogram2d": [
           {
            "colorbar": {
             "outlinewidth": 0,
             "ticks": ""
            },
            "colorscale": [
             [
              0,
              "#0d0887"
             ],
             [
              0.1111111111111111,
              "#46039f"
             ],
             [
              0.2222222222222222,
              "#7201a8"
             ],
             [
              0.3333333333333333,
              "#9c179e"
             ],
             [
              0.4444444444444444,
              "#bd3786"
             ],
             [
              0.5555555555555556,
              "#d8576b"
             ],
             [
              0.6666666666666666,
              "#ed7953"
             ],
             [
              0.7777777777777778,
              "#fb9f3a"
             ],
             [
              0.8888888888888888,
              "#fdca26"
             ],
             [
              1,
              "#f0f921"
             ]
            ],
            "type": "histogram2d"
           }
          ],
          "histogram2dcontour": [
           {
            "colorbar": {
             "outlinewidth": 0,
             "ticks": ""
            },
            "colorscale": [
             [
              0,
              "#0d0887"
             ],
             [
              0.1111111111111111,
              "#46039f"
             ],
             [
              0.2222222222222222,
              "#7201a8"
             ],
             [
              0.3333333333333333,
              "#9c179e"
             ],
             [
              0.4444444444444444,
              "#bd3786"
             ],
             [
              0.5555555555555556,
              "#d8576b"
             ],
             [
              0.6666666666666666,
              "#ed7953"
             ],
             [
              0.7777777777777778,
              "#fb9f3a"
             ],
             [
              0.8888888888888888,
              "#fdca26"
             ],
             [
              1,
              "#f0f921"
             ]
            ],
            "type": "histogram2dcontour"
           }
          ],
          "mesh3d": [
           {
            "colorbar": {
             "outlinewidth": 0,
             "ticks": ""
            },
            "type": "mesh3d"
           }
          ],
          "parcoords": [
           {
            "line": {
             "colorbar": {
              "outlinewidth": 0,
              "ticks": ""
             }
            },
            "type": "parcoords"
           }
          ],
          "pie": [
           {
            "automargin": true,
            "type": "pie"
           }
          ],
          "scatter": [
           {
            "fillpattern": {
             "fillmode": "overlay",
             "size": 10,
             "solidity": 0.2
            },
            "type": "scatter"
           }
          ],
          "scatter3d": [
           {
            "line": {
             "colorbar": {
              "outlinewidth": 0,
              "ticks": ""
             }
            },
            "marker": {
             "colorbar": {
              "outlinewidth": 0,
              "ticks": ""
             }
            },
            "type": "scatter3d"
           }
          ],
          "scattercarpet": [
           {
            "marker": {
             "colorbar": {
              "outlinewidth": 0,
              "ticks": ""
             }
            },
            "type": "scattercarpet"
           }
          ],
          "scattergeo": [
           {
            "marker": {
             "colorbar": {
              "outlinewidth": 0,
              "ticks": ""
             }
            },
            "type": "scattergeo"
           }
          ],
          "scattergl": [
           {
            "marker": {
             "colorbar": {
              "outlinewidth": 0,
              "ticks": ""
             }
            },
            "type": "scattergl"
           }
          ],
          "scattermapbox": [
           {
            "marker": {
             "colorbar": {
              "outlinewidth": 0,
              "ticks": ""
             }
            },
            "type": "scattermapbox"
           }
          ],
          "scatterpolar": [
           {
            "marker": {
             "colorbar": {
              "outlinewidth": 0,
              "ticks": ""
             }
            },
            "type": "scatterpolar"
           }
          ],
          "scatterpolargl": [
           {
            "marker": {
             "colorbar": {
              "outlinewidth": 0,
              "ticks": ""
             }
            },
            "type": "scatterpolargl"
           }
          ],
          "scatterternary": [
           {
            "marker": {
             "colorbar": {
              "outlinewidth": 0,
              "ticks": ""
             }
            },
            "type": "scatterternary"
           }
          ],
          "surface": [
           {
            "colorbar": {
             "outlinewidth": 0,
             "ticks": ""
            },
            "colorscale": [
             [
              0,
              "#0d0887"
             ],
             [
              0.1111111111111111,
              "#46039f"
             ],
             [
              0.2222222222222222,
              "#7201a8"
             ],
             [
              0.3333333333333333,
              "#9c179e"
             ],
             [
              0.4444444444444444,
              "#bd3786"
             ],
             [
              0.5555555555555556,
              "#d8576b"
             ],
             [
              0.6666666666666666,
              "#ed7953"
             ],
             [
              0.7777777777777778,
              "#fb9f3a"
             ],
             [
              0.8888888888888888,
              "#fdca26"
             ],
             [
              1,
              "#f0f921"
             ]
            ],
            "type": "surface"
           }
          ],
          "table": [
           {
            "cells": {
             "fill": {
              "color": "#EBF0F8"
             },
             "line": {
              "color": "white"
             }
            },
            "header": {
             "fill": {
              "color": "#C8D4E3"
             },
             "line": {
              "color": "white"
             }
            },
            "type": "table"
           }
          ]
         },
         "layout": {
          "annotationdefaults": {
           "arrowcolor": "#2a3f5f",
           "arrowhead": 0,
           "arrowwidth": 1
          },
          "autotypenumbers": "strict",
          "coloraxis": {
           "colorbar": {
            "outlinewidth": 0,
            "ticks": ""
           }
          },
          "colorscale": {
           "diverging": [
            [
             0,
             "#8e0152"
            ],
            [
             0.1,
             "#c51b7d"
            ],
            [
             0.2,
             "#de77ae"
            ],
            [
             0.3,
             "#f1b6da"
            ],
            [
             0.4,
             "#fde0ef"
            ],
            [
             0.5,
             "#f7f7f7"
            ],
            [
             0.6,
             "#e6f5d0"
            ],
            [
             0.7,
             "#b8e186"
            ],
            [
             0.8,
             "#7fbc41"
            ],
            [
             0.9,
             "#4d9221"
            ],
            [
             1,
             "#276419"
            ]
           ],
           "sequential": [
            [
             0,
             "#0d0887"
            ],
            [
             0.1111111111111111,
             "#46039f"
            ],
            [
             0.2222222222222222,
             "#7201a8"
            ],
            [
             0.3333333333333333,
             "#9c179e"
            ],
            [
             0.4444444444444444,
             "#bd3786"
            ],
            [
             0.5555555555555556,
             "#d8576b"
            ],
            [
             0.6666666666666666,
             "#ed7953"
            ],
            [
             0.7777777777777778,
             "#fb9f3a"
            ],
            [
             0.8888888888888888,
             "#fdca26"
            ],
            [
             1,
             "#f0f921"
            ]
           ],
           "sequentialminus": [
            [
             0,
             "#0d0887"
            ],
            [
             0.1111111111111111,
             "#46039f"
            ],
            [
             0.2222222222222222,
             "#7201a8"
            ],
            [
             0.3333333333333333,
             "#9c179e"
            ],
            [
             0.4444444444444444,
             "#bd3786"
            ],
            [
             0.5555555555555556,
             "#d8576b"
            ],
            [
             0.6666666666666666,
             "#ed7953"
            ],
            [
             0.7777777777777778,
             "#fb9f3a"
            ],
            [
             0.8888888888888888,
             "#fdca26"
            ],
            [
             1,
             "#f0f921"
            ]
           ]
          },
          "colorway": [
           "#636efa",
           "#EF553B",
           "#00cc96",
           "#ab63fa",
           "#FFA15A",
           "#19d3f3",
           "#FF6692",
           "#B6E880",
           "#FF97FF",
           "#FECB52"
          ],
          "font": {
           "color": "#2a3f5f"
          },
          "geo": {
           "bgcolor": "white",
           "lakecolor": "white",
           "landcolor": "#E5ECF6",
           "showlakes": true,
           "showland": true,
           "subunitcolor": "white"
          },
          "hoverlabel": {
           "align": "left"
          },
          "hovermode": "closest",
          "mapbox": {
           "style": "light"
          },
          "paper_bgcolor": "white",
          "plot_bgcolor": "#E5ECF6",
          "polar": {
           "angularaxis": {
            "gridcolor": "white",
            "linecolor": "white",
            "ticks": ""
           },
           "bgcolor": "#E5ECF6",
           "radialaxis": {
            "gridcolor": "white",
            "linecolor": "white",
            "ticks": ""
           }
          },
          "scene": {
           "xaxis": {
            "backgroundcolor": "#E5ECF6",
            "gridcolor": "white",
            "gridwidth": 2,
            "linecolor": "white",
            "showbackground": true,
            "ticks": "",
            "zerolinecolor": "white"
           },
           "yaxis": {
            "backgroundcolor": "#E5ECF6",
            "gridcolor": "white",
            "gridwidth": 2,
            "linecolor": "white",
            "showbackground": true,
            "ticks": "",
            "zerolinecolor": "white"
           },
           "zaxis": {
            "backgroundcolor": "#E5ECF6",
            "gridcolor": "white",
            "gridwidth": 2,
            "linecolor": "white",
            "showbackground": true,
            "ticks": "",
            "zerolinecolor": "white"
           }
          },
          "shapedefaults": {
           "line": {
            "color": "#2a3f5f"
           }
          },
          "ternary": {
           "aaxis": {
            "gridcolor": "white",
            "linecolor": "white",
            "ticks": ""
           },
           "baxis": {
            "gridcolor": "white",
            "linecolor": "white",
            "ticks": ""
           },
           "bgcolor": "#E5ECF6",
           "caxis": {
            "gridcolor": "white",
            "linecolor": "white",
            "ticks": ""
           }
          },
          "title": {
           "x": 0.05
          },
          "xaxis": {
           "automargin": true,
           "gridcolor": "white",
           "linecolor": "white",
           "ticks": "",
           "title": {
            "standoff": 15
           },
           "zerolinecolor": "white",
           "zerolinewidth": 2
          },
          "yaxis": {
           "automargin": true,
           "gridcolor": "white",
           "linecolor": "white",
           "ticks": "",
           "title": {
            "standoff": 15
           },
           "zerolinecolor": "white",
           "zerolinewidth": 2
          }
         }
        }
       }
      }
     },
     "metadata": {},
     "output_type": "display_data"
    }
   ],
   "source": [
    "import plotly.express as px\n",
    "\n",
    "fig = px.treemap(data_frame=df_ufs,\n",
    "    path = ['uf'],\n",
    "    values = 'candidatos'\n",
    ")\n",
    "fig.update_traces(root_color=\"lightgrey\")\n",
    "fig.update_layout(margin = dict(t=50, l=25, r=25, b=25))\n",
    "fig.show()"
   ]
  },
  {
   "cell_type": "code",
   "execution_count": 45,
   "id": "c40338d7",
   "metadata": {},
   "outputs": [
    {
     "data": {
      "text/plain": [
       "Q001\n",
       "A     174712\n",
       "B     700175\n",
       "C     513213\n",
       "D     438139\n",
       "E    1114164\n",
       "F     333981\n",
       "G     256045\n",
       "H     403526\n",
       "Name: count, dtype: int64"
      ]
     },
     "execution_count": 45,
     "metadata": {},
     "output_type": "execute_result"
    }
   ],
   "source": [
    "# Até que série seu pai, ou o homem responsável por você, estudou?\n",
    "'''\n",
    "A Nunca estudou.\n",
    "B Não completou a 4ª série/5º ano do Ensino Fundamental.\n",
    "C Completou a 4ª série/5º ano, mas não completou a 8ª série/9º ano do Ensino Fundamental.\n",
    "D Completou a 8ª série/9º ano do Ensino Fundamental, mas não completou o Ensino Médio.\n",
    "E Completou o Ensino Médio, mas não completou a Faculdade.\n",
    "F Completou a Faculdade, mas não completou a Pós-graduação.\n",
    "G Completou a Pós-graduação.\n",
    "H Não sei.\n",
    "'''\n",
    "df_enem['Q001'].value_counts().sort_index()"
   ]
  },
  {
   "cell_type": "code",
   "execution_count": 46,
   "id": "33e2a7ea",
   "metadata": {},
   "outputs": [
    {
     "data": {
      "text/plain": [
       "0.1025751438437908"
      ]
     },
     "execution_count": 46,
     "metadata": {},
     "output_type": "execute_result"
    }
   ],
   "source": [
    "# Avaliando o impacto nos dados daqueles que responderam que não sabe\n",
    "len(df_enem.loc[df_enem['Q001'] == 'H']) / df_enem.shape[0]"
   ]
  },
  {
   "cell_type": "code",
   "execution_count": 47,
   "id": "4ce8e784",
   "metadata": {},
   "outputs": [
    {
     "data": {
      "text/plain": [
       "Q002\n",
       "A     110831\n",
       "B     505525\n",
       "C     437022\n",
       "D     473854\n",
       "E    1377605\n",
       "F     455268\n",
       "G     441893\n",
       "H     131957\n",
       "Name: count, dtype: int64"
      ]
     },
     "execution_count": 47,
     "metadata": {},
     "output_type": "execute_result"
    }
   ],
   "source": [
    "# Até que série sua mãe, ou a mulher responsável por você, estudou?\n",
    "df_enem['Q002'].value_counts().sort_index()"
   ]
  },
  {
   "cell_type": "code",
   "execution_count": 48,
   "id": "6c5a780e",
   "metadata": {},
   "outputs": [
    {
     "data": {
      "text/plain": [
       "0.033543088316973634"
      ]
     },
     "execution_count": 48,
     "metadata": {},
     "output_type": "execute_result"
    }
   ],
   "source": [
    "# Avaliando o impacto nos dados daqueles que responderam que não sabe\n",
    "len(df_enem.loc[df_enem['Q002'] == 'H']) / df_enem.shape[0]"
   ]
  },
  {
   "cell_type": "code",
   "execution_count": 49,
   "id": "d6e8bc73",
   "metadata": {},
   "outputs": [
    {
     "data": {
      "text/html": [
       "<div>\n",
       "<style scoped>\n",
       "    .dataframe tbody tr th:only-of-type {\n",
       "        vertical-align: middle;\n",
       "    }\n",
       "\n",
       "    .dataframe tbody tr th {\n",
       "        vertical-align: top;\n",
       "    }\n",
       "\n",
       "    .dataframe thead th {\n",
       "        text-align: right;\n",
       "    }\n",
       "</style>\n",
       "<table border=\"1\" class=\"dataframe\">\n",
       "  <thead>\n",
       "    <tr style=\"text-align: right;\">\n",
       "      <th></th>\n",
       "      <th>TP_FAIXA_ETARIA</th>\n",
       "      <th>TP_SEXO</th>\n",
       "      <th>TP_ESTADO_CIVIL</th>\n",
       "      <th>TP_COR_RACA</th>\n",
       "      <th>TP_NACIONALIDADE</th>\n",
       "      <th>TP_ST_CONCLUSAO</th>\n",
       "      <th>TP_ANO_CONCLUIU</th>\n",
       "      <th>TP_ESCOLA</th>\n",
       "      <th>TP_ENSINO</th>\n",
       "      <th>IN_TREINEIRO</th>\n",
       "      <th>SG_UF_ESC</th>\n",
       "      <th>TP_DEPENDENCIA_ADM_ESC</th>\n",
       "      <th>TP_LOCALIZACAO_ESC</th>\n",
       "      <th>TP_SIT_FUNC_ESC</th>\n",
       "      <th>SG_UF_PROVA</th>\n",
       "      <th>TP_PRESENCA_CN</th>\n",
       "      <th>TP_PRESENCA_CH</th>\n",
       "      <th>TP_PRESENCA_LC</th>\n",
       "      <th>TP_PRESENCA_MT</th>\n",
       "      <th>NU_NOTA_CN</th>\n",
       "      <th>NU_NOTA_CH</th>\n",
       "      <th>NU_NOTA_LC</th>\n",
       "      <th>NU_NOTA_MT</th>\n",
       "      <th>TP_LINGUA</th>\n",
       "      <th>TP_STATUS_REDACAO</th>\n",
       "      <th>NU_NOTA_COMP1</th>\n",
       "      <th>NU_NOTA_COMP2</th>\n",
       "      <th>NU_NOTA_COMP3</th>\n",
       "      <th>NU_NOTA_COMP4</th>\n",
       "      <th>NU_NOTA_COMP5</th>\n",
       "      <th>NU_NOTA_REDACAO</th>\n",
       "      <th>Q001</th>\n",
       "      <th>Q002</th>\n",
       "      <th>Q003</th>\n",
       "      <th>Q004</th>\n",
       "      <th>Q005</th>\n",
       "      <th>Q006</th>\n",
       "      <th>Q007</th>\n",
       "      <th>Q008</th>\n",
       "      <th>Q009</th>\n",
       "      <th>Q010</th>\n",
       "      <th>Q011</th>\n",
       "      <th>Q012</th>\n",
       "      <th>Q013</th>\n",
       "      <th>Q014</th>\n",
       "      <th>Q015</th>\n",
       "      <th>Q016</th>\n",
       "      <th>Q017</th>\n",
       "      <th>Q018</th>\n",
       "      <th>Q019</th>\n",
       "      <th>Q020</th>\n",
       "      <th>Q021</th>\n",
       "      <th>Q022</th>\n",
       "      <th>Q023</th>\n",
       "      <th>Q024</th>\n",
       "      <th>Q025</th>\n",
       "      <th>pai_possui_superior</th>\n",
       "      <th>mae_possui_superior</th>\n",
       "    </tr>\n",
       "  </thead>\n",
       "  <tbody>\n",
       "    <tr>\n",
       "      <th>0</th>\n",
       "      <td>14</td>\n",
       "      <td>M</td>\n",
       "      <td>2</td>\n",
       "      <td>1</td>\n",
       "      <td>1</td>\n",
       "      <td>1</td>\n",
       "      <td>17</td>\n",
       "      <td>1</td>\n",
       "      <td>NaN</td>\n",
       "      <td>0</td>\n",
       "      <td>NaN</td>\n",
       "      <td>NaN</td>\n",
       "      <td>NaN</td>\n",
       "      <td>NaN</td>\n",
       "      <td>DF</td>\n",
       "      <td>0</td>\n",
       "      <td>0</td>\n",
       "      <td>0</td>\n",
       "      <td>0</td>\n",
       "      <td>NaN</td>\n",
       "      <td>NaN</td>\n",
       "      <td>NaN</td>\n",
       "      <td>NaN</td>\n",
       "      <td>0</td>\n",
       "      <td>NaN</td>\n",
       "      <td>NaN</td>\n",
       "      <td>NaN</td>\n",
       "      <td>NaN</td>\n",
       "      <td>NaN</td>\n",
       "      <td>NaN</td>\n",
       "      <td>NaN</td>\n",
       "      <td>A</td>\n",
       "      <td>F</td>\n",
       "      <td>E</td>\n",
       "      <td>D</td>\n",
       "      <td>5</td>\n",
       "      <td>F</td>\n",
       "      <td>C</td>\n",
       "      <td>C</td>\n",
       "      <td>D</td>\n",
       "      <td>C</td>\n",
       "      <td>D</td>\n",
       "      <td>C</td>\n",
       "      <td>B</td>\n",
       "      <td>B</td>\n",
       "      <td>D</td>\n",
       "      <td>C</td>\n",
       "      <td>C</td>\n",
       "      <td>B</td>\n",
       "      <td>B</td>\n",
       "      <td>A</td>\n",
       "      <td>B</td>\n",
       "      <td>B</td>\n",
       "      <td>A</td>\n",
       "      <td>A</td>\n",
       "      <td>B</td>\n",
       "      <td>False</td>\n",
       "      <td>True</td>\n",
       "    </tr>\n",
       "    <tr>\n",
       "      <th>1</th>\n",
       "      <td>12</td>\n",
       "      <td>M</td>\n",
       "      <td>2</td>\n",
       "      <td>1</td>\n",
       "      <td>0</td>\n",
       "      <td>1</td>\n",
       "      <td>16</td>\n",
       "      <td>1</td>\n",
       "      <td>NaN</td>\n",
       "      <td>0</td>\n",
       "      <td>NaN</td>\n",
       "      <td>NaN</td>\n",
       "      <td>NaN</td>\n",
       "      <td>NaN</td>\n",
       "      <td>DF</td>\n",
       "      <td>0</td>\n",
       "      <td>0</td>\n",
       "      <td>0</td>\n",
       "      <td>0</td>\n",
       "      <td>NaN</td>\n",
       "      <td>NaN</td>\n",
       "      <td>NaN</td>\n",
       "      <td>NaN</td>\n",
       "      <td>0</td>\n",
       "      <td>NaN</td>\n",
       "      <td>NaN</td>\n",
       "      <td>NaN</td>\n",
       "      <td>NaN</td>\n",
       "      <td>NaN</td>\n",
       "      <td>NaN</td>\n",
       "      <td>NaN</td>\n",
       "      <td>F</td>\n",
       "      <td>E</td>\n",
       "      <td>E</td>\n",
       "      <td>B</td>\n",
       "      <td>3</td>\n",
       "      <td>H</td>\n",
       "      <td>A</td>\n",
       "      <td>B</td>\n",
       "      <td>C</td>\n",
       "      <td>C</td>\n",
       "      <td>A</td>\n",
       "      <td>B</td>\n",
       "      <td>B</td>\n",
       "      <td>B</td>\n",
       "      <td>A</td>\n",
       "      <td>B</td>\n",
       "      <td>A</td>\n",
       "      <td>B</td>\n",
       "      <td>B</td>\n",
       "      <td>A</td>\n",
       "      <td>A</td>\n",
       "      <td>C</td>\n",
       "      <td>A</td>\n",
       "      <td>D</td>\n",
       "      <td>B</td>\n",
       "      <td>True</td>\n",
       "      <td>False</td>\n",
       "    </tr>\n",
       "    <tr>\n",
       "      <th>2</th>\n",
       "      <td>6</td>\n",
       "      <td>F</td>\n",
       "      <td>1</td>\n",
       "      <td>1</td>\n",
       "      <td>1</td>\n",
       "      <td>1</td>\n",
       "      <td>0</td>\n",
       "      <td>1</td>\n",
       "      <td>NaN</td>\n",
       "      <td>0</td>\n",
       "      <td>NaN</td>\n",
       "      <td>NaN</td>\n",
       "      <td>NaN</td>\n",
       "      <td>NaN</td>\n",
       "      <td>RS</td>\n",
       "      <td>1</td>\n",
       "      <td>1</td>\n",
       "      <td>1</td>\n",
       "      <td>1</td>\n",
       "      <td>502.00</td>\n",
       "      <td>498.90</td>\n",
       "      <td>475.60</td>\n",
       "      <td>363.20</td>\n",
       "      <td>1</td>\n",
       "      <td>1.00</td>\n",
       "      <td>140.00</td>\n",
       "      <td>200.00</td>\n",
       "      <td>100.00</td>\n",
       "      <td>120.00</td>\n",
       "      <td>140.00</td>\n",
       "      <td>700.00</td>\n",
       "      <td>H</td>\n",
       "      <td>E</td>\n",
       "      <td>C</td>\n",
       "      <td>F</td>\n",
       "      <td>5</td>\n",
       "      <td>C</td>\n",
       "      <td>A</td>\n",
       "      <td>B</td>\n",
       "      <td>D</td>\n",
       "      <td>B</td>\n",
       "      <td>A</td>\n",
       "      <td>B</td>\n",
       "      <td>A</td>\n",
       "      <td>B</td>\n",
       "      <td>A</td>\n",
       "      <td>B</td>\n",
       "      <td>A</td>\n",
       "      <td>A</td>\n",
       "      <td>B</td>\n",
       "      <td>A</td>\n",
       "      <td>A</td>\n",
       "      <td>A</td>\n",
       "      <td>A</td>\n",
       "      <td>A</td>\n",
       "      <td>B</td>\n",
       "      <td>False</td>\n",
       "      <td>False</td>\n",
       "    </tr>\n",
       "    <tr>\n",
       "      <th>3</th>\n",
       "      <td>2</td>\n",
       "      <td>F</td>\n",
       "      <td>1</td>\n",
       "      <td>3</td>\n",
       "      <td>1</td>\n",
       "      <td>2</td>\n",
       "      <td>0</td>\n",
       "      <td>2</td>\n",
       "      <td>1.00</td>\n",
       "      <td>0</td>\n",
       "      <td>CE</td>\n",
       "      <td>2.00</td>\n",
       "      <td>1.00</td>\n",
       "      <td>1.00</td>\n",
       "      <td>CE</td>\n",
       "      <td>1</td>\n",
       "      <td>1</td>\n",
       "      <td>1</td>\n",
       "      <td>1</td>\n",
       "      <td>459.00</td>\n",
       "      <td>508.50</td>\n",
       "      <td>507.20</td>\n",
       "      <td>466.70</td>\n",
       "      <td>0</td>\n",
       "      <td>1.00</td>\n",
       "      <td>140.00</td>\n",
       "      <td>200.00</td>\n",
       "      <td>160.00</td>\n",
       "      <td>180.00</td>\n",
       "      <td>200.00</td>\n",
       "      <td>880.00</td>\n",
       "      <td>D</td>\n",
       "      <td>D</td>\n",
       "      <td>B</td>\n",
       "      <td>B</td>\n",
       "      <td>5</td>\n",
       "      <td>C</td>\n",
       "      <td>A</td>\n",
       "      <td>B</td>\n",
       "      <td>B</td>\n",
       "      <td>A</td>\n",
       "      <td>A</td>\n",
       "      <td>B</td>\n",
       "      <td>A</td>\n",
       "      <td>A</td>\n",
       "      <td>A</td>\n",
       "      <td>A</td>\n",
       "      <td>A</td>\n",
       "      <td>A</td>\n",
       "      <td>B</td>\n",
       "      <td>A</td>\n",
       "      <td>A</td>\n",
       "      <td>D</td>\n",
       "      <td>A</td>\n",
       "      <td>A</td>\n",
       "      <td>B</td>\n",
       "      <td>False</td>\n",
       "      <td>False</td>\n",
       "    </tr>\n",
       "    <tr>\n",
       "      <th>4</th>\n",
       "      <td>3</td>\n",
       "      <td>F</td>\n",
       "      <td>1</td>\n",
       "      <td>3</td>\n",
       "      <td>1</td>\n",
       "      <td>2</td>\n",
       "      <td>0</td>\n",
       "      <td>2</td>\n",
       "      <td>1.00</td>\n",
       "      <td>0</td>\n",
       "      <td>CE</td>\n",
       "      <td>2.00</td>\n",
       "      <td>1.00</td>\n",
       "      <td>1.00</td>\n",
       "      <td>CE</td>\n",
       "      <td>1</td>\n",
       "      <td>1</td>\n",
       "      <td>1</td>\n",
       "      <td>1</td>\n",
       "      <td>402.50</td>\n",
       "      <td>379.20</td>\n",
       "      <td>446.90</td>\n",
       "      <td>338.30</td>\n",
       "      <td>0</td>\n",
       "      <td>1.00</td>\n",
       "      <td>120.00</td>\n",
       "      <td>120.00</td>\n",
       "      <td>120.00</td>\n",
       "      <td>120.00</td>\n",
       "      <td>80.00</td>\n",
       "      <td>560.00</td>\n",
       "      <td>B</td>\n",
       "      <td>B</td>\n",
       "      <td>A</td>\n",
       "      <td>A</td>\n",
       "      <td>4</td>\n",
       "      <td>B</td>\n",
       "      <td>A</td>\n",
       "      <td>B</td>\n",
       "      <td>A</td>\n",
       "      <td>A</td>\n",
       "      <td>A</td>\n",
       "      <td>B</td>\n",
       "      <td>A</td>\n",
       "      <td>A</td>\n",
       "      <td>A</td>\n",
       "      <td>A</td>\n",
       "      <td>A</td>\n",
       "      <td>A</td>\n",
       "      <td>B</td>\n",
       "      <td>A</td>\n",
       "      <td>A</td>\n",
       "      <td>B</td>\n",
       "      <td>A</td>\n",
       "      <td>A</td>\n",
       "      <td>A</td>\n",
       "      <td>False</td>\n",
       "      <td>False</td>\n",
       "    </tr>\n",
       "  </tbody>\n",
       "</table>\n",
       "</div>"
      ],
      "text/plain": [
       "   TP_FAIXA_ETARIA TP_SEXO  TP_ESTADO_CIVIL  TP_COR_RACA  TP_NACIONALIDADE  \\\n",
       "0               14       M                2            1                 1   \n",
       "1               12       M                2            1                 0   \n",
       "2                6       F                1            1                 1   \n",
       "3                2       F                1            3                 1   \n",
       "4                3       F                1            3                 1   \n",
       "\n",
       "   TP_ST_CONCLUSAO  TP_ANO_CONCLUIU  TP_ESCOLA  TP_ENSINO  IN_TREINEIRO  \\\n",
       "0                1               17          1        NaN             0   \n",
       "1                1               16          1        NaN             0   \n",
       "2                1                0          1        NaN             0   \n",
       "3                2                0          2       1.00             0   \n",
       "4                2                0          2       1.00             0   \n",
       "\n",
       "  SG_UF_ESC  TP_DEPENDENCIA_ADM_ESC  TP_LOCALIZACAO_ESC  TP_SIT_FUNC_ESC  \\\n",
       "0       NaN                     NaN                 NaN              NaN   \n",
       "1       NaN                     NaN                 NaN              NaN   \n",
       "2       NaN                     NaN                 NaN              NaN   \n",
       "3        CE                    2.00                1.00             1.00   \n",
       "4        CE                    2.00                1.00             1.00   \n",
       "\n",
       "  SG_UF_PROVA  TP_PRESENCA_CN  TP_PRESENCA_CH  TP_PRESENCA_LC  TP_PRESENCA_MT  \\\n",
       "0          DF               0               0               0               0   \n",
       "1          DF               0               0               0               0   \n",
       "2          RS               1               1               1               1   \n",
       "3          CE               1               1               1               1   \n",
       "4          CE               1               1               1               1   \n",
       "\n",
       "   NU_NOTA_CN  NU_NOTA_CH  NU_NOTA_LC  NU_NOTA_MT  TP_LINGUA  \\\n",
       "0         NaN         NaN         NaN         NaN          0   \n",
       "1         NaN         NaN         NaN         NaN          0   \n",
       "2      502.00      498.90      475.60      363.20          1   \n",
       "3      459.00      508.50      507.20      466.70          0   \n",
       "4      402.50      379.20      446.90      338.30          0   \n",
       "\n",
       "   TP_STATUS_REDACAO  NU_NOTA_COMP1  NU_NOTA_COMP2  NU_NOTA_COMP3  \\\n",
       "0                NaN            NaN            NaN            NaN   \n",
       "1                NaN            NaN            NaN            NaN   \n",
       "2               1.00         140.00         200.00         100.00   \n",
       "3               1.00         140.00         200.00         160.00   \n",
       "4               1.00         120.00         120.00         120.00   \n",
       "\n",
       "   NU_NOTA_COMP4  NU_NOTA_COMP5  NU_NOTA_REDACAO Q001 Q002 Q003 Q004  Q005  \\\n",
       "0            NaN            NaN              NaN    A    F    E    D     5   \n",
       "1            NaN            NaN              NaN    F    E    E    B     3   \n",
       "2         120.00         140.00           700.00    H    E    C    F     5   \n",
       "3         180.00         200.00           880.00    D    D    B    B     5   \n",
       "4         120.00          80.00           560.00    B    B    A    A     4   \n",
       "\n",
       "  Q006 Q007 Q008 Q009 Q010 Q011 Q012 Q013 Q014 Q015 Q016 Q017 Q018 Q019 Q020  \\\n",
       "0    F    C    C    D    C    D    C    B    B    D    C    C    B    B    A   \n",
       "1    H    A    B    C    C    A    B    B    B    A    B    A    B    B    A   \n",
       "2    C    A    B    D    B    A    B    A    B    A    B    A    A    B    A   \n",
       "3    C    A    B    B    A    A    B    A    A    A    A    A    A    B    A   \n",
       "4    B    A    B    A    A    A    B    A    A    A    A    A    A    B    A   \n",
       "\n",
       "  Q021 Q022 Q023 Q024 Q025  pai_possui_superior  mae_possui_superior  \n",
       "0    B    B    A    A    B                False                 True  \n",
       "1    A    C    A    D    B                 True                False  \n",
       "2    A    A    A    A    B                False                False  \n",
       "3    A    D    A    A    B                False                False  \n",
       "4    A    B    A    A    A                False                False  "
      ]
     },
     "execution_count": 49,
     "metadata": {},
     "output_type": "execute_result"
    }
   ],
   "source": [
    "# Criando novas variáveis para delimitar pais que possuem nível superior\n",
    "df_enem['pai_possui_superior'] = df_enem['Q001'].isin(['F', 'G'])\n",
    "df_enem['mae_possui_superior'] = df_enem['Q002'].isin(['F', 'G'])\n",
    "df_enem.head()"
   ]
  },
  {
   "cell_type": "code",
   "execution_count": 50,
   "id": "f627d6dd",
   "metadata": {},
   "outputs": [
    {
     "data": {
      "text/plain": [
       "pai_possui_superior\n",
       "False   85.00\n",
       "True    15.00\n",
       "Name: proportion, dtype: float64"
      ]
     },
     "execution_count": 50,
     "metadata": {},
     "output_type": "execute_result"
    }
   ],
   "source": [
    "df_enem['pai_possui_superior'].value_counts(normalize=True) * 100"
   ]
  },
  {
   "cell_type": "code",
   "execution_count": 51,
   "id": "fab4dce7",
   "metadata": {},
   "outputs": [
    {
     "data": {
      "text/plain": [
       "<Axes: xlabel='pai_possui_superior', ylabel='count'>"
      ]
     },
     "execution_count": 51,
     "metadata": {},
     "output_type": "execute_result"
    },
    {
     "data": {
      "image/png": "[encoded data removed]",
      "text/plain": [
       "<Figure size 640x480 with 1 Axes>"
      ]
     },
     "metadata": {},
     "output_type": "display_data"
    }
   ],
   "source": [
    "# Até que série seu pai, ou o homem responsável por você, estudou?\n",
    "sns.countplot(data=df_enem, x='pai_possui_superior')"
   ]
  },
  {
   "cell_type": "code",
   "execution_count": 52,
   "id": "0ad6786a",
   "metadata": {},
   "outputs": [
    {
     "data": {
      "text/plain": [
       "mae_possui_superior\n",
       "False   77.19\n",
       "True    22.81\n",
       "Name: proportion, dtype: float64"
      ]
     },
     "execution_count": 52,
     "metadata": {},
     "output_type": "execute_result"
    }
   ],
   "source": [
    "df_enem['mae_possui_superior'].value_counts(normalize=True) * 100"
   ]
  },
  {
   "cell_type": "code",
   "execution_count": 53,
   "id": "eff29474",
   "metadata": {},
   "outputs": [
    {
     "data": {
      "text/plain": [
       "<Axes: xlabel='mae_possui_superior', ylabel='count'>"
      ]
     },
     "execution_count": 53,
     "metadata": {},
     "output_type": "execute_result"
    },
    {
     "data": {
      "image/png": "[encoded data removed]",
      "text/plain": [
       "<Figure size 640x480 with 1 Axes>"
      ]
     },
     "metadata": {},
     "output_type": "display_data"
    }
   ],
   "source": [
    "# Até que série sua mãe, ou a mulher responsável por você, estudou?\n",
    "sns.countplot(data=df_enem, x='mae_possui_superior')"
   ]
  },
  {
   "cell_type": "code",
   "execution_count": 54,
   "id": "a07cc116",
   "metadata": {},
   "outputs": [
    {
     "name": "stdout",
     "output_type": "stream",
     "text": [
      "a na posicao 0\n",
      "b na posicao 1\n",
      "c na posicao 2\n"
     ]
    },
    {
     "data": {
      "text/plain": [
       "{'a': 0, 'b': 1, 'c': 2}"
      ]
     },
     "execution_count": 54,
     "metadata": {},
     "output_type": "execute_result"
    }
   ],
   "source": [
    "lista = ['a', 'b', 'c']\n",
    "d = dict()\n",
    "\n",
    "for i, caractere in enumerate(lista):\n",
    "    print(f'{caractere} na posicao {i}')\n",
    "    d[caractere] = i\n",
    "\n",
    "d    "
   ]
  },
  {
   "cell_type": "code",
   "execution_count": 55,
   "id": "858bdcd8",
   "metadata": {
    "scrolled": true
   },
   "outputs": [
    {
     "data": {
      "text/plain": [
       "{'A': 0,\n",
       " 'B': 1,\n",
       " 'C': 2,\n",
       " 'D': 3,\n",
       " 'E': 4,\n",
       " 'F': 5,\n",
       " 'G': 6,\n",
       " 'H': 7,\n",
       " 'I': 8,\n",
       " 'J': 9,\n",
       " 'K': 10,\n",
       " 'L': 11,\n",
       " 'M': 12,\n",
       " 'N': 13,\n",
       " 'O': 14,\n",
       " 'P': 15,\n",
       " 'Q': 16}"
      ]
     },
     "execution_count": 55,
     "metadata": {},
     "output_type": "execute_result"
    }
   ],
   "source": [
    "# Analisar a renda familiar. Vamos transformar Q006 em algo numérico?\n",
    "\n",
    "'''\n",
    "A Nenhuma renda.\n",
    "B Até R$ 998,00.\n",
    "C De R$ 998,01 até R$ 1.497,00.\n",
    "D De R$ 1.497,01 até R$ 1.996,00.\n",
    "E De R$ 1.996,01 até R$ 2.495,00.\n",
    "F De R$ 2.495,01 até R$ 2.994,00.\n",
    "G De R$ 2.994,01 até R$ 3.992,00.\n",
    "H De R$ 3.992,01 até R$ 4.990,00.\n",
    "I De R$ 4.990,01 até R$ 5.988,00.\n",
    "J De R$ 5.988,01 até R$ 6.986,00.\n",
    "K De R$ 6.986,01 até R$ 7.984,00.\n",
    "L De R$ 7.984,01 até R$ 8.982,00.\n",
    "M De R$ 8.982,01 até R$ 9.980,00.\n",
    "N De R$ 9.980,01 até R$ 11.976,00.\n",
    "O De R$ 11.976,01 até R$ 14.970,00.\n",
    "P De R$ 14.970,01 até R$ 19.960,00.\n",
    "Q Mais de R$ 19.960,00.\n",
    "\n",
    "'''\n",
    "from string import ascii_uppercase\n",
    "\n",
    "dicionario_renda = dict()\n",
    "\n",
    "# iterando sobre o alfabeto (python não é lindo?)\n",
    "for i, letra in enumerate(ascii_uppercase):\n",
    "    if i == 17:\n",
    "        break\n",
    "    dicionario_renda[letra] = i\n",
    "\n",
    "dicionario_renda"
   ]
  },
  {
   "cell_type": "code",
   "execution_count": 56,
   "id": "b5792be5",
   "metadata": {
    "scrolled": true
   },
   "outputs": [
    {
     "data": {
      "text/plain": [
       "Q006\n",
       "B    1245271\n",
       "C     650942\n",
       "D     437366\n",
       "E     293994\n",
       "A     268053\n",
       "G     261327\n",
       "F     171344\n",
       "H     139279\n",
       "I      85970\n",
       "J      75179\n",
       "K      59631\n",
       "Q      51489\n",
       "N      41565\n",
       "O      41218\n",
       "L      39596\n",
       "P      38105\n",
       "M      33626\n",
       "Name: count, dtype: int64"
      ]
     },
     "execution_count": 56,
     "metadata": {},
     "output_type": "execute_result"
    }
   ],
   "source": [
    "df_enem['Q006'].value_counts()"
   ]
  },
  {
   "cell_type": "code",
   "execution_count": 57,
   "id": "20dbeac0",
   "metadata": {},
   "outputs": [
    {
     "data": {
      "text/plain": [
       "0    F\n",
       "1    H\n",
       "2    C\n",
       "3    C\n",
       "4    B\n",
       "Name: Q006, dtype: object"
      ]
     },
     "execution_count": 57,
     "metadata": {},
     "output_type": "execute_result"
    }
   ],
   "source": [
    "df_enem['Q006'].head()"
   ]
  },
  {
   "cell_type": "code",
   "execution_count": 58,
   "id": "890aa76b",
   "metadata": {},
   "outputs": [
    {
     "data": {
      "text/html": [
       "<div>\n",
       "<style scoped>\n",
       "    .dataframe tbody tr th:only-of-type {\n",
       "        vertical-align: middle;\n",
       "    }\n",
       "\n",
       "    .dataframe tbody tr th {\n",
       "        vertical-align: top;\n",
       "    }\n",
       "\n",
       "    .dataframe thead th {\n",
       "        text-align: right;\n",
       "    }\n",
       "</style>\n",
       "<table border=\"1\" class=\"dataframe\">\n",
       "  <thead>\n",
       "    <tr style=\"text-align: right;\">\n",
       "      <th></th>\n",
       "      <th>TP_FAIXA_ETARIA</th>\n",
       "      <th>TP_SEXO</th>\n",
       "      <th>TP_ESTADO_CIVIL</th>\n",
       "      <th>TP_COR_RACA</th>\n",
       "      <th>TP_NACIONALIDADE</th>\n",
       "      <th>TP_ST_CONCLUSAO</th>\n",
       "      <th>TP_ANO_CONCLUIU</th>\n",
       "      <th>TP_ESCOLA</th>\n",
       "      <th>TP_ENSINO</th>\n",
       "      <th>IN_TREINEIRO</th>\n",
       "      <th>SG_UF_ESC</th>\n",
       "      <th>TP_DEPENDENCIA_ADM_ESC</th>\n",
       "      <th>TP_LOCALIZACAO_ESC</th>\n",
       "      <th>TP_SIT_FUNC_ESC</th>\n",
       "      <th>SG_UF_PROVA</th>\n",
       "      <th>TP_PRESENCA_CN</th>\n",
       "      <th>TP_PRESENCA_CH</th>\n",
       "      <th>TP_PRESENCA_LC</th>\n",
       "      <th>TP_PRESENCA_MT</th>\n",
       "      <th>NU_NOTA_CN</th>\n",
       "      <th>NU_NOTA_CH</th>\n",
       "      <th>NU_NOTA_LC</th>\n",
       "      <th>NU_NOTA_MT</th>\n",
       "      <th>TP_LINGUA</th>\n",
       "      <th>TP_STATUS_REDACAO</th>\n",
       "      <th>NU_NOTA_COMP1</th>\n",
       "      <th>NU_NOTA_COMP2</th>\n",
       "      <th>NU_NOTA_COMP3</th>\n",
       "      <th>NU_NOTA_COMP4</th>\n",
       "      <th>NU_NOTA_COMP5</th>\n",
       "      <th>NU_NOTA_REDACAO</th>\n",
       "      <th>Q001</th>\n",
       "      <th>Q002</th>\n",
       "      <th>Q003</th>\n",
       "      <th>Q004</th>\n",
       "      <th>Q005</th>\n",
       "      <th>Q006</th>\n",
       "      <th>Q007</th>\n",
       "      <th>Q008</th>\n",
       "      <th>Q009</th>\n",
       "      <th>Q010</th>\n",
       "      <th>Q011</th>\n",
       "      <th>Q012</th>\n",
       "      <th>Q013</th>\n",
       "      <th>Q014</th>\n",
       "      <th>Q015</th>\n",
       "      <th>Q016</th>\n",
       "      <th>Q017</th>\n",
       "      <th>Q018</th>\n",
       "      <th>Q019</th>\n",
       "      <th>Q020</th>\n",
       "      <th>Q021</th>\n",
       "      <th>Q022</th>\n",
       "      <th>Q023</th>\n",
       "      <th>Q024</th>\n",
       "      <th>Q025</th>\n",
       "      <th>pai_possui_superior</th>\n",
       "      <th>mae_possui_superior</th>\n",
       "      <th>renda_familiar</th>\n",
       "    </tr>\n",
       "  </thead>\n",
       "  <tbody>\n",
       "    <tr>\n",
       "      <th>0</th>\n",
       "      <td>14</td>\n",
       "      <td>M</td>\n",
       "      <td>2</td>\n",
       "      <td>1</td>\n",
       "      <td>1</td>\n",
       "      <td>1</td>\n",
       "      <td>17</td>\n",
       "      <td>1</td>\n",
       "      <td>NaN</td>\n",
       "      <td>0</td>\n",
       "      <td>NaN</td>\n",
       "      <td>NaN</td>\n",
       "      <td>NaN</td>\n",
       "      <td>NaN</td>\n",
       "      <td>DF</td>\n",
       "      <td>0</td>\n",
       "      <td>0</td>\n",
       "      <td>0</td>\n",
       "      <td>0</td>\n",
       "      <td>NaN</td>\n",
       "      <td>NaN</td>\n",
       "      <td>NaN</td>\n",
       "      <td>NaN</td>\n",
       "      <td>0</td>\n",
       "      <td>NaN</td>\n",
       "      <td>NaN</td>\n",
       "      <td>NaN</td>\n",
       "      <td>NaN</td>\n",
       "      <td>NaN</td>\n",
       "      <td>NaN</td>\n",
       "      <td>NaN</td>\n",
       "      <td>A</td>\n",
       "      <td>F</td>\n",
       "      <td>E</td>\n",
       "      <td>D</td>\n",
       "      <td>5</td>\n",
       "      <td>F</td>\n",
       "      <td>C</td>\n",
       "      <td>C</td>\n",
       "      <td>D</td>\n",
       "      <td>C</td>\n",
       "      <td>D</td>\n",
       "      <td>C</td>\n",
       "      <td>B</td>\n",
       "      <td>B</td>\n",
       "      <td>D</td>\n",
       "      <td>C</td>\n",
       "      <td>C</td>\n",
       "      <td>B</td>\n",
       "      <td>B</td>\n",
       "      <td>A</td>\n",
       "      <td>B</td>\n",
       "      <td>B</td>\n",
       "      <td>A</td>\n",
       "      <td>A</td>\n",
       "      <td>B</td>\n",
       "      <td>False</td>\n",
       "      <td>True</td>\n",
       "      <td>5</td>\n",
       "    </tr>\n",
       "    <tr>\n",
       "      <th>1</th>\n",
       "      <td>12</td>\n",
       "      <td>M</td>\n",
       "      <td>2</td>\n",
       "      <td>1</td>\n",
       "      <td>0</td>\n",
       "      <td>1</td>\n",
       "      <td>16</td>\n",
       "      <td>1</td>\n",
       "      <td>NaN</td>\n",
       "      <td>0</td>\n",
       "      <td>NaN</td>\n",
       "      <td>NaN</td>\n",
       "      <td>NaN</td>\n",
       "      <td>NaN</td>\n",
       "      <td>DF</td>\n",
       "      <td>0</td>\n",
       "      <td>0</td>\n",
       "      <td>0</td>\n",
       "      <td>0</td>\n",
       "      <td>NaN</td>\n",
       "      <td>NaN</td>\n",
       "      <td>NaN</td>\n",
       "      <td>NaN</td>\n",
       "      <td>0</td>\n",
       "      <td>NaN</td>\n",
       "      <td>NaN</td>\n",
       "      <td>NaN</td>\n",
       "      <td>NaN</td>\n",
       "      <td>NaN</td>\n",
       "      <td>NaN</td>\n",
       "      <td>NaN</td>\n",
       "      <td>F</td>\n",
       "      <td>E</td>\n",
       "      <td>E</td>\n",
       "      <td>B</td>\n",
       "      <td>3</td>\n",
       "      <td>H</td>\n",
       "      <td>A</td>\n",
       "      <td>B</td>\n",
       "      <td>C</td>\n",
       "      <td>C</td>\n",
       "      <td>A</td>\n",
       "      <td>B</td>\n",
       "      <td>B</td>\n",
       "      <td>B</td>\n",
       "      <td>A</td>\n",
       "      <td>B</td>\n",
       "      <td>A</td>\n",
       "      <td>B</td>\n",
       "      <td>B</td>\n",
       "      <td>A</td>\n",
       "      <td>A</td>\n",
       "      <td>C</td>\n",
       "      <td>A</td>\n",
       "      <td>D</td>\n",
       "      <td>B</td>\n",
       "      <td>True</td>\n",
       "      <td>False</td>\n",
       "      <td>7</td>\n",
       "    </tr>\n",
       "    <tr>\n",
       "      <th>2</th>\n",
       "      <td>6</td>\n",
       "      <td>F</td>\n",
       "      <td>1</td>\n",
       "      <td>1</td>\n",
       "      <td>1</td>\n",
       "      <td>1</td>\n",
       "      <td>0</td>\n",
       "      <td>1</td>\n",
       "      <td>NaN</td>\n",
       "      <td>0</td>\n",
       "      <td>NaN</td>\n",
       "      <td>NaN</td>\n",
       "      <td>NaN</td>\n",
       "      <td>NaN</td>\n",
       "      <td>RS</td>\n",
       "      <td>1</td>\n",
       "      <td>1</td>\n",
       "      <td>1</td>\n",
       "      <td>1</td>\n",
       "      <td>502.00</td>\n",
       "      <td>498.90</td>\n",
       "      <td>475.60</td>\n",
       "      <td>363.20</td>\n",
       "      <td>1</td>\n",
       "      <td>1.00</td>\n",
       "      <td>140.00</td>\n",
       "      <td>200.00</td>\n",
       "      <td>100.00</td>\n",
       "      <td>120.00</td>\n",
       "      <td>140.00</td>\n",
       "      <td>700.00</td>\n",
       "      <td>H</td>\n",
       "      <td>E</td>\n",
       "      <td>C</td>\n",
       "      <td>F</td>\n",
       "      <td>5</td>\n",
       "      <td>C</td>\n",
       "      <td>A</td>\n",
       "      <td>B</td>\n",
       "      <td>D</td>\n",
       "      <td>B</td>\n",
       "      <td>A</td>\n",
       "      <td>B</td>\n",
       "      <td>A</td>\n",
       "      <td>B</td>\n",
       "      <td>A</td>\n",
       "      <td>B</td>\n",
       "      <td>A</td>\n",
       "      <td>A</td>\n",
       "      <td>B</td>\n",
       "      <td>A</td>\n",
       "      <td>A</td>\n",
       "      <td>A</td>\n",
       "      <td>A</td>\n",
       "      <td>A</td>\n",
       "      <td>B</td>\n",
       "      <td>False</td>\n",
       "      <td>False</td>\n",
       "      <td>2</td>\n",
       "    </tr>\n",
       "    <tr>\n",
       "      <th>3</th>\n",
       "      <td>2</td>\n",
       "      <td>F</td>\n",
       "      <td>1</td>\n",
       "      <td>3</td>\n",
       "      <td>1</td>\n",
       "      <td>2</td>\n",
       "      <td>0</td>\n",
       "      <td>2</td>\n",
       "      <td>1.00</td>\n",
       "      <td>0</td>\n",
       "      <td>CE</td>\n",
       "      <td>2.00</td>\n",
       "      <td>1.00</td>\n",
       "      <td>1.00</td>\n",
       "      <td>CE</td>\n",
       "      <td>1</td>\n",
       "      <td>1</td>\n",
       "      <td>1</td>\n",
       "      <td>1</td>\n",
       "      <td>459.00</td>\n",
       "      <td>508.50</td>\n",
       "      <td>507.20</td>\n",
       "      <td>466.70</td>\n",
       "      <td>0</td>\n",
       "      <td>1.00</td>\n",
       "      <td>140.00</td>\n",
       "      <td>200.00</td>\n",
       "      <td>160.00</td>\n",
       "      <td>180.00</td>\n",
       "      <td>200.00</td>\n",
       "      <td>880.00</td>\n",
       "      <td>D</td>\n",
       "      <td>D</td>\n",
       "      <td>B</td>\n",
       "      <td>B</td>\n",
       "      <td>5</td>\n",
       "      <td>C</td>\n",
       "      <td>A</td>\n",
       "      <td>B</td>\n",
       "      <td>B</td>\n",
       "      <td>A</td>\n",
       "      <td>A</td>\n",
       "      <td>B</td>\n",
       "      <td>A</td>\n",
       "      <td>A</td>\n",
       "      <td>A</td>\n",
       "      <td>A</td>\n",
       "      <td>A</td>\n",
       "      <td>A</td>\n",
       "      <td>B</td>\n",
       "      <td>A</td>\n",
       "      <td>A</td>\n",
       "      <td>D</td>\n",
       "      <td>A</td>\n",
       "      <td>A</td>\n",
       "      <td>B</td>\n",
       "      <td>False</td>\n",
       "      <td>False</td>\n",
       "      <td>2</td>\n",
       "    </tr>\n",
       "    <tr>\n",
       "      <th>4</th>\n",
       "      <td>3</td>\n",
       "      <td>F</td>\n",
       "      <td>1</td>\n",
       "      <td>3</td>\n",
       "      <td>1</td>\n",
       "      <td>2</td>\n",
       "      <td>0</td>\n",
       "      <td>2</td>\n",
       "      <td>1.00</td>\n",
       "      <td>0</td>\n",
       "      <td>CE</td>\n",
       "      <td>2.00</td>\n",
       "      <td>1.00</td>\n",
       "      <td>1.00</td>\n",
       "      <td>CE</td>\n",
       "      <td>1</td>\n",
       "      <td>1</td>\n",
       "      <td>1</td>\n",
       "      <td>1</td>\n",
       "      <td>402.50</td>\n",
       "      <td>379.20</td>\n",
       "      <td>446.90</td>\n",
       "      <td>338.30</td>\n",
       "      <td>0</td>\n",
       "      <td>1.00</td>\n",
       "      <td>120.00</td>\n",
       "      <td>120.00</td>\n",
       "      <td>120.00</td>\n",
       "      <td>120.00</td>\n",
       "      <td>80.00</td>\n",
       "      <td>560.00</td>\n",
       "      <td>B</td>\n",
       "      <td>B</td>\n",
       "      <td>A</td>\n",
       "      <td>A</td>\n",
       "      <td>4</td>\n",
       "      <td>B</td>\n",
       "      <td>A</td>\n",
       "      <td>B</td>\n",
       "      <td>A</td>\n",
       "      <td>A</td>\n",
       "      <td>A</td>\n",
       "      <td>B</td>\n",
       "      <td>A</td>\n",
       "      <td>A</td>\n",
       "      <td>A</td>\n",
       "      <td>A</td>\n",
       "      <td>A</td>\n",
       "      <td>A</td>\n",
       "      <td>B</td>\n",
       "      <td>A</td>\n",
       "      <td>A</td>\n",
       "      <td>B</td>\n",
       "      <td>A</td>\n",
       "      <td>A</td>\n",
       "      <td>A</td>\n",
       "      <td>False</td>\n",
       "      <td>False</td>\n",
       "      <td>1</td>\n",
       "    </tr>\n",
       "  </tbody>\n",
       "</table>\n",
       "</div>"
      ],
      "text/plain": [
       "   TP_FAIXA_ETARIA TP_SEXO  TP_ESTADO_CIVIL  TP_COR_RACA  TP_NACIONALIDADE  \\\n",
       "0               14       M                2            1                 1   \n",
       "1               12       M                2            1                 0   \n",
       "2                6       F                1            1                 1   \n",
       "3                2       F                1            3                 1   \n",
       "4                3       F                1            3                 1   \n",
       "\n",
       "   TP_ST_CONCLUSAO  TP_ANO_CONCLUIU  TP_ESCOLA  TP_ENSINO  IN_TREINEIRO  \\\n",
       "0                1               17          1        NaN             0   \n",
       "1                1               16          1        NaN             0   \n",
       "2                1                0          1        NaN             0   \n",
       "3                2                0          2       1.00             0   \n",
       "4                2                0          2       1.00             0   \n",
       "\n",
       "  SG_UF_ESC  TP_DEPENDENCIA_ADM_ESC  TP_LOCALIZACAO_ESC  TP_SIT_FUNC_ESC  \\\n",
       "0       NaN                     NaN                 NaN              NaN   \n",
       "1       NaN                     NaN                 NaN              NaN   \n",
       "2       NaN                     NaN                 NaN              NaN   \n",
       "3        CE                    2.00                1.00             1.00   \n",
       "4        CE                    2.00                1.00             1.00   \n",
       "\n",
       "  SG_UF_PROVA  TP_PRESENCA_CN  TP_PRESENCA_CH  TP_PRESENCA_LC  TP_PRESENCA_MT  \\\n",
       "0          DF               0               0               0               0   \n",
       "1          DF               0               0               0               0   \n",
       "2          RS               1               1               1               1   \n",
       "3          CE               1               1               1               1   \n",
       "4          CE               1               1               1               1   \n",
       "\n",
       "   NU_NOTA_CN  NU_NOTA_CH  NU_NOTA_LC  NU_NOTA_MT  TP_LINGUA  \\\n",
       "0         NaN         NaN         NaN         NaN          0   \n",
       "1         NaN         NaN         NaN         NaN          0   \n",
       "2      502.00      498.90      475.60      363.20          1   \n",
       "3      459.00      508.50      507.20      466.70          0   \n",
       "4      402.50      379.20      446.90      338.30          0   \n",
       "\n",
       "   TP_STATUS_REDACAO  NU_NOTA_COMP1  NU_NOTA_COMP2  NU_NOTA_COMP3  \\\n",
       "0                NaN            NaN            NaN            NaN   \n",
       "1                NaN            NaN            NaN            NaN   \n",
       "2               1.00         140.00         200.00         100.00   \n",
       "3               1.00         140.00         200.00         160.00   \n",
       "4               1.00         120.00         120.00         120.00   \n",
       "\n",
       "   NU_NOTA_COMP4  NU_NOTA_COMP5  NU_NOTA_REDACAO Q001 Q002 Q003 Q004  Q005  \\\n",
       "0            NaN            NaN              NaN    A    F    E    D     5   \n",
       "1            NaN            NaN              NaN    F    E    E    B     3   \n",
       "2         120.00         140.00           700.00    H    E    C    F     5   \n",
       "3         180.00         200.00           880.00    D    D    B    B     5   \n",
       "4         120.00          80.00           560.00    B    B    A    A     4   \n",
       "\n",
       "  Q006 Q007 Q008 Q009 Q010 Q011 Q012 Q013 Q014 Q015 Q016 Q017 Q018 Q019 Q020  \\\n",
       "0    F    C    C    D    C    D    C    B    B    D    C    C    B    B    A   \n",
       "1    H    A    B    C    C    A    B    B    B    A    B    A    B    B    A   \n",
       "2    C    A    B    D    B    A    B    A    B    A    B    A    A    B    A   \n",
       "3    C    A    B    B    A    A    B    A    A    A    A    A    A    B    A   \n",
       "4    B    A    B    A    A    A    B    A    A    A    A    A    A    B    A   \n",
       "\n",
       "  Q021 Q022 Q023 Q024 Q025  pai_possui_superior  mae_possui_superior  \\\n",
       "0    B    B    A    A    B                False                 True   \n",
       "1    A    C    A    D    B                 True                False   \n",
       "2    A    A    A    A    B                False                False   \n",
       "3    A    D    A    A    B                False                False   \n",
       "4    A    B    A    A    A                False                False   \n",
       "\n",
       "   renda_familiar  \n",
       "0               5  \n",
       "1               7  \n",
       "2               2  \n",
       "3               2  \n",
       "4               1  "
      ]
     },
     "execution_count": 58,
     "metadata": {},
     "output_type": "execute_result"
    }
   ],
   "source": [
    "# função de mapeamento    \n",
    "df_enem['renda_familiar'] = df_enem['Q006'].map(dicionario_renda)\n",
    "\n",
    "df_enem.head()"
   ]
  },
  {
   "cell_type": "code",
   "execution_count": 59,
   "id": "a26d77df",
   "metadata": {},
   "outputs": [
    {
     "data": {
      "text/plain": [
       "<Axes: xlabel='renda_familiar', ylabel='count'>"
      ]
     },
     "execution_count": 59,
     "metadata": {},
     "output_type": "execute_result"
    },
    {
     "data": {
      "image/png": "[encoded data removed]",
      "text/plain": [
       "<Figure size 640x480 with 1 Axes>"
      ]
     },
     "metadata": {},
     "output_type": "display_data"
    }
   ],
   "source": [
    "# Análise de renda\n",
    "sns.countplot(data=df_enem, x='renda_familiar')"
   ]
  },
  {
   "cell_type": "markdown",
   "id": "0b5e2f8c",
   "metadata": {},
   "source": [
    "## <a> Relacionar notas com características dos candidatos </a>\n",
    "\n",
    "Avaliar se as notas dos candidatos é diferente com relação a:\n",
    "- sexo\n",
    "- raça\n",
    "- atendimento especial\n",
    "- instrucao mae e pai\n",
    "- renda mensal da familia"
   ]
  },
  {
   "cell_type": "code",
   "execution_count": 60,
   "id": "ec965690",
   "metadata": {},
   "outputs": [
    {
     "data": {
      "text/html": [
       "<div>\n",
       "<style scoped>\n",
       "    .dataframe tbody tr th:only-of-type {\n",
       "        vertical-align: middle;\n",
       "    }\n",
       "\n",
       "    .dataframe tbody tr th {\n",
       "        vertical-align: top;\n",
       "    }\n",
       "\n",
       "    .dataframe thead th {\n",
       "        text-align: right;\n",
       "    }\n",
       "</style>\n",
       "<table border=\"1\" class=\"dataframe\">\n",
       "  <thead>\n",
       "    <tr style=\"text-align: right;\">\n",
       "      <th></th>\n",
       "      <th>NU_NOTA_CN</th>\n",
       "      <th>NU_NOTA_CH</th>\n",
       "      <th>NU_NOTA_LC</th>\n",
       "      <th>NU_NOTA_MT</th>\n",
       "      <th>NU_NOTA_REDACAO</th>\n",
       "      <th>TP_SEXO</th>\n",
       "    </tr>\n",
       "  </thead>\n",
       "  <tbody>\n",
       "    <tr>\n",
       "      <th>0</th>\n",
       "      <td>NaN</td>\n",
       "      <td>NaN</td>\n",
       "      <td>NaN</td>\n",
       "      <td>NaN</td>\n",
       "      <td>NaN</td>\n",
       "      <td>M</td>\n",
       "    </tr>\n",
       "    <tr>\n",
       "      <th>1</th>\n",
       "      <td>NaN</td>\n",
       "      <td>NaN</td>\n",
       "      <td>NaN</td>\n",
       "      <td>NaN</td>\n",
       "      <td>NaN</td>\n",
       "      <td>M</td>\n",
       "    </tr>\n",
       "    <tr>\n",
       "      <th>2</th>\n",
       "      <td>502.00</td>\n",
       "      <td>498.90</td>\n",
       "      <td>475.60</td>\n",
       "      <td>363.20</td>\n",
       "      <td>700.00</td>\n",
       "      <td>F</td>\n",
       "    </tr>\n",
       "    <tr>\n",
       "      <th>3</th>\n",
       "      <td>459.00</td>\n",
       "      <td>508.50</td>\n",
       "      <td>507.20</td>\n",
       "      <td>466.70</td>\n",
       "      <td>880.00</td>\n",
       "      <td>F</td>\n",
       "    </tr>\n",
       "    <tr>\n",
       "      <th>4</th>\n",
       "      <td>402.50</td>\n",
       "      <td>379.20</td>\n",
       "      <td>446.90</td>\n",
       "      <td>338.30</td>\n",
       "      <td>560.00</td>\n",
       "      <td>F</td>\n",
       "    </tr>\n",
       "  </tbody>\n",
       "</table>\n",
       "</div>"
      ],
      "text/plain": [
       "   NU_NOTA_CN  NU_NOTA_CH  NU_NOTA_LC  NU_NOTA_MT  NU_NOTA_REDACAO TP_SEXO\n",
       "0         NaN         NaN         NaN         NaN              NaN       M\n",
       "1         NaN         NaN         NaN         NaN              NaN       M\n",
       "2      502.00      498.90      475.60      363.20           700.00       F\n",
       "3      459.00      508.50      507.20      466.70           880.00       F\n",
       "4      402.50      379.20      446.90      338.30           560.00       F"
      ]
     },
     "execution_count": 60,
     "metadata": {},
     "output_type": "execute_result"
    }
   ],
   "source": [
    "# Criando df com as notas e sexo dos candidatos\n",
    "df_sexo = df_enem.loc[:, colunas_notas + ['TP_SEXO']]\n",
    "df_sexo.head()"
   ]
  },
  {
   "cell_type": "code",
   "execution_count": 61,
   "id": "e955e5f2",
   "metadata": {},
   "outputs": [
    {
     "data": {
      "image/png": "[encoded data removed]",
      "text/plain": [
       "<Figure size 800x600 with 4 Axes>"
      ]
     },
     "metadata": {},
     "output_type": "display_data"
    }
   ],
   "source": [
    "# Analisando as notas por sexo\n",
    "sns.set_style(\"darkgrid\")\n",
    "figura, graficos = plt.subplots(1, 4, sharey=True, figsize=(8,6))\n",
    "plt.tight_layout()\n",
    "\n",
    "for i in range(4):\n",
    "    coluna_1 = colunas_notas[i]\n",
    "    sns.boxplot(data=df_sexo, y=coluna_1, x='TP_SEXO', ax=graficos[i])"
   ]
  },
  {
   "attachments": {
    "image.png": {
     "image/png": "[encoded data removed]"
    }
   },
   "cell_type": "markdown",
   "id": "8fe6eb2c",
   "metadata": {},
   "source": [
    "\n",
    "![image.png](attachment:image.png)"
   ]
  },
  {
   "cell_type": "code",
   "execution_count": 62,
   "id": "cf51cdfa",
   "metadata": {},
   "outputs": [
    {
     "data": {
      "text/html": [
       "<div>\n",
       "<style scoped>\n",
       "    .dataframe tbody tr th:only-of-type {\n",
       "        vertical-align: middle;\n",
       "    }\n",
       "\n",
       "    .dataframe tbody tr th {\n",
       "        vertical-align: top;\n",
       "    }\n",
       "\n",
       "    .dataframe thead th {\n",
       "        text-align: right;\n",
       "    }\n",
       "</style>\n",
       "<table border=\"1\" class=\"dataframe\">\n",
       "  <thead>\n",
       "    <tr style=\"text-align: right;\">\n",
       "      <th></th>\n",
       "      <th>NU_NOTA_CN</th>\n",
       "      <th>NU_NOTA_CH</th>\n",
       "      <th>NU_NOTA_LC</th>\n",
       "      <th>NU_NOTA_MT</th>\n",
       "      <th>NU_NOTA_REDACAO</th>\n",
       "      <th>TP_COR_RACA</th>\n",
       "    </tr>\n",
       "  </thead>\n",
       "  <tbody>\n",
       "    <tr>\n",
       "      <th>0</th>\n",
       "      <td>NaN</td>\n",
       "      <td>NaN</td>\n",
       "      <td>NaN</td>\n",
       "      <td>NaN</td>\n",
       "      <td>NaN</td>\n",
       "      <td>1</td>\n",
       "    </tr>\n",
       "    <tr>\n",
       "      <th>1</th>\n",
       "      <td>NaN</td>\n",
       "      <td>NaN</td>\n",
       "      <td>NaN</td>\n",
       "      <td>NaN</td>\n",
       "      <td>NaN</td>\n",
       "      <td>1</td>\n",
       "    </tr>\n",
       "    <tr>\n",
       "      <th>2</th>\n",
       "      <td>502.00</td>\n",
       "      <td>498.90</td>\n",
       "      <td>475.60</td>\n",
       "      <td>363.20</td>\n",
       "      <td>700.00</td>\n",
       "      <td>1</td>\n",
       "    </tr>\n",
       "    <tr>\n",
       "      <th>3</th>\n",
       "      <td>459.00</td>\n",
       "      <td>508.50</td>\n",
       "      <td>507.20</td>\n",
       "      <td>466.70</td>\n",
       "      <td>880.00</td>\n",
       "      <td>3</td>\n",
       "    </tr>\n",
       "    <tr>\n",
       "      <th>4</th>\n",
       "      <td>402.50</td>\n",
       "      <td>379.20</td>\n",
       "      <td>446.90</td>\n",
       "      <td>338.30</td>\n",
       "      <td>560.00</td>\n",
       "      <td>3</td>\n",
       "    </tr>\n",
       "  </tbody>\n",
       "</table>\n",
       "</div>"
      ],
      "text/plain": [
       "   NU_NOTA_CN  NU_NOTA_CH  NU_NOTA_LC  NU_NOTA_MT  NU_NOTA_REDACAO  \\\n",
       "0         NaN         NaN         NaN         NaN              NaN   \n",
       "1         NaN         NaN         NaN         NaN              NaN   \n",
       "2      502.00      498.90      475.60      363.20           700.00   \n",
       "3      459.00      508.50      507.20      466.70           880.00   \n",
       "4      402.50      379.20      446.90      338.30           560.00   \n",
       "\n",
       "   TP_COR_RACA  \n",
       "0            1  \n",
       "1            1  \n",
       "2            1  \n",
       "3            3  \n",
       "4            3  "
      ]
     },
     "execution_count": 62,
     "metadata": {},
     "output_type": "execute_result"
    }
   ],
   "source": [
    "# Criando df com as notas e raça dos candidatos\n",
    "df_raca = df_enem.loc[:, colunas_notas + ['TP_COR_RACA']]\n",
    "df_raca.head()"
   ]
  },
  {
   "cell_type": "markdown",
   "id": "eab947cf",
   "metadata": {},
   "source": [
    "| Código | Cor/Raça                     |\n",
    "|--------|------------------------------|\n",
    "| 0      | Não declarado                |\n",
    "| 1      | Branca                       |\n",
    "| 2      | Preta                        |\n",
    "| 3      | Parda                        |\n",
    "| 4      | Amarela                      |\n",
    "| 5      | Indígena                     |\n",
    "| 6      | Não dispõe da informação     |\n"
   ]
  },
  {
   "cell_type": "code",
   "execution_count": null,
   "id": "6722e810",
   "metadata": {},
   "outputs": [
    {
     "data": {
      "image/png": "[encoded data removed]",
      "text/plain": [
       "<Figure size 1000x600 with 4 Axes>"
      ]
     },
     "metadata": {},
     "output_type": "display_data"
    }
   ],
   "source": [
    "# Analisando as notas por raça\n",
    "sns.set_style(\"darkgrid\")\n",
    "figura, graficos = plt.subplots(2, 2, sharey=True, figsize=(10,6))\n",
    "plt.tight_layout()\n",
    "\n",
    "for i in range(2):\n",
    "    coluna_1 = colunas_notas[i*2]\n",
    "    coluna_2 = colunas_notas[i*2+1]\n",
    "    sns.boxplot(data=df_raca, y=coluna_1, x='TP_COR_RACA', ax=graficos[i][0])\n",
    "    sns.boxplot(data=df_raca, y=coluna_2, x='TP_COR_RACA', ax=graficos[i][1])\n",
    "  "
   ]
  },
  {
   "cell_type": "code",
   "execution_count": 64,
   "id": "7878654e",
   "metadata": {},
   "outputs": [
    {
     "ename": "KeyError",
     "evalue": "\"None of [Index(['IN_BAIXA_VISAO', 'IN_CEGUEIRA', 'IN_SURDEZ', 'IN_DEFICIENCIA_AUDITIVA',\\n       'IN_SURDO_CEGUEIRA', 'IN_DEFICIENCIA_FISICA', 'IN_DEFICIENCIA_MENTAL',\\n       'IN_DEFICIT_ATENCAO', 'IN_DISLEXIA', 'IN_DISCALCULIA', 'IN_AUTISMO',\\n       'IN_VISAO_MONOCULAR', 'IN_OUTRA_DEF'],\\n      dtype='object')] are in the [columns]\"",
     "output_type": "error",
     "traceback": [
      "\u001b[1;31m---------------------------------------------------------------------------\u001b[0m",
      "\u001b[1;31mKeyError\u001b[0m                                  Traceback (most recent call last)",
      "Cell \u001b[1;32mIn[64], line 12\u001b[0m\n\u001b[0;32m      2\u001b[0m colunas_atendimento_especializado \u001b[38;5;241m=\u001b[39m [\u001b[38;5;124m'\u001b[39m\u001b[38;5;124mIN_BAIXA_VISAO\u001b[39m\u001b[38;5;124m'\u001b[39m,\n\u001b[0;32m      3\u001b[0m                                      \u001b[38;5;124m'\u001b[39m\u001b[38;5;124mIN_CEGUEIRA\u001b[39m\u001b[38;5;124m'\u001b[39m, \n\u001b[0;32m      4\u001b[0m                                      \u001b[38;5;124m'\u001b[39m\u001b[38;5;124mIN_SURDEZ\u001b[39m\u001b[38;5;124m'\u001b[39m, \u001b[38;5;124m'\u001b[39m\u001b[38;5;124mIN_DEFICIENCIA_AUDITIVA\u001b[39m\u001b[38;5;124m'\u001b[39m, \n\u001b[1;32m   (...)\u001b[0m\n\u001b[0;32m      8\u001b[0m                                      \u001b[38;5;124m'\u001b[39m\u001b[38;5;124mIN_AUTISMO\u001b[39m\u001b[38;5;124m'\u001b[39m, \u001b[38;5;124m'\u001b[39m\u001b[38;5;124mIN_VISAO_MONOCULAR\u001b[39m\u001b[38;5;124m'\u001b[39m, \n\u001b[0;32m      9\u001b[0m                                      \u001b[38;5;124m'\u001b[39m\u001b[38;5;124mIN_OUTRA_DEF\u001b[39m\u001b[38;5;124m'\u001b[39m]\n\u001b[0;32m     11\u001b[0m df_atendimento_especializado \u001b[38;5;241m=\u001b[39m df_enem\u001b[38;5;241m.\u001b[39mloc[:, colunas_notas]\n\u001b[1;32m---> 12\u001b[0m df_atendimento_especializado[\u001b[38;5;124m'\u001b[39m\u001b[38;5;124matendimento_especializado\u001b[39m\u001b[38;5;124m'\u001b[39m] \u001b[38;5;241m=\u001b[39m \u001b[43mdf_enem\u001b[49m\u001b[38;5;241;43m.\u001b[39;49m\u001b[43mloc\u001b[49m\u001b[43m[\u001b[49m\u001b[43m:\u001b[49m\u001b[43m,\u001b[49m\u001b[43m \u001b[49m\u001b[43mcolunas_atendimento_especializado\u001b[49m\u001b[43m]\u001b[49m\u001b[38;5;241m.\u001b[39msum(axis\u001b[38;5;241m=\u001b[39m\u001b[38;5;241m1\u001b[39m) \u001b[38;5;241m>\u001b[39m \u001b[38;5;241m0\u001b[39m\n\u001b[0;32m     13\u001b[0m df_atendimento_especializado\u001b[38;5;241m.\u001b[39mhead()\n",
      "File \u001b[1;32mc:\\Users\\lucas\\anaconda3\\Lib\\site-packages\\pandas\\core\\indexing.py:1184\u001b[0m, in \u001b[0;36m_LocationIndexer.__getitem__\u001b[1;34m(self, key)\u001b[0m\n\u001b[0;32m   1182\u001b[0m     \u001b[38;5;28;01mif\u001b[39;00m \u001b[38;5;28mself\u001b[39m\u001b[38;5;241m.\u001b[39m_is_scalar_access(key):\n\u001b[0;32m   1183\u001b[0m         \u001b[38;5;28;01mreturn\u001b[39;00m \u001b[38;5;28mself\u001b[39m\u001b[38;5;241m.\u001b[39mobj\u001b[38;5;241m.\u001b[39m_get_value(\u001b[38;5;241m*\u001b[39mkey, takeable\u001b[38;5;241m=\u001b[39m\u001b[38;5;28mself\u001b[39m\u001b[38;5;241m.\u001b[39m_takeable)\n\u001b[1;32m-> 1184\u001b[0m     \u001b[38;5;28;01mreturn\u001b[39;00m \u001b[38;5;28;43mself\u001b[39;49m\u001b[38;5;241;43m.\u001b[39;49m\u001b[43m_getitem_tuple\u001b[49m\u001b[43m(\u001b[49m\u001b[43mkey\u001b[49m\u001b[43m)\u001b[49m\n\u001b[0;32m   1185\u001b[0m \u001b[38;5;28;01melse\u001b[39;00m:\n\u001b[0;32m   1186\u001b[0m     \u001b[38;5;66;03m# we by definition only have the 0th axis\u001b[39;00m\n\u001b[0;32m   1187\u001b[0m     axis \u001b[38;5;241m=\u001b[39m \u001b[38;5;28mself\u001b[39m\u001b[38;5;241m.\u001b[39maxis \u001b[38;5;129;01mor\u001b[39;00m \u001b[38;5;241m0\u001b[39m\n",
      "File \u001b[1;32mc:\\Users\\lucas\\anaconda3\\Lib\\site-packages\\pandas\\core\\indexing.py:1377\u001b[0m, in \u001b[0;36m_LocIndexer._getitem_tuple\u001b[1;34m(self, tup)\u001b[0m\n\u001b[0;32m   1374\u001b[0m \u001b[38;5;28;01mif\u001b[39;00m \u001b[38;5;28mself\u001b[39m\u001b[38;5;241m.\u001b[39m_multi_take_opportunity(tup):\n\u001b[0;32m   1375\u001b[0m     \u001b[38;5;28;01mreturn\u001b[39;00m \u001b[38;5;28mself\u001b[39m\u001b[38;5;241m.\u001b[39m_multi_take(tup)\n\u001b[1;32m-> 1377\u001b[0m \u001b[38;5;28;01mreturn\u001b[39;00m \u001b[38;5;28;43mself\u001b[39;49m\u001b[38;5;241;43m.\u001b[39;49m\u001b[43m_getitem_tuple_same_dim\u001b[49m\u001b[43m(\u001b[49m\u001b[43mtup\u001b[49m\u001b[43m)\u001b[49m\n",
      "File \u001b[1;32mc:\\Users\\lucas\\anaconda3\\Lib\\site-packages\\pandas\\core\\indexing.py:1020\u001b[0m, in \u001b[0;36m_LocationIndexer._getitem_tuple_same_dim\u001b[1;34m(self, tup)\u001b[0m\n\u001b[0;32m   1017\u001b[0m \u001b[38;5;28;01mif\u001b[39;00m com\u001b[38;5;241m.\u001b[39mis_null_slice(key):\n\u001b[0;32m   1018\u001b[0m     \u001b[38;5;28;01mcontinue\u001b[39;00m\n\u001b[1;32m-> 1020\u001b[0m retval \u001b[38;5;241m=\u001b[39m \u001b[38;5;28;43mgetattr\u001b[39;49m\u001b[43m(\u001b[49m\u001b[43mretval\u001b[49m\u001b[43m,\u001b[49m\u001b[43m \u001b[49m\u001b[38;5;28;43mself\u001b[39;49m\u001b[38;5;241;43m.\u001b[39;49m\u001b[43mname\u001b[49m\u001b[43m)\u001b[49m\u001b[38;5;241;43m.\u001b[39;49m\u001b[43m_getitem_axis\u001b[49m\u001b[43m(\u001b[49m\u001b[43mkey\u001b[49m\u001b[43m,\u001b[49m\u001b[43m \u001b[49m\u001b[43maxis\u001b[49m\u001b[38;5;241;43m=\u001b[39;49m\u001b[43mi\u001b[49m\u001b[43m)\u001b[49m\n\u001b[0;32m   1021\u001b[0m \u001b[38;5;66;03m# We should never have retval.ndim < self.ndim, as that should\u001b[39;00m\n\u001b[0;32m   1022\u001b[0m \u001b[38;5;66;03m#  be handled by the _getitem_lowerdim call above.\u001b[39;00m\n\u001b[0;32m   1023\u001b[0m \u001b[38;5;28;01massert\u001b[39;00m retval\u001b[38;5;241m.\u001b[39mndim \u001b[38;5;241m==\u001b[39m \u001b[38;5;28mself\u001b[39m\u001b[38;5;241m.\u001b[39mndim\n",
      "File \u001b[1;32mc:\\Users\\lucas\\anaconda3\\Lib\\site-packages\\pandas\\core\\indexing.py:1420\u001b[0m, in \u001b[0;36m_LocIndexer._getitem_axis\u001b[1;34m(self, key, axis)\u001b[0m\n\u001b[0;32m   1417\u001b[0m     \u001b[38;5;28;01mif\u001b[39;00m \u001b[38;5;28mhasattr\u001b[39m(key, \u001b[38;5;124m\"\u001b[39m\u001b[38;5;124mndim\u001b[39m\u001b[38;5;124m\"\u001b[39m) \u001b[38;5;129;01mand\u001b[39;00m key\u001b[38;5;241m.\u001b[39mndim \u001b[38;5;241m>\u001b[39m \u001b[38;5;241m1\u001b[39m:\n\u001b[0;32m   1418\u001b[0m         \u001b[38;5;28;01mraise\u001b[39;00m \u001b[38;5;167;01mValueError\u001b[39;00m(\u001b[38;5;124m\"\u001b[39m\u001b[38;5;124mCannot index with multidimensional key\u001b[39m\u001b[38;5;124m\"\u001b[39m)\n\u001b[1;32m-> 1420\u001b[0m     \u001b[38;5;28;01mreturn\u001b[39;00m \u001b[38;5;28;43mself\u001b[39;49m\u001b[38;5;241;43m.\u001b[39;49m\u001b[43m_getitem_iterable\u001b[49m\u001b[43m(\u001b[49m\u001b[43mkey\u001b[49m\u001b[43m,\u001b[49m\u001b[43m \u001b[49m\u001b[43maxis\u001b[49m\u001b[38;5;241;43m=\u001b[39;49m\u001b[43maxis\u001b[49m\u001b[43m)\u001b[49m\n\u001b[0;32m   1422\u001b[0m \u001b[38;5;66;03m# nested tuple slicing\u001b[39;00m\n\u001b[0;32m   1423\u001b[0m \u001b[38;5;28;01mif\u001b[39;00m is_nested_tuple(key, labels):\n",
      "File \u001b[1;32mc:\\Users\\lucas\\anaconda3\\Lib\\site-packages\\pandas\\core\\indexing.py:1360\u001b[0m, in \u001b[0;36m_LocIndexer._getitem_iterable\u001b[1;34m(self, key, axis)\u001b[0m\n\u001b[0;32m   1357\u001b[0m \u001b[38;5;28mself\u001b[39m\u001b[38;5;241m.\u001b[39m_validate_key(key, axis)\n\u001b[0;32m   1359\u001b[0m \u001b[38;5;66;03m# A collection of keys\u001b[39;00m\n\u001b[1;32m-> 1360\u001b[0m keyarr, indexer \u001b[38;5;241m=\u001b[39m \u001b[38;5;28;43mself\u001b[39;49m\u001b[38;5;241;43m.\u001b[39;49m\u001b[43m_get_listlike_indexer\u001b[49m\u001b[43m(\u001b[49m\u001b[43mkey\u001b[49m\u001b[43m,\u001b[49m\u001b[43m \u001b[49m\u001b[43maxis\u001b[49m\u001b[43m)\u001b[49m\n\u001b[0;32m   1361\u001b[0m \u001b[38;5;28;01mreturn\u001b[39;00m \u001b[38;5;28mself\u001b[39m\u001b[38;5;241m.\u001b[39mobj\u001b[38;5;241m.\u001b[39m_reindex_with_indexers(\n\u001b[0;32m   1362\u001b[0m     {axis: [keyarr, indexer]}, copy\u001b[38;5;241m=\u001b[39m\u001b[38;5;28;01mTrue\u001b[39;00m, allow_dups\u001b[38;5;241m=\u001b[39m\u001b[38;5;28;01mTrue\u001b[39;00m\n\u001b[0;32m   1363\u001b[0m )\n",
      "File \u001b[1;32mc:\\Users\\lucas\\anaconda3\\Lib\\site-packages\\pandas\\core\\indexing.py:1558\u001b[0m, in \u001b[0;36m_LocIndexer._get_listlike_indexer\u001b[1;34m(self, key, axis)\u001b[0m\n\u001b[0;32m   1555\u001b[0m ax \u001b[38;5;241m=\u001b[39m \u001b[38;5;28mself\u001b[39m\u001b[38;5;241m.\u001b[39mobj\u001b[38;5;241m.\u001b[39m_get_axis(axis)\n\u001b[0;32m   1556\u001b[0m axis_name \u001b[38;5;241m=\u001b[39m \u001b[38;5;28mself\u001b[39m\u001b[38;5;241m.\u001b[39mobj\u001b[38;5;241m.\u001b[39m_get_axis_name(axis)\n\u001b[1;32m-> 1558\u001b[0m keyarr, indexer \u001b[38;5;241m=\u001b[39m \u001b[43max\u001b[49m\u001b[38;5;241;43m.\u001b[39;49m\u001b[43m_get_indexer_strict\u001b[49m\u001b[43m(\u001b[49m\u001b[43mkey\u001b[49m\u001b[43m,\u001b[49m\u001b[43m \u001b[49m\u001b[43maxis_name\u001b[49m\u001b[43m)\u001b[49m\n\u001b[0;32m   1560\u001b[0m \u001b[38;5;28;01mreturn\u001b[39;00m keyarr, indexer\n",
      "File \u001b[1;32mc:\\Users\\lucas\\anaconda3\\Lib\\site-packages\\pandas\\core\\indexes\\base.py:6200\u001b[0m, in \u001b[0;36mIndex._get_indexer_strict\u001b[1;34m(self, key, axis_name)\u001b[0m\n\u001b[0;32m   6197\u001b[0m \u001b[38;5;28;01melse\u001b[39;00m:\n\u001b[0;32m   6198\u001b[0m     keyarr, indexer, new_indexer \u001b[38;5;241m=\u001b[39m \u001b[38;5;28mself\u001b[39m\u001b[38;5;241m.\u001b[39m_reindex_non_unique(keyarr)\n\u001b[1;32m-> 6200\u001b[0m \u001b[38;5;28;43mself\u001b[39;49m\u001b[38;5;241;43m.\u001b[39;49m\u001b[43m_raise_if_missing\u001b[49m\u001b[43m(\u001b[49m\u001b[43mkeyarr\u001b[49m\u001b[43m,\u001b[49m\u001b[43m \u001b[49m\u001b[43mindexer\u001b[49m\u001b[43m,\u001b[49m\u001b[43m \u001b[49m\u001b[43maxis_name\u001b[49m\u001b[43m)\u001b[49m\n\u001b[0;32m   6202\u001b[0m keyarr \u001b[38;5;241m=\u001b[39m \u001b[38;5;28mself\u001b[39m\u001b[38;5;241m.\u001b[39mtake(indexer)\n\u001b[0;32m   6203\u001b[0m \u001b[38;5;28;01mif\u001b[39;00m \u001b[38;5;28misinstance\u001b[39m(key, Index):\n\u001b[0;32m   6204\u001b[0m     \u001b[38;5;66;03m# GH 42790 - Preserve name from an Index\u001b[39;00m\n",
      "File \u001b[1;32mc:\\Users\\lucas\\anaconda3\\Lib\\site-packages\\pandas\\core\\indexes\\base.py:6249\u001b[0m, in \u001b[0;36mIndex._raise_if_missing\u001b[1;34m(self, key, indexer, axis_name)\u001b[0m\n\u001b[0;32m   6247\u001b[0m \u001b[38;5;28;01mif\u001b[39;00m nmissing:\n\u001b[0;32m   6248\u001b[0m     \u001b[38;5;28;01mif\u001b[39;00m nmissing \u001b[38;5;241m==\u001b[39m \u001b[38;5;28mlen\u001b[39m(indexer):\n\u001b[1;32m-> 6249\u001b[0m         \u001b[38;5;28;01mraise\u001b[39;00m \u001b[38;5;167;01mKeyError\u001b[39;00m(\u001b[38;5;124mf\u001b[39m\u001b[38;5;124m\"\u001b[39m\u001b[38;5;124mNone of [\u001b[39m\u001b[38;5;132;01m{\u001b[39;00mkey\u001b[38;5;132;01m}\u001b[39;00m\u001b[38;5;124m] are in the [\u001b[39m\u001b[38;5;132;01m{\u001b[39;00maxis_name\u001b[38;5;132;01m}\u001b[39;00m\u001b[38;5;124m]\u001b[39m\u001b[38;5;124m\"\u001b[39m)\n\u001b[0;32m   6251\u001b[0m     not_found \u001b[38;5;241m=\u001b[39m \u001b[38;5;28mlist\u001b[39m(ensure_index(key)[missing_mask\u001b[38;5;241m.\u001b[39mnonzero()[\u001b[38;5;241m0\u001b[39m]]\u001b[38;5;241m.\u001b[39munique())\n\u001b[0;32m   6252\u001b[0m     \u001b[38;5;28;01mraise\u001b[39;00m \u001b[38;5;167;01mKeyError\u001b[39;00m(\u001b[38;5;124mf\u001b[39m\u001b[38;5;124m\"\u001b[39m\u001b[38;5;132;01m{\u001b[39;00mnot_found\u001b[38;5;132;01m}\u001b[39;00m\u001b[38;5;124m not in index\u001b[39m\u001b[38;5;124m\"\u001b[39m)\n",
      "\u001b[1;31mKeyError\u001b[0m: \"None of [Index(['IN_BAIXA_VISAO', 'IN_CEGUEIRA', 'IN_SURDEZ', 'IN_DEFICIENCIA_AUDITIVA',\\n       'IN_SURDO_CEGUEIRA', 'IN_DEFICIENCIA_FISICA', 'IN_DEFICIENCIA_MENTAL',\\n       'IN_DEFICIT_ATENCAO', 'IN_DISLEXIA', 'IN_DISCALCULIA', 'IN_AUTISMO',\\n       'IN_VISAO_MONOCULAR', 'IN_OUTRA_DEF'],\\n      dtype='object')] are in the [columns]\""
     ]
    }
   ],
   "source": [
    "# calcular atendimento especializado \n",
    "colunas_atendimento_especializado = ['IN_BAIXA_VISAO',\n",
    "                                     'IN_CEGUEIRA', \n",
    "                                     'IN_SURDEZ', 'IN_DEFICIENCIA_AUDITIVA', \n",
    "                                     'IN_SURDO_CEGUEIRA', 'IN_DEFICIENCIA_FISICA', \n",
    "                                     'IN_DEFICIENCIA_MENTAL', 'IN_DEFICIT_ATENCAO', \n",
    "                                     'IN_DISLEXIA', 'IN_DISCALCULIA', \n",
    "                                     'IN_AUTISMO', 'IN_VISAO_MONOCULAR', \n",
    "                                     'IN_OUTRA_DEF']\n",
    "\n",
    "df_atendimento_especializado = df_enem.loc[:, colunas_notas]\n",
    "df_atendimento_especializado['atendimento_especializado'] = df_enem.loc[:, colunas_atendimento_especializado].sum(axis=1) > 0\n",
    "df_atendimento_especializado.head()"
   ]
  },
  {
   "cell_type": "code",
   "execution_count": null,
   "id": "8f095eee",
   "metadata": {},
   "outputs": [
    {
     "data": {
      "text/plain": [
       "False    506207\n",
       "True       3320\n",
       "Name: atendimento_especializado, dtype: int64"
      ]
     },
     "execution_count": 73,
     "metadata": {},
     "output_type": "execute_result"
    }
   ],
   "source": [
    "df_atendimento_especializado['atendimento_especializado'].value_counts()"
   ]
  },
  {
   "cell_type": "code",
   "execution_count": null,
   "id": "1ca017e5",
   "metadata": {},
   "outputs": [
    {
     "data": {
      "text/plain": [
       "False   99.35\n",
       "True     0.65\n",
       "Name: atendimento_especializado, dtype: float64"
      ]
     },
     "execution_count": 74,
     "metadata": {},
     "output_type": "execute_result"
    }
   ],
   "source": [
    "df_atendimento_especializado['atendimento_especializado'].value_counts(normalize=True) * 100"
   ]
  },
  {
   "cell_type": "code",
   "execution_count": null,
   "id": "75e66925",
   "metadata": {},
   "outputs": [
    {
     "data": {
      "image/png": "[encoded data removed]",
      "text/plain": [
       "<Figure size 576x432 with 4 Axes>"
      ]
     },
     "metadata": {},
     "output_type": "display_data"
    }
   ],
   "source": [
    "# Analisando as notas por atendimento especializado\n",
    "sns.set_style(\"darkgrid\")\n",
    "figura, graficos = plt.subplots(1, 4, sharey=True, figsize=(8,6))\n",
    "plt.tight_layout()\n",
    "\n",
    "for i in range(4):\n",
    "    coluna_1 = colunas_notas[i]\n",
    "    sns.boxplot(data=df_atendimento_especializado, y=coluna_1, x='atendimento_especializado', ax=graficos[i])"
   ]
  },
  {
   "cell_type": "code",
   "execution_count": null,
   "id": "0171a925",
   "metadata": {},
   "outputs": [
    {
     "data": {
      "text/html": [
       "<div>\n",
       "<style scoped>\n",
       "    .dataframe tbody tr th:only-of-type {\n",
       "        vertical-align: middle;\n",
       "    }\n",
       "\n",
       "    .dataframe tbody tr th {\n",
       "        vertical-align: top;\n",
       "    }\n",
       "\n",
       "    .dataframe thead th {\n",
       "        text-align: right;\n",
       "    }\n",
       "</style>\n",
       "<table border=\"1\" class=\"dataframe\">\n",
       "  <thead>\n",
       "    <tr style=\"text-align: right;\">\n",
       "      <th></th>\n",
       "      <th>NU_NOTA_CN</th>\n",
       "      <th>NU_NOTA_CH</th>\n",
       "      <th>NU_NOTA_LC</th>\n",
       "      <th>NU_NOTA_MT</th>\n",
       "      <th>NU_NOTA_REDACAO</th>\n",
       "      <th>pai_possui_superior</th>\n",
       "      <th>mae_possui_superior</th>\n",
       "    </tr>\n",
       "  </thead>\n",
       "  <tbody>\n",
       "    <tr>\n",
       "      <th>0</th>\n",
       "      <td>NaN</td>\n",
       "      <td>NaN</td>\n",
       "      <td>NaN</td>\n",
       "      <td>NaN</td>\n",
       "      <td>NaN</td>\n",
       "      <td>False</td>\n",
       "      <td>True</td>\n",
       "    </tr>\n",
       "    <tr>\n",
       "      <th>1</th>\n",
       "      <td>NaN</td>\n",
       "      <td>NaN</td>\n",
       "      <td>NaN</td>\n",
       "      <td>NaN</td>\n",
       "      <td>NaN</td>\n",
       "      <td>True</td>\n",
       "      <td>False</td>\n",
       "    </tr>\n",
       "    <tr>\n",
       "      <th>2</th>\n",
       "      <td>502.00</td>\n",
       "      <td>498.90</td>\n",
       "      <td>475.60</td>\n",
       "      <td>363.20</td>\n",
       "      <td>700.00</td>\n",
       "      <td>False</td>\n",
       "      <td>False</td>\n",
       "    </tr>\n",
       "    <tr>\n",
       "      <th>3</th>\n",
       "      <td>459.00</td>\n",
       "      <td>508.50</td>\n",
       "      <td>507.20</td>\n",
       "      <td>466.70</td>\n",
       "      <td>880.00</td>\n",
       "      <td>False</td>\n",
       "      <td>False</td>\n",
       "    </tr>\n",
       "    <tr>\n",
       "      <th>4</th>\n",
       "      <td>402.50</td>\n",
       "      <td>379.20</td>\n",
       "      <td>446.90</td>\n",
       "      <td>338.30</td>\n",
       "      <td>560.00</td>\n",
       "      <td>False</td>\n",
       "      <td>False</td>\n",
       "    </tr>\n",
       "  </tbody>\n",
       "</table>\n",
       "</div>"
      ],
      "text/plain": [
       "   NU_NOTA_CN  NU_NOTA_CH  NU_NOTA_LC  NU_NOTA_MT  NU_NOTA_REDACAO  \\\n",
       "0         NaN         NaN         NaN         NaN              NaN   \n",
       "1         NaN         NaN         NaN         NaN              NaN   \n",
       "2      502.00      498.90      475.60      363.20           700.00   \n",
       "3      459.00      508.50      507.20      466.70           880.00   \n",
       "4      402.50      379.20      446.90      338.30           560.00   \n",
       "\n",
       "   pai_possui_superior  mae_possui_superior  \n",
       "0                False                 True  \n",
       "1                 True                False  \n",
       "2                False                False  \n",
       "3                False                False  \n",
       "4                False                False  "
      ]
     },
     "execution_count": 65,
     "metadata": {},
     "output_type": "execute_result"
    }
   ],
   "source": [
    "# Criando df com as notas e nível de instrução dos pais e mães\n",
    "df_instrucao_pais = df_enem.loc[:, colunas_notas + ['pai_possui_superior', 'mae_possui_superior']]\n",
    "df_instrucao_pais.head()"
   ]
  },
  {
   "cell_type": "code",
   "execution_count": 67,
   "id": "58bb55ff",
   "metadata": {},
   "outputs": [
    {
     "name": "stdout",
     "output_type": "stream",
     "text": [
      "📊 Percentual de pais com ensino superior:\n",
      "pai_possui_superior\n",
      "False    85.0%\n",
      "True     15.0%\n",
      "Name: proportion, dtype: object\n",
      "\n",
      "📊 Percentual de mães com ensino superior:\n",
      "mae_possui_superior\n",
      "False    77.19%\n",
      "True     22.81%\n",
      "Name: proportion, dtype: object\n"
     ]
    }
   ],
   "source": [
    "# Contando os valores únicos\n",
    "percentual_pai = df_instrucao_pais['pai_possui_superior'].value_counts(normalize=True) * 100\n",
    "percentual_mae = df_instrucao_pais['mae_possui_superior'].value_counts(normalize=True) * 100\n",
    "\n",
    "# Exibindo os resultados formatados\n",
    "print(\"📊 Percentual de pais com ensino superior:\")\n",
    "print(percentual_pai.round(2).astype(str) + '%')\n",
    "\n",
    "print(\"\\n📊 Percentual de mães com ensino superior:\")\n",
    "print(percentual_mae.round(2).astype(str) + '%')\n"
   ]
  },
  {
   "cell_type": "code",
   "execution_count": 66,
   "id": "12970ea2",
   "metadata": {},
   "outputs": [
    {
     "data": {
      "image/png": "[encoded data removed]",
      "text/plain": [
       "<Figure size 1000x400 with 4 Axes>"
      ]
     },
     "metadata": {},
     "output_type": "display_data"
    }
   ],
   "source": [
    "# Analisando as notas por nivel instrução pais\n",
    "sns.set_style(\"darkgrid\")\n",
    "figura, graficos = plt.subplots(1, 4, sharey=True, figsize=(10,4))\n",
    "plt.tight_layout()\n",
    "\n",
    "for i in range(4):\n",
    "    coluna_1 = colunas_notas[i]\n",
    "    sns.boxplot(data=df_instrucao_pais, y=coluna_1, x='pai_possui_superior', ax=graficos[i])"
   ]
  },
  {
   "cell_type": "code",
   "execution_count": 68,
   "id": "1e05f8fa",
   "metadata": {},
   "outputs": [
    {
     "data": {
      "image/png": "[encoded data removed]",
      "text/plain": [
       "<Figure size 1000x400 with 4 Axes>"
      ]
     },
     "metadata": {},
     "output_type": "display_data"
    }
   ],
   "source": [
    "# Analisando as notas por nivel instrução mães\n",
    "sns.set_style(\"darkgrid\")\n",
    "figura, graficos = plt.subplots(1, 4, sharey=True, figsize=(10,4))\n",
    "plt.tight_layout()\n",
    "\n",
    "for i in range(4):\n",
    "    coluna_1 = colunas_notas[i]\n",
    "    sns.boxplot(data=df_instrucao_pais, y=coluna_1, x='mae_possui_superior', ax=graficos[i])"
   ]
  },
  {
   "cell_type": "code",
   "execution_count": 72,
   "id": "b6dee934",
   "metadata": {},
   "outputs": [
    {
     "data": {
      "text/plain": [
       "<Axes: xlabel='TP_FAIXA_ETARIA', ylabel='NU_NOTA_CN'>"
      ]
     },
     "execution_count": 72,
     "metadata": {},
     "output_type": "execute_result"
    },
    {
     "data": {
      "image/png": "[encoded data removed]",
      "text/plain": [
       "<Figure size 640x480 with 1 Axes>"
      ]
     },
     "metadata": {},
     "output_type": "display_data"
    }
   ],
   "source": [
    "# Analisando correlação de idades com notas\n",
    "df_idade = df_enem.loc[:, colunas_notas + ['TP_FAIXA_ETARIA']]\n",
    "\n",
    "sns.scatterplot(data=df_idade, x='TP_FAIXA_ETARIA', y='NU_NOTA_CN')"
   ]
  },
  {
   "cell_type": "code",
   "execution_count": 73,
   "id": "447c08df",
   "metadata": {},
   "outputs": [
    {
     "data": {
      "text/plain": [
       "<Axes: >"
      ]
     },
     "execution_count": 73,
     "metadata": {},
     "output_type": "execute_result"
    },
    {
     "data": {
      "image/png": "[encoded data removed]",
      "text/plain": [
       "<Figure size 640x480 with 2 Axes>"
      ]
     },
     "metadata": {},
     "output_type": "display_data"
    }
   ],
   "source": [
    "# Analisando correlação de pearson entre as notas e a idade\n",
    "correlacoes_idade = df_idade.corr()\n",
    "sns.heatmap(correlacoes_idade)"
   ]
  },
  {
   "cell_type": "code",
   "execution_count": 75,
   "id": "f1fe96db",
   "metadata": {},
   "outputs": [
    {
     "data": {
      "text/plain": [
       "<Axes: xlabel='renda_familiar', ylabel='NU_NOTA_CN'>"
      ]
     },
     "execution_count": 75,
     "metadata": {},
     "output_type": "execute_result"
    },
    {
     "data": {
      "image/png": "[encoded data removed]",
      "text/plain": [
       "<Figure size 640x480 with 1 Axes>"
      ]
     },
     "metadata": {},
     "output_type": "display_data"
    }
   ],
   "source": [
    "# Analisando a renda\n",
    "df_renda = df_enem.loc[:, colunas_notas + ['renda_familiar']]\n",
    "\n",
    "sns.scatterplot(data=df_renda, x='renda_familiar', y='NU_NOTA_CN')\n"
   ]
  },
  {
   "cell_type": "code",
   "execution_count": 76,
   "id": "9a4cad18",
   "metadata": {},
   "outputs": [
    {
     "data": {
      "text/plain": [
       "<Axes: >"
      ]
     },
     "execution_count": 76,
     "metadata": {},
     "output_type": "execute_result"
    },
    {
     "data": {
      "image/png": "[encoded data removed]",
      "text/plain": [
       "<Figure size 640x480 with 2 Axes>"
      ]
     },
     "metadata": {},
     "output_type": "display_data"
    }
   ],
   "source": [
    "# Analisando correlação de pearson entre a renda familiar e a idade\n",
    "correlacoes_renda = df_renda.corr()\n",
    "sns.heatmap(correlacoes_renda)"
   ]
  },
  {
   "cell_type": "markdown",
   "id": "ceedd3ba",
   "metadata": {},
   "source": [
    "## <a> Conclusões </a>\n",
    "\n",
    "Depois de analisar os dados com o objetivo de avaliar possíveis relações entre características dos candidatos e as notas dos mesmos, podemos afirmar que existe alguma evidência de que há correlações entre as notas:\n",
    "- raça (principalmente indígenas)\n",
    "- escolaridade dos pais (notas de matemática muito influenciadas)\n",
    "- renda familiar na nota de matemática (correlação pouco acima de 0,5)\n",
    "\n",
    "Não pudemos confirmar com essa amostra que sexo, idade, atendimento especializado tem relação com as notas.\n",
    "\n",
    "Ficou claro que a grande maioria dos candidatos é de origem \"humilde\" com renda familiar inferior a R$2.000,00\n",
    "\n",
    "O candidato \"padrão\" do ENEM é mulher, com 18 anos, solteira, parda, com renda familiar inferior a R$1.500,00 com ambos pai e mãe sem ensino superior completo.\n"
   ]
  },
  {
   "cell_type": "code",
   "execution_count": null,
   "id": "02129ad6",
   "metadata": {},
   "outputs": [],
   "source": []
  }
 ],
 "metadata": {
  "kernelspec": {
   "display_name": "Python 3",
   "language": "python",
   "name": "python3"
  },
  "language_info": {
   "codemirror_mode": {
    "name": "ipython",
    "version": 3
   },
   "file_extension": ".py",
   "mimetype": "text/x-python",
   "name": "python",
   "nbconvert_exporter": "python",
   "pygments_lexer": "ipython3",
   "version": "3.11.9"
  }
 },
 "nbformat": 4,
 "nbformat_minor": 5
}
